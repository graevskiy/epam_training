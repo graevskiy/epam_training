{
 "cells": [
  {
   "cell_type": "code",
   "execution_count": 1,
   "metadata": {},
   "outputs": [],
   "source": [
    "from IPython.core.interactiveshell import InteractiveShell\n",
    "InteractiveShell.ast_node_interactivity = \"all\""
   ]
  },
  {
   "cell_type": "code",
   "execution_count": 2,
   "metadata": {},
   "outputs": [],
   "source": [
    "import random\n",
    "import string"
   ]
  },
  {
   "cell_type": "code",
   "execution_count": 3,
   "metadata": {},
   "outputs": [],
   "source": [
    "%load_ext memory_profiler\n",
    "%load_ext line_profiler"
   ]
  },
  {
   "cell_type": "markdown",
   "metadata": {},
   "source": [
    "## 1. Read/write to a dict.\n",
    "### 1.1 Read - existing key"
   ]
  },
  {
   "cell_type": "code",
   "execution_count": 4,
   "metadata": {},
   "outputs": [],
   "source": [
    "# create and populate dict\n",
    "d = {}\n",
    "for i in range(1000):\n",
    "    rand_num = random.randint(-255, 255)\n",
    "    d[i] = rand_num"
   ]
  },
  {
   "cell_type": "code",
   "execution_count": 5,
   "metadata": {},
   "outputs": [],
   "source": [
    "# set a function\n",
    "def f(d, k):\n",
    "    if k in d:\n",
    "        return d[k]\n",
    "    return None"
   ]
  },
  {
   "cell_type": "code",
   "execution_count": 6,
   "metadata": {},
   "outputs": [
    {
     "name": "stdout",
     "output_type": "stream",
     "text": [
      "70.1 ns ± 1 ns per loop (mean ± std. dev. of 7 runs, 10000000 loops each)\n",
      "114 ns ± 3.68 ns per loop (mean ± std. dev. of 7 runs, 10000000 loops each)\n",
      "149 ns ± 6.3 ns per loop (mean ± std. dev. of 7 runs, 10000000 loops each)\n",
      "216 ns ± 6.54 ns per loop (mean ± std. dev. of 7 runs, 1000000 loops each)\n",
      "215 ns ± 10.1 ns per loop (mean ± std. dev. of 7 runs, 1000000 loops each)\n"
     ]
    }
   ],
   "source": [
    "%timeit d[456] #(1)\n",
    "%timeit d.get(456, None) #(2)\n",
    "%timeit d[456] if 456 in d else None #(3)\n",
    "%timeit f(d, 456) #(4)\n",
    "l = lambda d, k: None if k not in d else d[k]\n",
    "%timeit l(d, 456) #(5)"
   ]
  },
  {
   "cell_type": "code",
   "execution_count": 7,
   "metadata": {},
   "outputs": [
    {
     "name": "stdout",
     "output_type": "stream",
     "text": [
      "90 ns ± 4.64 ns per loop (mean ± std. dev. of 7 runs, 10000000 loops each)\n"
     ]
    }
   ],
   "source": [
    "%%timeit\n",
    "try: # (6)\n",
    "    d[456]\n",
    "except KeyError:\n",
    "    None"
   ]
  },
  {
   "cell_type": "markdown",
   "metadata": {},
   "source": [
    "доступ к существующему ключу:\n",
    "1. самый быстрый способ (1) - просто получить доступ по ключу (хешу), при этом метод (6) так же быстр если ключ существует\n",
    "1. в полтора раза медленнее (!) использование get (2) либо простой if (3) проверяющий тестируемый ключ на существование.\n",
    "Полагаю что под капотом у get реализован примерно такой if\n",
    "1. Вызовы именованной (4) и лямбда (5) функций работают практически одинаково плохо. Оверхед на их вызовы достаточно велик."
   ]
  },
  {
   "cell_type": "markdown",
   "metadata": {},
   "source": [
    "### 1.2 Read - Non existing key"
   ]
  },
  {
   "cell_type": "code",
   "execution_count": 8,
   "metadata": {},
   "outputs": [
    {
     "name": "stdout",
     "output_type": "stream",
     "text": [
      "61.9 ns ± 1.9 ns per loop (mean ± std. dev. of 7 runs, 10000000 loops each)\n",
      "93.6 ns ± 1.45 ns per loop (mean ± std. dev. of 7 runs, 10000000 loops each)\n",
      "158 ns ± 7.6 ns per loop (mean ± std. dev. of 7 runs, 10000000 loops each)\n",
      "157 ns ± 4.06 ns per loop (mean ± std. dev. of 7 runs, 10000000 loops each)\n"
     ]
    }
   ],
   "source": [
    "%timeit d[2000] if 2000 in d else None #(1)\n",
    "%timeit d.get(2000, None) #(2)\n",
    "%timeit f(d, 2000) #(3)\n",
    "l = lambda d, k: None if k not in d else d[k]\n",
    "%timeit l(d, 2000) #(4)"
   ]
  },
  {
   "cell_type": "code",
   "execution_count": 9,
   "metadata": {},
   "outputs": [
    {
     "name": "stdout",
     "output_type": "stream",
     "text": [
      "311 ns ± 12.9 ns per loop (mean ± std. dev. of 7 runs, 1000000 loops each)\n"
     ]
    }
   ],
   "source": [
    "%%timeit\n",
    "#(5)\n",
    "try:\n",
    "    d[2000]\n",
    "except KeyError:\n",
    "    None"
   ]
  },
  {
   "cell_type": "markdown",
   "metadata": {},
   "source": [
    "Проверка несуществующего ключа:\n",
    "1. if для несуществующего ключа (1) работает так же быстро как обычный доступ по клюу при его наличии. Стоит заметить, что результат - вдвое быстрее, чем когда ключ существует. Вполне возможно это происходит из-за коллизий (два примера ниже, возможно, могут это подтвердить)\n",
    "2. get (2) работает примерно за то же время что и при существующем ключе (немного быстрее). Это ожидаемо похоже на if\n",
    "3. вызовы функций (3) и (4) все также работают меденнее чем предыдущие реализации. но при этом быстрее чем в случае с существующим ключом.\n",
    "4. лидер антирейтинга (5) try except работает крайне медленно, вероятно из-за необходимости провести нетривиаьные действия по обработке исключения"
   ]
  },
  {
   "cell_type": "code",
   "execution_count": 10,
   "metadata": {},
   "outputs": [
    {
     "name": "stdout",
     "output_type": "stream",
     "text": [
      "73.8 ns ± 2.52 ns per loop (mean ± std. dev. of 7 runs, 10000000 loops each)\n",
      "58.4 ns ± 1.34 ns per loop (mean ± std. dev. of 7 runs, 10000000 loops each)\n"
     ]
    }
   ],
   "source": [
    "# see, access to existing key is way slower. \n",
    "# this has to deal with (I assume) collisions and comparing keys themselves (when hasshes are the same).\n",
    "# see below\n",
    "%timeit 456 in d\n",
    "%timeit 2000 in d"
   ]
  },
  {
   "cell_type": "code",
   "execution_count": 11,
   "metadata": {},
   "outputs": [
    {
     "name": "stdout",
     "output_type": "stream",
     "text": [
      "47.5 ns ± 1.46 ns per loop (mean ± std. dev. of 7 runs, 10000000 loops each)\n",
      "49.2 ns ± 2.33 ns per loop (mean ± std. dev. of 7 runs, 10000000 loops each)\n"
     ]
    }
   ],
   "source": [
    "# this shows that with very little chance of collision access to existing vs non-existing key takes about the same time\n",
    "a = {'veryuniquestring': 0, 'iamnotlikeanyoneinthisuniverse': 1}\n",
    "%timeit 'veryuniquestring' in a\n",
    "%timeit 'somerandomthing' in a"
   ]
  },
  {
   "cell_type": "markdown",
   "metadata": {},
   "source": [
    "### 1.3 Write"
   ]
  },
  {
   "cell_type": "code",
   "execution_count": 12,
   "metadata": {},
   "outputs": [
    {
     "name": "stdout",
     "output_type": "stream",
     "text": [
      "75.9 ns ± 1.51 ns per loop (mean ± std. dev. of 7 runs, 10000000 loops each)\n",
      "108 ns ± 1.58 ns per loop (mean ± std. dev. of 7 runs, 10000000 loops each)\n",
      "255 ns ± 7.5 ns per loop (mean ± std. dev. of 7 runs, 1000000 loops each)\n"
     ]
    }
   ],
   "source": [
    "%timeit d[1000] = 0 #(1)\n",
    "%timeit d.setdefault(1001, 0) #(2)\n",
    "%timeit d.update({1002: 0}) #(3)"
   ]
  },
  {
   "cell_type": "markdown",
   "metadata": {},
   "source": [
    "Запись в словарь:\n",
    "1. запись по ключу (1) - самый быстрый метод. равен доступу по ключу.\n",
    "2. setdefault (2), видимо, содержит в себе накладные расходы на свой вызов и проверку на существование ключа (время сопоставимо с get\n",
    "3. update (3) по всей видимости создает объект словаря прежде чем сливать. Отсюда такое время выполнения"
   ]
  },
  {
   "cell_type": "markdown",
   "metadata": {},
   "source": [
    "### 1.4 Checking memory usage for dicts"
   ]
  },
  {
   "cell_type": "code",
   "execution_count": 13,
   "metadata": {},
   "outputs": [
    {
     "name": "stdout",
     "output_type": "stream",
     "text": [
      "Overwriting dict_set.py\n"
     ]
    }
   ],
   "source": [
    "%%writefile dict_set.py\n",
    "\n",
    "from memory_profiler import profile\n",
    "\n",
    "@profile\n",
    "def track_dict_set():\n",
    "    dict_plain = {}\n",
    "    for i in range(1000, 10000):\n",
    "        dict_plain[i] = i**10\n",
    "\n",
    "    dict_set = {}\n",
    "    for i in range(1000, 10000):\n",
    "        dict_set.setdefault(i, i**10)\n",
    "\n",
    "    dict_upd = {}\n",
    "    for i in range(1000, 10000):\n",
    "        dict_upd.update({i: i**10})\n",
    "\n",
    "if __name__ == \"__main__\":\n",
    "    track_dict_set()"
   ]
  },
  {
   "cell_type": "code",
   "execution_count": 14,
   "metadata": {},
   "outputs": [
    {
     "name": "stdout",
     "output_type": "stream",
     "text": [
      "Filename: dict_set.py\n",
      "\n",
      "Line #    Mem usage    Increment   Line Contents\n",
      "================================================\n",
      "     4     39.3 MiB     39.3 MiB   @profile\n",
      "     5                             def track_dict_set():\n",
      "     6     39.3 MiB      0.0 MiB       dict_plain = {}\n",
      "     7     40.6 MiB      0.0 MiB       for i in range(1000, 10000):\n",
      "     8     40.6 MiB      0.3 MiB           dict_plain[i] = i**10\n",
      "     9                             \n",
      "    10     40.6 MiB      0.0 MiB       dict_set = {}\n",
      "    11     41.6 MiB      0.0 MiB       for i in range(1000, 10000):\n",
      "    12     41.6 MiB      0.3 MiB           dict_set.setdefault(i, i**10)\n",
      "    13                             \n",
      "    14     41.6 MiB      0.0 MiB       dict_upd = {}\n",
      "    15     42.6 MiB      0.0 MiB       for i in range(1000, 10000):\n",
      "    16     42.6 MiB      0.3 MiB           dict_upd.update({i: i**10})\n",
      "\n",
      "\n"
     ]
    }
   ],
   "source": [
    "!python dict_set.py"
   ]
  },
  {
   "cell_type": "markdown",
   "metadata": {},
   "source": [
    "Судя по отчету профилировщика выше все три метода работают с (приблизительно) одинаковым потреблением памяти"
   ]
  },
  {
   "cell_type": "markdown",
   "metadata": {},
   "source": [
    "## 2. List elements apply.\n",
    "### 2.1 time exploring"
   ]
  },
  {
   "cell_type": "code",
   "execution_count": 15,
   "metadata": {},
   "outputs": [],
   "source": [
    "experimental_list = [''.join(random.choices(string.ascii_lowercase, k=20)) for i in range(1000)]"
   ]
  },
  {
   "cell_type": "code",
   "execution_count": 16,
   "metadata": {},
   "outputs": [],
   "source": [
    "def upper_list(l):\n",
    "    res = []\n",
    "    for i in l:\n",
    "        res.append(i.upper())\n",
    "    return res\n",
    "\n",
    "def compare_list_updates(l):\n",
    "    a = list(map(str.upper, l))\n",
    "    b = [x.upper() for x in l]\n",
    "    c = list(x.upper() for x in l)\n",
    "    d = upper_list(l)"
   ]
  },
  {
   "cell_type": "code",
   "execution_count": 17,
   "metadata": {},
   "outputs": [
    {
     "name": "stdout",
     "output_type": "stream",
     "text": [
      "\n",
      "*** Profile printout saved to text file 'str_list_upper_lprun.txt'. \n"
     ]
    }
   ],
   "source": [
    "%lprun -f compare_list_updates -T str_list_upper_lprun.txt compare_list_updates(experimental_list)"
   ]
  },
  {
   "cell_type": "code",
   "execution_count": 18,
   "metadata": {},
   "outputs": [
    {
     "name": "stdout",
     "output_type": "stream",
     "text": [
      "Timer unit: 1e-07 s\n",
      "\n",
      "Total time: 0.0034077 s\n",
      "File: <ipython-input-16-9bb8126a32c0>\n",
      "Function: compare_list_updates at line 7\n",
      "\n",
      "Line #      Hits         Time  Per Hit   % Time  Line Contents\n",
      "==============================================================\n",
      "     7                                           def compare_list_updates(l):\n",
      "     8         1       2742.0   2742.0      8.0      a = list(map(str.upper, l))\n",
      "     9         1       6962.0   6962.0     20.4      b = [x.upper() for x in l]\n",
      "    10         1       9888.0   9888.0     29.0      c = list(x.upper() for x in l)\n",
      "    11         1      14485.0  14485.0     42.5      d = upper_list(l)\n"
     ]
    }
   ],
   "source": [
    "with open('str_list_upper_lprun.txt', 'r') as f:\n",
    "    print(f.read())"
   ]
  },
  {
   "cell_type": "markdown",
   "metadata": {},
   "source": [
    "используя для сравнительного анализа информацию из '% Time' можно увидеть что list-map самый быстрый способ (тоже скомпилирован на С?).\n",
    "интересно что list comprehension быстрее вызова конструктора list с передачей ему генераторного выражения.\n",
    "Аутсайдер - вызов самописной именованной функции которая итеративно наполняет вновь созданный результирующий лист."
   ]
  },
  {
   "cell_type": "code",
   "execution_count": 19,
   "metadata": {},
   "outputs": [
    {
     "name": "stdout",
     "output_type": "stream",
     "text": [
      "124 µs ± 28.9 µs per loop (mean ± std. dev. of 7 runs, 1000 loops each)\n",
      "112 µs ± 3.71 µs per loop (mean ± std. dev. of 7 runs, 10000 loops each)\n",
      "154 µs ± 20.6 µs per loop (mean ± std. dev. of 7 runs, 10000 loops each)\n",
      "152 µs ± 12.1 µs per loop (mean ± std. dev. of 7 runs, 10000 loops each)\n"
     ]
    }
   ],
   "source": [
    "l = experimental_list\n",
    "%timeit a = list(map(str.upper, l))\n",
    "%timeit b = [x.upper() for x in l]\n",
    "%timeit c = list(x.upper() for x in l)\n",
    "%timeit d = upper_list(l)"
   ]
  },
  {
   "cell_type": "markdown",
   "metadata": {},
   "source": [
    "при использовании %timeit езультаты несколько отличаются. стоит отметить что результаты timeit в общем случае быстрее чем lprun (list-map занимает 108 vs 143.1 микросекунды)\n",
    "1. разница между list-map и list comprehension незаметна.\n",
    "2. list конструктор-генераторное выражение работает примерно так же как самописная именованная функция"
   ]
  },
  {
   "cell_type": "markdown",
   "metadata": {},
   "source": [
    "### 2.2 Memory expolring"
   ]
  },
  {
   "cell_type": "code",
   "execution_count": 20,
   "metadata": {},
   "outputs": [],
   "source": [
    "%memit?"
   ]
  },
  {
   "cell_type": "code",
   "execution_count": 21,
   "metadata": {},
   "outputs": [
    {
     "name": "stdout",
     "output_type": "stream",
     "text": [
      "peak memory: 52.48 MiB, increment: 0.10 MiB\n",
      "peak memory: 52.48 MiB, increment: 0.00 MiB\n",
      "peak memory: 52.48 MiB, increment: 0.00 MiB\n",
      "peak memory: 52.48 MiB, increment: 0.00 MiB\n"
     ]
    }
   ],
   "source": [
    "%memit -r 3 list(map(str.upper, l))\n",
    "%memit -r 3 [x.upper() for x in l]\n",
    "%memit -r 3 list(x.upper() for x in l)\n",
    "%memit -r 3 upper_list(l)"
   ]
  },
  {
   "cell_type": "code",
   "execution_count": 22,
   "metadata": {},
   "outputs": [
    {
     "name": "stdout",
     "output_type": "stream",
     "text": [
      "peak memory: 52.48 MiB, increment: 0.00 MiB\n"
     ]
    }
   ],
   "source": [
    "%memit g = (x.upper() for x in l)"
   ]
  },
  {
   "cell_type": "markdown",
   "metadata": {},
   "source": [
    "результаты данного теста можно поставить под сомнение (перепроверить), тк все варианты дают абсолютно одинаковый результат. В моем представлении генераторное выражение должно возвращать сам генератор (являющийся ленивым). Те не брать сразу всю память (как описано по ссылке)\n",
    "https://realpython.com/list-comprehension-python/#choose-generators-for-large-datasets"
   ]
  },
  {
   "cell_type": "markdown",
   "metadata": {},
   "source": [
    "#### profiling numeric lists"
   ]
  },
  {
   "cell_type": "code",
   "execution_count": 34,
   "metadata": {},
   "outputs": [],
   "source": [
    "l = [random.randint(-255, 255) for _ in range(100000)]"
   ]
  },
  {
   "cell_type": "code",
   "execution_count": 39,
   "metadata": {},
   "outputs": [
    {
     "name": "stdout",
     "output_type": "stream",
     "text": [
      "Overwriting num_list_funcs.py\n"
     ]
    }
   ],
   "source": [
    "%%writefile num_list_funcs.py\n",
    "\n",
    "import random\n",
    "from memory_profiler import profile\n",
    "\n",
    "@profile\n",
    "def filter_list(l):\n",
    "    c = [x for x in l if x > 0]\n",
    "    a = filter(lambda x: x > 0, l)\n",
    "    b = list(filter(lambda x: x > 0, l))\n",
    "    del c, b\n",
    "    return a\n",
    "\n",
    "if __name__ == \"__main__\":\n",
    "    l = [random.randint(-255, 255) for _ in range(100000)]\n",
    "    filter_list(l)"
   ]
  },
  {
   "cell_type": "code",
   "execution_count": 36,
   "metadata": {},
   "outputs": [],
   "source": [
    "from num_list_funcs import filter_list"
   ]
  },
  {
   "cell_type": "code",
   "execution_count": 37,
   "metadata": {},
   "outputs": [],
   "source": [
    "%lprun -f filter_list filter_list(l)"
   ]
  },
  {
   "cell_type": "markdown",
   "metadata": {},
   "source": [
    "Мы видим что функция filter работает крайне быстро именно потому что возвращает итератор ничего по сути не выполняя.\n",
    "Также видно, что использование list comprehension предпочтительнее чем filter в связке с конструктором list - время выполнения кратно меньше (х2)"
   ]
  },
  {
   "cell_type": "markdown",
   "metadata": {},
   "source": [
    "при выполнении 'mprof run num_list_funcs.py' либо просто 'python num_list_funcs.py' из терминала видно что используемая память увеличивается на 0,4Мб \n",
    "на строке 10 (b = list(filter(lambda x: x > 0, l)))"
   ]
  },
  {
   "cell_type": "markdown",
   "metadata": {},
   "source": [
    "## Sort list\n"
   ]
  },
  {
   "cell_type": "code",
   "execution_count": 41,
   "metadata": {},
   "outputs": [],
   "source": [
    "l = [random.randint(-255, 255) for _ in range(100000)]"
   ]
  },
  {
   "cell_type": "code",
   "execution_count": 43,
   "metadata": {},
   "outputs": [
    {
     "name": "stdout",
     "output_type": "stream",
     "text": [
      "1.41 ms ± 14.3 µs per loop (mean ± std. dev. of 7 runs, 1000 loops each)\n",
      "820 µs ± 11.5 µs per loop (mean ± std. dev. of 7 runs, 1000 loops each)\n"
     ]
    }
   ],
   "source": [
    "%timeit sorted(l)\n",
    "%timeit l.sort()"
   ]
  },
  {
   "cell_type": "markdown",
   "metadata": {},
   "source": [
    "sorted конструирует новый список и поэтому разница в работу существенная. В остальном реализации должны быть идентичны"
   ]
  },
  {
   "cell_type": "code",
   "execution_count": 45,
   "metadata": {},
   "outputs": [
    {
     "name": "stdout",
     "output_type": "stream",
     "text": [
      "10.2 µs ± 815 ns per loop (mean ± std. dev. of 7 runs, 100000 loops each)\n",
      "9.2 µs ± 389 ns per loop (mean ± std. dev. of 7 runs, 100000 loops each)\n",
      "102 µs ± 860 ns per loop (mean ± std. dev. of 7 runs, 10000 loops each)\n"
     ]
    }
   ],
   "source": [
    "l = list(range(1000, -1, -1))\n",
    "%timeit sorted(l)\n",
    "l = list(range(0, 1001))\n",
    "%timeit sorted(l)\n",
    "l = list(random.randint(-255, 255) for _ in range(1000))\n",
    "%timeit sorted(l)"
   ]
  },
  {
   "cell_type": "markdown",
   "metadata": {},
   "source": [
    "как видно сортировка уже отсортированного либо убывающего списка производится много быстрее случайной последовательности. для убывающей последовательности по видимому основная оптимизация в этом случае - descending run: https://en.wikipedia.org/wiki/Timsort#Descending_runs"
   ]
  },
  {
   "cell_type": "code",
   "execution_count": 75,
   "metadata": {},
   "outputs": [
    {
     "name": "stdout",
     "output_type": "stream",
     "text": [
      "Overwriting test_list_sort.py\n"
     ]
    }
   ],
   "source": [
    "%%writefile test_list_sort.py\n",
    "\n",
    "import random\n",
    "from memory_profiler import profile\n",
    "\n",
    "@profile\n",
    "def main():\n",
    "    l = [random.randint(-255, 255) for _ in range(100000)]\n",
    "    a = sorted(l)\n",
    "    b = l.sort()\n",
    "    \n",
    "if __name__ == \"__main__\":\n",
    "    main()"
   ]
  },
  {
   "cell_type": "code",
   "execution_count": 76,
   "metadata": {},
   "outputs": [
    {
     "name": "stdout",
     "output_type": "stream",
     "text": [
      "Filename: test_list_sort.py\n",
      "\n",
      "Line #    Mem usage    Increment   Line Contents\n",
      "================================================\n",
      "     5     39.5 MiB     39.5 MiB   @profile\n",
      "     6                             def main():\n",
      "     7     42.6 MiB      0.4 MiB       l = [random.randint(-255, 255) for _ in range(100000)]\n",
      "     8     43.2 MiB      0.6 MiB       a = sorted(l)\n",
      "     9     43.2 MiB      0.0 MiB       b = l.sort()\n",
      "\n",
      "\n"
     ]
    }
   ],
   "source": [
    "!python test_list_sort.py"
   ]
  },
  {
   "cell_type": "markdown",
   "metadata": {},
   "source": [
    "как и предполагалось, sorted вернул отсортированный список и занял дополнительные ~0,5 Мб. метод sort сделал все inplace"
   ]
  },
  {
   "cell_type": "markdown",
   "metadata": {},
   "source": [
    "### Flatten list"
   ]
  },
  {
   "cell_type": "code",
   "execution_count": 33,
   "metadata": {},
   "outputs": [],
   "source": [
    "l = [[1,2,3], 4, [5, 6, [7, 8, 9, [10, 11], 12, [13]]]] * 999"
   ]
  },
  {
   "cell_type": "code",
   "execution_count": 16,
   "metadata": {},
   "outputs": [],
   "source": [
    "def get_for_loop_iterator(values):\n",
    "    for i in values:\n",
    "        if isinstance(i, list):\n",
    "            yield from get_for_loop_iterator(i)\n",
    "        else:\n",
    "            yield i"
   ]
  },
  {
   "cell_type": "code",
   "execution_count": 111,
   "metadata": {},
   "outputs": [
    {
     "name": "stdout",
     "output_type": "stream",
     "text": [
      "585 µs ± 34.5 µs per loop (mean ± std. dev. of 7 runs, 1000 loops each)\n"
     ]
    }
   ],
   "source": [
    "%timeit list(get_for_loop_iterator(l))"
   ]
  },
  {
   "cell_type": "code",
   "execution_count": 34,
   "metadata": {},
   "outputs": [],
   "source": [
    "l = [[1,2,3], 4, [5, 6, [7, 8, 9, [10, 11], 12, [13]]]] * 999"
   ]
  },
  {
   "cell_type": "code",
   "execution_count": 35,
   "metadata": {},
   "outputs": [],
   "source": [
    "def flatten_without_rec(non_flat):    \n",
    "    flat = []    \n",
    "    while non_flat: #runs until the given list is empty.        \n",
    "        e = non_flat.pop()            \n",
    "        if type(e) == list: #checks the type of the poped item.                \n",
    "            non_flat.extend(e) #if list extend the item to given list.\n",
    "        else:        \n",
    "            flat.append(e) #if not list then add it to the flat list.            \n",
    "    return flat"
   ]
  },
  {
   "cell_type": "code",
   "execution_count": 9,
   "metadata": {},
   "outputs": [
    {
     "name": "stdout",
     "output_type": "stream",
     "text": [
      "174 ns ± 8.43 ns per loop (mean ± std. dev. of 7 runs, 10000000 loops each)\n"
     ]
    }
   ],
   "source": [
    "%timeit flatten_without_rec(l)"
   ]
  },
  {
   "cell_type": "markdown",
   "metadata": {},
   "source": [
    "функция на генераторах get_even_for_loop_iterator (из прошлого дз) работает почти в 3 раза медленнее чем решение с geeksforgeeks (flatten_without_rec). Причина, вероятно, в том, что flatten_without_rec не использует рекурсию и таким образом не тратит время на рекурсивные вызовы."
   ]
  },
  {
   "cell_type": "code",
   "execution_count": 31,
   "metadata": {},
   "outputs": [
    {
     "name": "stdout",
     "output_type": "stream",
     "text": [
      "Overwriting test_flatten_list.py\n"
     ]
    }
   ],
   "source": [
    "%%writefile test_flatten_list.py\n",
    "\n",
    "from memory_profiler import profile\n",
    "\n",
    "\n",
    "def get_for_loop_iterator(values):\n",
    "    for i in values:\n",
    "        if isinstance(i, list):\n",
    "            yield from get_for_loop_iterator(i)\n",
    "        else:\n",
    "            yield i\n",
    "\n",
    "\n",
    "def flatten_without_rec(non_flat):    \n",
    "    flat = []    \n",
    "    while non_flat: #runs until the given list is empty.        \n",
    "        e = non_flat.pop()            \n",
    "        if type(e) == list: #checks the type of the poped item.                \n",
    "            non_flat.extend(e) #if list extend the item to given list.\n",
    "        else:        \n",
    "            flat.append(e) #if not list then add it to the flat list.            \n",
    "    return flat\n",
    "\n",
    "@profile\n",
    "def main():\n",
    "    l = [[1,2,3], 4, [5, 6, [7, 8, 9, [10, 11], 12, [13]]]] * 999    \n",
    "    res1 = list(get_for_loop_iterator(l))\n",
    "    l = [[1,2,3], 4, [5, 6, [7, 8, 9, [10, 11], 12, [13]]]] * 999\n",
    "    res2 = flatten_without_rec(l)\n",
    "    \n",
    "if __name__ == \"__main__\":\n",
    "    main()\n",
    "\n"
   ]
  },
  {
   "cell_type": "code",
   "execution_count": 32,
   "metadata": {},
   "outputs": [
    {
     "name": "stdout",
     "output_type": "stream",
     "text": [
      "Filename: test_flatten_list.py\n",
      "\n",
      "Line #    Mem usage    Increment   Line Contents\n",
      "================================================\n",
      "    23     39.4 MiB     39.4 MiB   @profile\n",
      "    24                             def main():\n",
      "    25     39.4 MiB      0.0 MiB       l = [[1,2,3], 4, [5, 6, [7, 8, 9, [10, 11], 12, [13]]]] * 999    \n",
      "    26     39.7 MiB      0.3 MiB       res1 = list(get_for_loop_iterator(l))\n",
      "    27     39.7 MiB      0.0 MiB       l = [[1,2,3], 4, [5, 6, [7, 8, 9, [10, 11], 12, [13]]]] * 999\n",
      "    28     39.7 MiB      0.0 MiB       res2 = flatten_without_rec(l)\n",
      "\n",
      "\n"
     ]
    }
   ],
   "source": [
    "!python test_flatten_list.py"
   ]
  },
  {
   "cell_type": "markdown",
   "metadata": {},
   "source": [
    "не совсем понятно почему, но профилировщик заявляет что память не выделяется ни на одном шаге больше чем в самом начале программы. Анна, если можете посмотреть где ошибка, буду очень признателен.\n",
    "P.S. при увеличении с х99 до х999 размера входного массива видно что рекурсивная функция ест 0,3 Мб."
   ]
  }
 ],
 "metadata": {
  "kernelspec": {
   "display_name": "Python 3",
   "language": "python",
   "name": "python3"
  },
  "language_info": {
   "codemirror_mode": {
    "name": "ipython",
    "version": 3
   },
   "file_extension": ".py",
   "mimetype": "text/x-python",
   "name": "python",
   "nbconvert_exporter": "python",
   "pygments_lexer": "ipython3",
   "version": "3.7.6"
  }
 },
 "nbformat": 4,
 "nbformat_minor": 4
}
