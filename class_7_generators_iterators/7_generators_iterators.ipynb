{
 "cells": [
  {
   "cell_type": "code",
   "execution_count": 1,
   "metadata": {},
   "outputs": [
    {
     "name": "stdout",
     "output_type": "stream",
     "text": [
      "-done-\n"
     ]
    }
   ],
   "source": [
    "# -- run me first --\n",
    "from pprint import pprint  # for pretty printing\n",
    "# display all outputs, not only last one\n",
    "from IPython.core.interactiveshell import InteractiveShell\n",
    "InteractiveShell.ast_node_interactivity = \"all\"\n",
    "print(\"-done-\")"
   ]
  },
  {
   "cell_type": "markdown",
   "metadata": {},
   "source": [
    "<center>🐍</center>"
   ]
  },
  {
   "cell_type": "markdown",
   "metadata": {},
   "source": [
    "***\n",
    "# 7. Генераторы и Итераторы\n",
    "<div style=\"text-align: right; font-weight: bold\">Aleksandr Koriagin</div>\n",
    "<div style=\"text-align: right; font-weight: bold\"><span style=\"color: #76CDD8;\">&lt;</span>epam<span style=\"color: #76CDD8;\">&gt;</span></div>\n",
    "<div style=\"text-align: right; font-weight: bold\">May 2020</div>\n",
    "<div style=\"text-align: right; font-style: italic\">Nizhny Novgorod</div>"
   ]
  },
  {
   "cell_type": "markdown",
   "metadata": {},
   "source": [
    "***\n",
    "## Оглавление<a id=\"0\"></a>"
   ]
  },
  {
   "cell_type": "markdown",
   "metadata": {},
   "source": [
    "1. [Определения](#1)\n",
    "2. [Контейнеры](#2)\n",
    "3. [Итерируемые объекты](#3)\n",
    "4. [Итераторы](#4)\n",
    "5. [Генераторы](#5)\n",
    "    1. Типы генераторов\n",
    "6. [Заключение](#6)\n",
    "7. [Дополнения](#7)\n",
    "    1. Множественные `yield`\n",
    "    1. Исключения в генераторах\n",
    "8. [Расширенный синтаксис генераторов](#8)\n",
    "    1. Использование yield как выражения / Сопрограммы / Coroutines\n",
    "    1. Использование return в генераторах\n",
    "    1. Использование yield from\n",
    "9. [Домашняя работа](#9)"
   ]
  },
  {
   "cell_type": "code",
   "execution_count": null,
   "metadata": {},
   "outputs": [],
   "source": [
    "%%bash\n",
    "# generate table of contents\n",
    "cat 7_generators_iterators.ipynb | grep \"##\" | grep -v \"cat\" | sed  \"s/#/    /g\" | tr -d '\"'"
   ]
  },
  {
   "cell_type": "markdown",
   "metadata": {},
   "source": [
    "***\n",
    "## 1. Определения<a id=\"1\"></a>"
   ]
  },
  {
   "cell_type": "markdown",
   "metadata": {},
   "source": [
    "Рано или поздно всякий Python-разработчик сталкивается с осознанием того, что он не до конца понимает смысл и различия следующих понятий:\n",
    "\n",
    "* контейнер (container)\n",
    "* итерируемый объект (iterable)\n",
    "* итератор (iterator)\n",
    "* генератор (generator)\n",
    "* генераторное выражение (generator expression)\n",
    "* списочное включение (list comprehension)\n",
    "\n",
    "Для начала будет неплохо ознакомиться с небольшой шпаргалкой, которая в будущем может пригодится, если вдруг снова забудете что к чему."
   ]
  },
  {
   "cell_type": "markdown",
   "metadata": {},
   "source": [
    "![reference](7_generators_iterators_files/relationships.png \"Reference\")"
   ]
  },
  {
   "cell_type": "markdown",
   "metadata": {},
   "source": [
    "## 2. Контейнеры<a id=\"2\"></a>"
   ]
  },
  {
   "cell_type": "markdown",
   "metadata": {},
   "source": [
    "Контейнер — это тип данных, предназначенный для хранения элементов и предоставляющий набор операций для работы с ними. Сами контейнеры и, как правило, их элементы хранятся в памяти. В Python существует масса разнообразных контейнеров, среди которых всем хорошо знакомые:\n",
    "\n",
    "* `list`, `deque`, …\n",
    "* `set`, `frozensets`, …\n",
    "* `dict`, `defaultdict`, `OrderedDict`, `Counter`, …\n",
    "* `tuple`, `namedtuple`, …\n",
    "* `str`\n",
    "\n",
    "Контейнеры легко понять, проведя аналогию с реальным миром: контейнер можно рассматривать как некую коробку, в которой хранятся вещи.\n",
    "\n",
    "Технически объект является контейнером тогда, когда он предоставляет возможность определить наличие или отсутствие в нём конкретного элемента. Например, проверка вхождения элемента в список, кортеж или множество выполняется следующим образом:"
   ]
  },
  {
   "cell_type": "code",
   "execution_count": null,
   "metadata": {},
   "outputs": [],
   "source": [
    "1 in     [1, 2, 3]      # списки\n",
    "4 not in [1, 2, 3]\n",
    "1 in     {1, 2, 3}      # множества\n",
    "4 not in {1, 2, 3}\n",
    "1 in     (1, 2, 3)      # кортежи\n",
    "4 not in (1, 2, 3)"
   ]
  },
  {
   "cell_type": "markdown",
   "metadata": {},
   "source": [
    "Применительно к словарям операция проверки вхождения работает с ключами словаря:"
   ]
  },
  {
   "cell_type": "code",
   "execution_count": null,
   "metadata": {},
   "outputs": [],
   "source": [
    "d = {1: 'foo', 2: 'bar', 3: 'qux'}\n",
    "1 in d\n",
    "4 not in d\n",
    "'foo' not in d  # 'foo' не является _ключом_ словаря"
   ]
  },
  {
   "cell_type": "markdown",
   "metadata": {},
   "source": [
    "Ну и, наконец, подобным образом вы можете выполнять проверку вхождения подстроки в строку:"
   ]
  },
  {
   "cell_type": "code",
   "execution_count": null,
   "metadata": {},
   "outputs": [],
   "source": [
    "s = 'foobar'\n",
    "'b' in s\n",
    "'x' not in s\n",
    "'foo' in s"
   ]
  },
  {
   "cell_type": "markdown",
   "metadata": {},
   "source": [
    "Последний пример выглядит немного странно, но он является хорошим примером применения интерфейса контейнеров. Хотя строка в буквальном смысле и не хранит все возможные подстроки в памяти, тем не менее, благодаря контейнерному интерфейсу мы имеем возможность выполнять поиск подстрок подобным образом.\n",
    "\n",
    "Обратите внимание, что несмотря на то, что большинство контейнеров предоставляют возможность извлекать из них любой элемент, само по себе наличие этой возможности не делает объект контейнером, а лишь **итерируемым объектом**, о чём будет рассказано дальше. Также, контейнер не обязан быть итерируемым. Например, [фильтр Блума](https://ru.wikipedia.org/wiki/%D0%A4%D0%B8%D0%BB%D1%8C%D1%82%D1%80_%D0%91%D0%BB%D1%83%D0%BC%D0%B0) предоставляет возможность узнать, содержится ли элемент в структуре данных, но при этом нет возможности извлекать из неё отдельные элементы."
   ]
  },
  {
   "cell_type": "markdown",
   "metadata": {},
   "source": [
    "## 3. Итерируемые объекты<a id=\"3\"></a>"
   ]
  },
  {
   "cell_type": "markdown",
   "metadata": {},
   "source": [
    "Как было уже сказано, большинство контейнеров являются итерируемыми. Но в то же время множество других типов данных являются итерируемыми, например, файлы, сокеты и тому подобные. В то время как контейнеры обычно содержат конечное количество элементов, просто итерируемый объект может представлять источник бесконечных данных.\n",
    "\n",
    "**Итерируемым объектом** является любой объект, который может предоставить **итератор**, который, в свою очередь, и возвращает отдельные элементы. На первый взгляд это звучит немного странновато, но тем не менее очень важно понимать разницу между интерируемым объектом и итератором. Рассмотрим пример:"
   ]
  },
  {
   "cell_type": "code",
   "execution_count": null,
   "metadata": {},
   "outputs": [],
   "source": [
    "x = [1, 2, 3]\n",
    "y = iter(x)\n",
    "z = iter(x)\n",
    "\n",
    "next(y)\n",
    "next(y)\n",
    "next(z)\n",
    "\n",
    "type(x)\n",
    "type(y)"
   ]
  },
  {
   "cell_type": "markdown",
   "metadata": {},
   "source": [
    "Здесть `х` — это итерируемый объект, в то время как `y` и `z` два отдельных экземпляра итератора, производящего значения из итерируемого объекта `x`. Как видим, `y` и `z` сохраняют состояние между вызовами `next()`. В данном примере в качестве источника данных для итератора используется список, но это не является обязательным условием.\n",
    "\n",
    "Часто, чтобы сократить объем кода, классы итерируемых объектов имплементируют сразу оба метода: `__iter__()` и `__next__()`, при этом `__iter__()` возвращает `self`. Таким образом класс одновременно является и итерируемым и итератором самого себя. Однако, лучшей практикой всё же считается в качестве итератора возвращать отдельный объект."
   ]
  },
  {
   "cell_type": "markdown",
   "metadata": {},
   "source": [
    "Итак, когда выполняется следующий код:\n",
    "```python\n",
    "x = [1, 2, 3]\n",
    "for elem in x:\n",
    "    pass\n",
    "```\n",
    "вот что на самом деле происходит:\n",
    "![iterable-iterator](7_generators_iterators_files/iterable-vs-iterator.png \"iterable-iterator\")"
   ]
  },
  {
   "cell_type": "markdown",
   "metadata": {},
   "source": [
    "Если диассемблировать код, представленный выше, мы обнаружим вызов `GET_ITER`, который по сути является следствием вызова `iter(x)`. Инструкция `FOR_ITER` является эквивалентом многократного вызова `next()` до тех пор, пока не будет возвращён последний элемент. Этого, правда, не видно в байт-коде из-за оптимизаций, вносимых интерпретатором."
   ]
  },
  {
   "cell_type": "code",
   "execution_count": 2,
   "metadata": {},
   "outputs": [
    {
     "name": "stdout",
     "output_type": "stream",
     "text": [
      "  1           0 SETUP_LOOP              12 (to 14)\n",
      "              2 LOAD_NAME                0 (x)\n",
      "              4 GET_ITER\n",
      "        >>    6 FOR_ITER                 4 (to 12)\n",
      "              8 STORE_NAME               1 (_num)\n",
      "             10 JUMP_ABSOLUTE            6\n",
      "        >>   12 POP_BLOCK\n",
      "        >>   14 LOAD_CONST               0 (None)\n",
      "             16 RETURN_VALUE\n"
     ]
    }
   ],
   "source": [
    "import dis\n",
    "x = [1, 2, 3]\n",
    "dis.dis('for _num in x: pass')"
   ]
  },
  {
   "cell_type": "markdown",
   "metadata": {},
   "source": [
    "## 4. Итераторы<a id=\"4\"></a>"
   ]
  },
  {
   "cell_type": "markdown",
   "metadata": {},
   "source": [
    "Итак, чем же является итератор?\n",
    "<br>Итератор — это вспомогательный объект, возвращающий следующий элемент всякий раз, когда выполняется вызов функции `next()` с передачей этого объекта в качестве аргумента. Таким образом, любой объект, предоставляющий метод `__next__()`, является итератором, возвращающим следующий элемент при вызове этого метода, при этом совершенно неважно как именно это происходит.\n",
    "\n",
    "Итак, итератор — это некая фабрика по производству значений. Всякий раз, когда вы обращаетесь к ней с просьбой \"давай следующее значение\", она знает как сделать это, поскольку сохраняет своё внутреннее состояние между обращениями к ней.\n",
    "\n",
    "Существует бесчисленное множество примеров использования итераторов. Например, все функции пакета [`itertools`](https://docs.python.org/3/library/itertools.html) возвращают итераторы. \n",
    "\n",
    "Некоторые из которых генерируют бесконечные последовательности:"
   ]
  },
  {
   "cell_type": "code",
   "execution_count": null,
   "metadata": {},
   "outputs": [],
   "source": [
    "from itertools import count\n",
    "counter = count(start=13)\n",
    "next(counter)\n",
    "next(counter)"
   ]
  },
  {
   "cell_type": "markdown",
   "metadata": {},
   "source": [
    "Некоторые создают бесконечные последовательности из конечных:"
   ]
  },
  {
   "cell_type": "code",
   "execution_count": 4,
   "metadata": {},
   "outputs": [
    {
     "data": {
      "text/plain": [
       "<itertools.cycle at 0x19e31b45228>"
      ]
     },
     "execution_count": 4,
     "metadata": {},
     "output_type": "execute_result"
    },
    {
     "data": {
      "text/plain": [
       "'red'"
      ]
     },
     "execution_count": 4,
     "metadata": {},
     "output_type": "execute_result"
    },
    {
     "data": {
      "text/plain": [
       "'white'"
      ]
     },
     "execution_count": 4,
     "metadata": {},
     "output_type": "execute_result"
    },
    {
     "data": {
      "text/plain": [
       "'blue'"
      ]
     },
     "execution_count": 4,
     "metadata": {},
     "output_type": "execute_result"
    },
    {
     "data": {
      "text/plain": [
       "'red'"
      ]
     },
     "execution_count": 4,
     "metadata": {},
     "output_type": "execute_result"
    }
   ],
   "source": [
    "from itertools import cycle\n",
    "colors = cycle(['red', 'white', 'blue'])\n",
    "\n",
    "iter(colors)\n",
    "next(colors)\n",
    "next(colors)\n",
    "next(colors)\n",
    "next(colors)"
   ]
  },
  {
   "cell_type": "markdown",
   "metadata": {},
   "source": [
    "Или конечные последовательности из бесконечных:"
   ]
  },
  {
   "cell_type": "code",
   "execution_count": null,
   "metadata": {},
   "outputs": [],
   "source": [
    "from itertools import islice\n",
    "colors = cycle(['red', 'white', 'blue'])  # infinite\n",
    "limited = islice(colors, 0, 4)            # finite\n",
    "for x in limited:                         # so safe to use for-loop on\n",
    "    print(x)"
   ]
  },
  {
   "cell_type": "markdown",
   "metadata": {},
   "source": [
    "Чтобы лучше понять внутреннюю логику работы итераторов, давайте самостоятельно сделаем **итератор**, который будет генерировать последовательность [чисел Фибоначчи](https://ru.wikipedia.org/wiki/%D0%A7%D0%B8%D1%81%D0%BB%D0%B0_%D0%A4%D0%B8%D0%B1%D0%BE%D0%BD%D0%B0%D1%87%D1%87%D0%B8)."
   ]
  },
  {
   "cell_type": "code",
   "execution_count": 5,
   "metadata": {},
   "outputs": [
    {
     "data": {
      "text/plain": [
       "[1, 1, 2, 3, 5, 8, 13, 21, 34, 55, 89, 144, 233, 377, 610]"
      ]
     },
     "execution_count": 5,
     "metadata": {},
     "output_type": "execute_result"
    }
   ],
   "source": [
    "from itertools import islice\n",
    "class Fib:\n",
    "    def __init__(self):\n",
    "        self.prev = 0\n",
    "        self.curr = 1\n",
    "\n",
    "    def __iter__(self):\n",
    "        return self\n",
    "\n",
    "    def __next__(self):\n",
    "        value = self.curr\n",
    "        self.curr += self.prev\n",
    "        self.prev = value\n",
    "        return value\n",
    "\n",
    "fib = Fib()\n",
    "list(islice(fib, 0, 15))"
   ]
  },
  {
   "cell_type": "code",
   "execution_count": 10,
   "metadata": {},
   "outputs": [
    {
     "ename": "TypeError",
     "evalue": "iter() returned non-iterator of type 'FibFinit'",
     "output_type": "error",
     "traceback": [
      "\u001b[1;31m---------------------------------------------------------------------------\u001b[0m",
      "\u001b[1;31mTypeError\u001b[0m                                 Traceback (most recent call last)",
      "\u001b[1;32m<ipython-input-10-87fc0cc373da>\u001b[0m in \u001b[0;36m<module>\u001b[1;34m\u001b[0m\n\u001b[0;32m     17\u001b[0m \u001b[1;33m\u001b[0m\u001b[0m\n\u001b[0;32m     18\u001b[0m \u001b[0mfib\u001b[0m \u001b[1;33m=\u001b[0m \u001b[0mFibFinit\u001b[0m\u001b[1;33m(\u001b[0m\u001b[1;33m)\u001b[0m\u001b[1;33m\u001b[0m\u001b[1;33m\u001b[0m\u001b[0m\n\u001b[1;32m---> 19\u001b[1;33m \u001b[0mlist\u001b[0m\u001b[1;33m(\u001b[0m\u001b[0mfib\u001b[0m\u001b[1;33m)\u001b[0m\u001b[1;33m\u001b[0m\u001b[1;33m\u001b[0m\u001b[0m\n\u001b[0m\u001b[0;32m     20\u001b[0m \u001b[0miter\u001b[0m\u001b[1;33m(\u001b[0m\u001b[0mfib\u001b[0m\u001b[1;33m)\u001b[0m\u001b[1;33m\u001b[0m\u001b[1;33m\u001b[0m\u001b[0m\n\u001b[0;32m     21\u001b[0m \u001b[1;33m\u001b[0m\u001b[0m\n",
      "\u001b[1;31mTypeError\u001b[0m: iter() returned non-iterator of type 'FibFinit'"
     ]
    }
   ],
   "source": [
    "class FibFinit:\n",
    "    def __init__(self, stop=650):\n",
    "        self.prev = 0\n",
    "        self.curr = 1\n",
    "        self.stop = stop\n",
    "\n",
    "    def __iter__(self):  # try to disable\n",
    "        return self\n",
    "\n",
    "#     def __next__(self):\n",
    "#         if self.curr > self.stop:\n",
    "#             raise StopIteration\n",
    "#         value = self.curr\n",
    "#         self.curr += self.prev\n",
    "#         self.prev = value\n",
    "#         return value\n",
    "\n",
    "fib = FibFinit()\n",
    "list(fib)\n",
    "iter(fib)\n",
    "\n",
    "# fib = FibFinit()\n",
    "# next(fib)\n",
    "# next(fib)\n",
    "# next(fib)"
   ]
  },
  {
   "cell_type": "markdown",
   "metadata": {},
   "source": [
    "Обратите внимание, что приведённый выше класс одновременно является **итерируемым объектом** (поскольку реализует метод `__iter__()`) и **итератором** (поскольку реализует метод `__next__()`).\n",
    "\n",
    "Состояние этого итератора полностью хранится в переменных `prev` и `curr` экземпляра объекта, значение которых используется при каждом последующем обращении к итератору.\n",
    "\n",
    "Каждый вызов `next()` делает две важные вещи:\n",
    "1. модифицирует внутреннее состояние объекта;\n",
    "2. возвращает следующий элемент последовательности.\n",
    "\n",
    "Снаружи итератор напоминает фабрику по производству значений, которая \"спит\" до тех пор, пока у неё не попросят выдать очередное значение, после возврата которого фабрика снова \"засыпает\"."
   ]
  },
  {
   "cell_type": "markdown",
   "metadata": {},
   "source": [
    "## 5. Генераторы<a id=\"5\"></a>"
   ]
  },
  {
   "cell_type": "markdown",
   "metadata": {},
   "source": [
    "Итак, наконец-то мы добрались до самого интересного! Генераторы являются безумно интересной и полезной штукой в Python. Генератор — это особый, более изящный случай итератора.\n",
    "\n",
    "Используя генератор, вы можете создавать итераторы, вроде того, что мы рассмотрели выше, используя более лаконичный синтаксис, и не создавая при этом отдельный класс с методами `__iter__()` и `__next__()`.\n",
    "\n",
    "Давайте внесём немного ясности:\n",
    "* любой генератор является итератором (но не наоборот!);\n",
    "* следовательно, любой генератор является \"ленивой фабрикой\", возвращающей значения последовательности по требованию.\n",
    "\n",
    "Вот пример итератора последовательности чисел Фибоначчи в исполнении генератора:"
   ]
  },
  {
   "cell_type": "code",
   "execution_count": null,
   "metadata": {},
   "outputs": [],
   "source": [
    "def fib():\n",
    "    prev, curr = 0, 1\n",
    "    while True:\n",
    "        yield curr\n",
    "        prev, curr = curr, prev + curr\n",
    "\n",
    "f = fib()\n",
    "list(islice(f, 0, 15))"
   ]
  },
  {
   "cell_type": "markdown",
   "metadata": {},
   "source": [
    "Ну как? Не находите, что это выглядит намного элегантнее простого итератора? Весь секрет кроется в ключевом слове `yield`. Давайте разберёмся, что к чему.\n",
    "\n",
    "Во-первых, обратите внимание, что `fib` является обычной функцией, ничего особенного. Однако же, в ней отсутствует оператор `return`, возвращающий значение. В данном случае возвращаемым значением функции будет генератор (то есть, по сути, итератор — фабрика значений, сохраняющая состояние между обращениями к ней).\n",
    "\n",
    "Теперь, когда происходит вызов функции `fib`"
   ]
  },
  {
   "cell_type": "code",
   "execution_count": null,
   "metadata": {},
   "outputs": [],
   "source": [
    "fib()"
   ]
  },
  {
   "cell_type": "markdown",
   "metadata": {},
   "source": [
    "будет создан и возвращён экземпляр генератора. К данному моменту ещё никакого кода внутри функции не выполняется и генератор ожидает вызова.\n",
    "\n",
    "Дальше созданный экземпляр генератора передаётся в качестве аргумента функции `islice`, которая также возвращает итератор, следовательно также никакого кода функции `fib` пока что не выполняется.\n",
    "\n",
    "И, наконец, происходит вызов `list()` с передачей в качестве аргумента итератора, возвращённого функцией `islice()`. Чтобы `list()` смогла построить объект списка на основе полученного аргумента, ей необходимо получить все значения из этого аргумента. Для этого `list()` выполняет последовательные вызовы метода `next()` итератора, возвращённого вызовом `islice()`, который, в свою очередь, выполняет последовательные вызовы `next()` в экземпляре итератора `f`.\n",
    "\n",
    "При первом запросе значения итератора `f` будет выполнен код:\n",
    "```python\n",
    "prev, curr = 0, 1\n",
    "```\n",
    "После чего произойдёт вход в тело цикла и оператор `yield` вернёт первое значение. На этом работа кода внутри `f` будет приостановлена до следующего вызова `next()`. Значение, возвращенное при помощи `yield`, будет передано итератору `islice()`, который передаст его в `list()`, таким образом в список добавится значение.\n",
    "\n",
    "При втором и последующих обращениях к итератору `f` будет выполняться код с того места, где было прервано выполнение, то есть после вызова оператора `yield`. После того, как этот код будет выполнен, выполнение цикла начнётся заново и так же, как и при первом вызове, итератор будет возвращать очередное значение и \"засыпать\" в аккурат после вызова `yield`.\n",
    "\n",
    "Весь описанный процесс повторится 15 раз, до тех пор, пока `list()` не запросит у `islice()` 16й элемент, на что тот ответит выбросом исключения `StopIteration`, что будет свидетельствовать о том, что достигнут конец последовательности. Обратите внимание, что 16й элемент не будет сохранён в конечном объекте списка и память, отведённая под него, будет освобождена сборщиком мусора."
   ]
  },
  {
   "cell_type": "markdown",
   "metadata": {},
   "source": [
    "### Типы генераторов"
   ]
  },
  {
   "cell_type": "markdown",
   "metadata": {},
   "source": [
    "В Python существует два типа генераторов: \n",
    "* генераторные функции\n",
    "* генераторные выражения\n",
    "\n",
    "Генератором является любая функция, содержащая `yield` в любом месте её кода. Пример такого генератора мы только что рассмотрели. \n",
    "<br>Другой разновидностью генераторов в Python являются генераторные выражения, своим видом напоминающие списочные выражения. Использование генераторных выражений бывает очень хорошим решением в ряде случаев.\n",
    "\n",
    "Предположим, вы используете следующую конструкцию, чтобы создать список квадратов чисел:"
   ]
  },
  {
   "cell_type": "code",
   "execution_count": null,
   "metadata": {},
   "outputs": [],
   "source": [
    "numbers = [1, 2, 3, 4, 5, 6]\n",
    "\n",
    "[x * x for x in numbers]     # list comprehension\n",
    "{x * x for x in numbers}     # set comprehension\n",
    "{x: x * x for x in numbers}  # dict comprehension"
   ]
  },
  {
   "cell_type": "markdown",
   "metadata": {},
   "source": [
    "Или, используя генераторное выражение (обратите внимание, это НЕ кортеж!):"
   ]
  },
  {
   "cell_type": "code",
   "execution_count": 11,
   "metadata": {},
   "outputs": [
    {
     "data": {
      "text/plain": [
       "<generator object <genexpr> at 0x0000019E31C21648>"
      ]
     },
     "execution_count": 11,
     "metadata": {},
     "output_type": "execute_result"
    },
    {
     "data": {
      "text/plain": [
       "generator"
      ]
     },
     "execution_count": 11,
     "metadata": {},
     "output_type": "execute_result"
    },
    {
     "data": {
      "text/plain": [
       "1"
      ]
     },
     "execution_count": 11,
     "metadata": {},
     "output_type": "execute_result"
    },
    {
     "data": {
      "text/plain": [
       "4"
      ]
     },
     "execution_count": 11,
     "metadata": {},
     "output_type": "execute_result"
    },
    {
     "data": {
      "text/plain": [
       "[9, 16, 25, 36]"
      ]
     },
     "execution_count": 11,
     "metadata": {},
     "output_type": "execute_result"
    }
   ],
   "source": [
    "numbers = [1, 2, 3, 4, 5, 6]\n",
    "\n",
    "lazy_squares = (x * x for x in numbers)\n",
    "lazy_squares\n",
    "type(lazy_squares)\n",
    "\n",
    "next(lazy_squares)\n",
    "next(lazy_squares)\n",
    "list(lazy_squares)"
   ]
  },
  {
   "cell_type": "markdown",
   "metadata": {},
   "source": [
    "## 6. Заключение<a id=\"6\"></a>"
   ]
  },
  {
   "cell_type": "markdown",
   "metadata": {},
   "source": [
    "Генераторы являются потрясающей языковой конструкцией. Они позволяют писать код, используя меньше промежуточных переменных, снизить потребление памяти и ресурсов процессора, а также уменьшить объём самого кода. Если вы всё ещё не используете генераторы и хотели бы начать делать это, попробуйте начать с того, что обратите внимание на все участки вашего кода, имеющие вид:\n",
    "```python\n",
    "def something():\n",
    "    result = []\n",
    "    for ... in ...:\n",
    "        result.append(x)\n",
    "    return result\n",
    "```\n",
    "И замените их генераторами:\n",
    "```python\n",
    "def iter_something():\n",
    "    for ... in ...:\n",
    "        yield x\n",
    "```"
   ]
  },
  {
   "cell_type": "markdown",
   "metadata": {},
   "source": [
    "**Дополнительно**: [Итераторы и генераторы в Python](https://shepetko.com/ru/blog/python-iterable-iterators-generators); Original: [Iterables vs. Iterators vs. Generators](https://nvie.com/posts/iterators-vs-generators/)"
   ]
  },
  {
   "cell_type": "markdown",
   "metadata": {},
   "source": [
    "## 7. Дополнения<a id=\"7\"></a>"
   ]
  },
  {
   "cell_type": "markdown",
   "metadata": {},
   "source": [
    "### Множественные `yield`"
   ]
  },
  {
   "cell_type": "code",
   "execution_count": 12,
   "metadata": {},
   "outputs": [
    {
     "data": {
      "text/plain": [
       "['Yielding x2: 10', 'Yielding x3: 15', 'Yielding x4: 20']"
      ]
     },
     "execution_count": 12,
     "metadata": {},
     "output_type": "execute_result"
    },
    {
     "data": {
      "text/plain": [
       "'Yielding x2: 10'"
      ]
     },
     "execution_count": 12,
     "metadata": {},
     "output_type": "execute_result"
    },
    {
     "data": {
      "text/plain": [
       "'Yielding x3: 15'"
      ]
     },
     "execution_count": 12,
     "metadata": {},
     "output_type": "execute_result"
    },
    {
     "data": {
      "text/plain": [
       "'Yielding x4: 20'"
      ]
     },
     "execution_count": 12,
     "metadata": {},
     "output_type": "execute_result"
    },
    {
     "ename": "StopIteration",
     "evalue": "",
     "output_type": "error",
     "traceback": [
      "\u001b[1;31m---------------------------------------------------------------------------\u001b[0m",
      "\u001b[1;31mStopIteration\u001b[0m                             Traceback (most recent call last)",
      "\u001b[1;32m<ipython-input-12-e02c01859848>\u001b[0m in \u001b[0;36m<module>\u001b[1;34m\u001b[0m\n\u001b[0;32m     11\u001b[0m \u001b[0mnext\u001b[0m\u001b[1;33m(\u001b[0m\u001b[0mf\u001b[0m\u001b[1;33m)\u001b[0m\u001b[1;33m\u001b[0m\u001b[1;33m\u001b[0m\u001b[0m\n\u001b[0;32m     12\u001b[0m \u001b[0mnext\u001b[0m\u001b[1;33m(\u001b[0m\u001b[0mf\u001b[0m\u001b[1;33m)\u001b[0m\u001b[1;33m\u001b[0m\u001b[1;33m\u001b[0m\u001b[0m\n\u001b[1;32m---> 13\u001b[1;33m \u001b[0mnext\u001b[0m\u001b[1;33m(\u001b[0m\u001b[0mf\u001b[0m\u001b[1;33m)\u001b[0m\u001b[1;33m\u001b[0m\u001b[1;33m\u001b[0m\u001b[0m\n\u001b[0m",
      "\u001b[1;31mStopIteration\u001b[0m: "
     ]
    }
   ],
   "source": [
    "def gen(num):\n",
    "    yield f\"Yielding x2: {num * 2}\"\n",
    "    yield f\"Yielding x3: {num * 3}\"\n",
    "    yield f\"Yielding x4: {num * 4}\"\n",
    "\n",
    "f = gen(5)\n",
    "list(f)\n",
    "\n",
    "f = gen(5)\n",
    "next(f)\n",
    "next(f)\n",
    "next(f)\n",
    "next(f)"
   ]
  },
  {
   "cell_type": "markdown",
   "metadata": {},
   "source": [
    "### Исключения в генераторах"
   ]
  },
  {
   "cell_type": "markdown",
   "metadata": {},
   "source": [
    "Исключение `GeneratorExit` выбрасывается в месте вызова `yield` при удалении объекта генератора или вызове метода `.close()`. Это можно использовать для освобождения ресурсов.\n",
    "\n",
    "Выбросить произвольное исключение в месте вызова `yield` можно с помощью метода `.throw()`"
   ]
  },
  {
   "cell_type": "code",
   "execution_count": null,
   "metadata": {},
   "outputs": [],
   "source": [
    "def generate():\n",
    "    for value in [1, 2, 3]:\n",
    "        try:\n",
    "            yield value\n",
    "        except GeneratorExit:\n",
    "            print('Caught GeneratorExit, re-raising')\n",
    "            raise\n",
    "\n",
    "my_generator = generate()\n",
    "next(my_generator)\n",
    "my_generator.close()  # del my_generator"
   ]
  },
  {
   "cell_type": "markdown",
   "metadata": {},
   "source": [
    "***\n",
    "## 8. Расширенный синтаксис генераторов<a id=\"8\"></a>"
   ]
  },
  {
   "cell_type": "markdown",
   "metadata": {},
   "source": [
    "> далее текст больше для знакомства, что такое есть в Python"
   ]
  },
  {
   "cell_type": "markdown",
   "metadata": {},
   "source": [
    "### Использование yield как выражения / Сопрограммы / Coroutines"
   ]
  },
  {
   "cell_type": "markdown",
   "metadata": {},
   "source": [
    "Генератор может не только возвращать значения, но и принимать их на вход.\n",
    "\n",
    "Напишем простую реализацию генератора, который может складывать два аргумента, хранить историю результатов и выводить историю."
   ]
  },
  {
   "cell_type": "code",
   "execution_count": 13,
   "metadata": {},
   "outputs": [
    {
     "data": {
      "text/plain": [
       "generator"
      ]
     },
     "execution_count": 13,
     "metadata": {},
     "output_type": "execute_result"
    },
    {
     "name": "stdout",
     "output_type": "stream",
     "text": [
      "result: 3\n",
      "result: 130\n",
      "result: 666\n",
      "history: [3, 130, 666]\n"
     ]
    }
   ],
   "source": [
    "def calc():\n",
    "    history = []\n",
    "    while True:\n",
    "        x, y = (yield)\n",
    "        if x == 'h':\n",
    "            print(f\"history: {history}\")\n",
    "            continue\n",
    "        result = x + y\n",
    "        print(f\"result: {result}\")\n",
    "        history.append(result)\n",
    "\n",
    "c = calc()\n",
    "type(c)  # <type 'generator'>\n",
    "\n",
    "next(c)  # Необходимая инициация. Можно написать c.send(None)\n",
    "\n",
    "c.send([1, 2])\n",
    "c.send([100, 30])\n",
    "c.send([666, 0])\n",
    "c.send([\"h\", 0])\n",
    "c.close()          # Закрывем генератор"
   ]
  },
  {
   "cell_type": "markdown",
   "metadata": {},
   "source": [
    "Т.е. мы создали генератор, проинициализировали его и подаём ему входные данные.\n",
    "<br>Он, в свою очередь, эти данные обрабатывает и ***сохраняет своё состояние между вызовами до тех пор пока мы его не закрыли***. После каждого вызова генератор возвращает управление туда, откуда его вызвали. "
   ]
  },
  {
   "cell_type": "code",
   "execution_count": 14,
   "metadata": {},
   "outputs": [
    {
     "name": "stdout",
     "output_type": "stream",
     "text": [
      "1) a       \n",
      "2) IN=None, i=a       \n",
      "3) b \n",
      "4) IN=BBB, i=b \n",
      "5) c       \n",
      "6) IN=None, i=c       \n"
     ]
    }
   ],
   "source": [
    "def multi_yield():\n",
    "    vals = (\"a\", \"b\", \"c\", \"d\", \"e\", \"f\")\n",
    "    for i in vals:\n",
    "        IN = yield i\n",
    "        yield f\"IN={IN}, i={i}\"\n",
    "\n",
    "m = multi_yield()\n",
    "\n",
    "print(f\"1) {next(m)}       \")\n",
    "print(f\"2) {next(m)}       \")\n",
    "print(f\"3) {m.send('AAA')} \")\n",
    "print(f\"4) {m.send('BBB')} \")\n",
    "print(f\"5) {next(m)}       \")\n",
    "print(f\"6) {next(m)}       \")"
   ]
  },
  {
   "cell_type": "code",
   "execution_count": 15,
   "metadata": {},
   "outputs": [
    {
     "name": "stdout",
     "output_type": "stream",
     "text": [
      "1) next(G)    ==> 1    \n",
      "\n",
      "\n",
      "X=77, i=1\n",
      "2) G.send(77) ==> 2 \n",
      "\n",
      "\n",
      "X=88, i=2\n",
      "3) G.send(88) ==> 3 \n",
      "\n",
      "\n",
      "X=None, i=3\n",
      "4) next(G)    ==> 4    \n",
      "\n",
      "\n"
     ]
    }
   ],
   "source": [
    "# Больше примеров\n",
    "def gen():\n",
    "    for i in range(1, 10):\n",
    "        X = yield i\n",
    "        print(f\"X={X}, i={i}\")\n",
    "\n",
    "G = gen()\n",
    "\n",
    "print(f\"1) next(G)    ==> {next(G)}    \\n\\n\")\n",
    "\n",
    "print(f\"2) G.send(77) ==> {G.send(77)} \\n\\n\")\n",
    "print(f\"3) G.send(88) ==> {G.send(88)} \\n\\n\")\n",
    "\n",
    "print(f\"4) next(G)    ==> {next(G)}    \\n\\n\")"
   ]
  },
  {
   "cell_type": "code",
   "execution_count": 16,
   "metadata": {},
   "outputs": [
    {
     "data": {
      "text/plain": [
       "10"
      ]
     },
     "execution_count": 16,
     "metadata": {},
     "output_type": "execute_result"
    },
    {
     "data": {
      "text/plain": [
       "11"
      ]
     },
     "execution_count": 16,
     "metadata": {},
     "output_type": "execute_result"
    },
    {
     "data": {
      "text/plain": [
       "<generator object gen_with_reset at 0x0000019E31C21948>"
      ]
     },
     "execution_count": 16,
     "metadata": {},
     "output_type": "execute_result"
    },
    {
     "data": {
      "text/plain": [
       "5"
      ]
     },
     "execution_count": 16,
     "metadata": {},
     "output_type": "execute_result"
    },
    {
     "data": {
      "text/plain": [
       "6"
      ]
     },
     "execution_count": 16,
     "metadata": {},
     "output_type": "execute_result"
    },
    {
     "data": {
      "text/plain": [
       "[7, 8, 9, 10, 11, 12, 13, 14]"
      ]
     },
     "execution_count": 16,
     "metadata": {},
     "output_type": "execute_result"
    }
   ],
   "source": [
    "# Больше примеров\n",
    "def gen_with_reset(start, stop):\n",
    "    value = start\n",
    "    while value < stop:\n",
    "        sent = (yield value)  # yield принимает данные из вызывающего его кода\n",
    "        if sent is not None:  # If value provided, change counter\n",
    "            value = sent\n",
    "        else:\n",
    "            value = value + 1\n",
    "\n",
    "g = gen_with_reset(10, 15)\n",
    "next(g)  # Необходимая инициация. Можно написать c.send(None)\n",
    "next(g)\n",
    "\n",
    "g\n",
    "g.send(5)\n",
    "next(g)\n",
    "list(g)"
   ]
  },
  {
   "cell_type": "markdown",
   "metadata": {},
   "source": [
    "### Использование return в генераторах"
   ]
  },
  {
   "cell_type": "markdown",
   "metadata": {},
   "source": [
    "`return <something>` in a generator is now equivalent to `raise StopIteration(<something>)`"
   ]
  },
  {
   "cell_type": "code",
   "execution_count": 17,
   "metadata": {},
   "outputs": [
    {
     "data": {
      "text/plain": [
       "[10, 11]"
      ]
     },
     "execution_count": 17,
     "metadata": {},
     "output_type": "execute_result"
    },
    {
     "data": {
      "text/plain": [
       "10"
      ]
     },
     "execution_count": 17,
     "metadata": {},
     "output_type": "execute_result"
    },
    {
     "data": {
      "text/plain": [
       "11"
      ]
     },
     "execution_count": 17,
     "metadata": {},
     "output_type": "execute_result"
    },
    {
     "ename": "StopIteration",
     "evalue": "Enough, I'm sick and tired of this.",
     "output_type": "error",
     "traceback": [
      "\u001b[1;31m---------------------------------------------------------------------------\u001b[0m",
      "\u001b[1;31mStopIteration\u001b[0m                             Traceback (most recent call last)",
      "\u001b[1;32m<ipython-input-17-2fc89ef0d618>\u001b[0m in \u001b[0;36m<module>\u001b[1;34m\u001b[0m\n\u001b[0;32m     12\u001b[0m \u001b[0mnext\u001b[0m\u001b[1;33m(\u001b[0m\u001b[0mg\u001b[0m\u001b[1;33m)\u001b[0m\u001b[1;33m\u001b[0m\u001b[1;33m\u001b[0m\u001b[0m\n\u001b[0;32m     13\u001b[0m \u001b[0mnext\u001b[0m\u001b[1;33m(\u001b[0m\u001b[0mg\u001b[0m\u001b[1;33m)\u001b[0m\u001b[1;33m\u001b[0m\u001b[1;33m\u001b[0m\u001b[0m\n\u001b[1;32m---> 14\u001b[1;33m \u001b[0mnext\u001b[0m\u001b[1;33m(\u001b[0m\u001b[0mg\u001b[0m\u001b[1;33m)\u001b[0m\u001b[1;33m\u001b[0m\u001b[1;33m\u001b[0m\u001b[0m\n\u001b[0m",
      "\u001b[1;31mStopIteration\u001b[0m: Enough, I'm sick and tired of this."
     ]
    }
   ],
   "source": [
    "def gen_with_return(start):\n",
    "    value = start\n",
    "    while True:\n",
    "        if value > start + 1:\n",
    "            return \"Enough, I'm sick and tired of this.\"\n",
    "        yield value\n",
    "        value += 1\n",
    "\n",
    "list(gen_with_return(10))\n",
    "\n",
    "g = gen_with_return(10)\n",
    "next(g)\n",
    "next(g)\n",
    "next(g)"
   ]
  },
  {
   "cell_type": "markdown",
   "metadata": {},
   "source": [
    "### Использование yield from"
   ]
  },
  {
   "cell_type": "markdown",
   "metadata": {},
   "source": [
    "For basic purposes we can use plain generators to compute values and to pass those values around. \n",
    "The benefits of `yield from` should become clear when we know what it does and in which situations it can be used.\n",
    "\n",
    "Consider a generator that looks like this:"
   ]
  },
  {
   "cell_type": "code",
   "execution_count": null,
   "metadata": {},
   "outputs": [],
   "source": [
    "def generator():\n",
    "    for i in range(0, 10):\n",
    "        yield i\n",
    "    for j in range(10, 20):\n",
    "        yield j\n",
    "\n",
    "list(generator())"
   ]
  },
  {
   "cell_type": "markdown",
   "metadata": {},
   "source": [
    "Как и ожидалось, генератор выдает числа от 0 до 19.\n",
    "Допустим теперь мы хотим разделить этот генератор на два разных чтобы можно было использовать их отдельно."
   ]
  },
  {
   "cell_type": "code",
   "execution_count": 19,
   "metadata": {},
   "outputs": [
    {
     "data": {
      "text/plain": [
       "[0, 1, 2, 3, 4, 5, 6, 7, 8, 9, 10, 11, 12, 13, 14, 15, 16, 17, 18, 19]"
      ]
     },
     "execution_count": 19,
     "metadata": {},
     "output_type": "execute_result"
    }
   ],
   "source": [
    "def generator2():\n",
    "    for i in range(0, 10):\n",
    "        yield i\n",
    "\n",
    "def generator3():\n",
    "    for j in range(10, 20):\n",
    "        yield j\n",
    "\n",
    "def generator():\n",
    "    for i in generator2():\n",
    "        yield i\n",
    "    for j in generator3():\n",
    "        yield j\n",
    "\n",
    "list(generator())"
   ]
  },
  {
   "cell_type": "markdown",
   "metadata": {},
   "source": [
    "Эта версия `generator()` тоже выдает числа от 0 до 19.\n",
    "Но, возможно, это можно сделать проще?"
   ]
  },
  {
   "cell_type": "code",
   "execution_count": null,
   "metadata": {},
   "outputs": [],
   "source": [
    "def generator():\n",
    "    yield from generator2()\n",
    "    yield from generator3()\n",
    "\n",
    "list(generator())    "
   ]
  },
  {
   "cell_type": "markdown",
   "metadata": {},
   "source": [
    "Такой подход дает нам такой же результат и делает функцию более понятной."
   ]
  },
  {
   "cell_type": "code",
   "execution_count": 21,
   "metadata": {},
   "outputs": [
    {
     "data": {
      "text/plain": [
       "[0, 1, 2, 3, 4, 5, 6, 7, 8, 9, 10, 11, 12, 13, 14, 15, 16, 17, 18, 19]"
      ]
     },
     "execution_count": 21,
     "metadata": {},
     "output_type": "execute_result"
    }
   ],
   "source": [
    "# еще можно использовать itertools.chain\n",
    "from itertools import chain\n",
    "\n",
    "def generator():\n",
    "    yield from chain(generator2(), generator3())\n",
    "\n",
    "list(generator())        "
   ]
  },
  {
   "cell_type": "markdown",
   "metadata": {},
   "source": [
    "Другой пример"
   ]
  },
  {
   "cell_type": "code",
   "execution_count": null,
   "metadata": {},
   "outputs": [],
   "source": [
    "def reader():\n",
    "    for i in range(0, 4):\n",
    "        yield f'reader: {i}'\n",
    "\n",
    "def reader_wrapper(g):\n",
    "    for i in g:\n",
    "        yield i\n",
    "\n",
    "wrap = reader_wrapper(reader())\n",
    "list(wrap)"
   ]
  },
  {
   "cell_type": "markdown",
   "metadata": {},
   "source": [
    "Вместо итерирования по `reader()`, мы можем просто сделать `yield from` из него"
   ]
  },
  {
   "cell_type": "code",
   "execution_count": null,
   "metadata": {},
   "outputs": [],
   "source": [
    "def reader():\n",
    "    for i in range(0, 4):\n",
    "        yield f'reader: {i}'\n",
    "\n",
    "def reader_wrapper2(g):\n",
    "    yield from g\n",
    "\n",
    "list(reader_wrapper2(reader()))"
   ]
  },
  {
   "cell_type": "markdown",
   "metadata": {},
   "source": [
    "***\n",
    "## 9. Домашняя работа<a id=\"9\"></a>"
   ]
  },
  {
   "cell_type": "markdown",
   "metadata": {},
   "source": [
    "### HW 1."
   ]
  },
  {
   "cell_type": "markdown",
   "metadata": {},
   "source": [
    "Создайте свой аналог `zip` с точно таким же поведением и который возвращает итератор.\n",
    "<br>При реализации нельзя использовать `zip`, `itertools` или другие сторонние модули.\n",
    "```python\n",
    ">>> list(zip(['A', 'B', 'C'], [1, 2, 3]))\n",
    "    [('A', 1), ('B', 2), ('C', 3)]\n",
    "\n",
    ">>> list(zip('!', ['A', 'B', 'C', 'D'], range(1, 3)))\n",
    "    [('!', 'A', 1)]\n",
    "\n",
    ">>> list(zip('abcd', ['A', 'B', 'C', 'D'], range(0, 40)))\n",
    "    [('a', 'A', 0), ('b', 'B', 1), ('c', 'C', 2), ('d', 'D', 3)]\n",
    "```\n",
    "\n",
    "Используйте что сочтете нужным:\n",
    "<br>Или класс\n",
    "```python\n",
    "class CustomZip:\n",
    "    pass\n",
    "\n",
    "list(CustomZip(['A', 'B', 'C'], [1, 2, 3], (22, 33, 44, 55, 66)))\n",
    "# [('A', 1, 22), ('B', 2, 33), ('C', 3, 44)]\n",
    "```\n",
    "\n",
    "Или функцию:\n",
    "```python\n",
    "def CustomZip():\n",
    "    pass\n",
    "\n",
    "list(custom_zip(['A', 'B', 'C'], [1, 2, 3], (22, 33, 44, 55, 66)))\n",
    "# [('A', 1, 22), ('B', 2, 33), ('C', 3, 44)]\n",
    "```"
   ]
  },
  {
   "cell_type": "markdown",
   "metadata": {},
   "source": [
    "### HW 2."
   ]
  },
  {
   "cell_type": "markdown",
   "metadata": {},
   "source": [
    "Найдите все четные числа из списка `VALUES` тремя способами:\n",
    "* функция, которая возвращает `List[int]`\n",
    "* функция, которая возвращает `Generator`\n",
    "* функция, которая возвращает `List[int]`, но используя однострочный list comprehension\n",
    "\n",
    "```python\n",
    "from typing import Generator\n",
    "from typing import List\n",
    "\n",
    "VALUES = [\n",
    "    [[10, 11, 12], [13, 14, 15], [16, 17, 18]],\n",
    "    [[19, 20, 21], [22, 23, 24], [25, 26, 27]],\n",
    "    [[28, 29, 30], [31, 32, 33], [34, 35, 36]],\n",
    "]\n",
    "\n",
    "def get_even_for_loop(values: List) -> List[int]:\n",
    "    \"\"\"Return all even numbers using classical for loop.\n",
    "    :param values: input list of lists with values\n",
    "    :return: list with int values\n",
    "    \"\"\"\n",
    "    pass\n",
    "\n",
    "def get_even_for_loop_iterator(values: List) -> Generator:\n",
    "    \"\"\"Return all even numbers using classical for loop.\n",
    "    :param values: input list of lists with values\n",
    "    :return: generator with int values\n",
    "    \"\"\"\n",
    "    pass\n",
    "\n",
    "def get_even_list_comprehension(values: List) -> List[int]:\n",
    "    \"\"\"Return all even numbers in ONE LINE using list comprehension.\n",
    "    :param values: input list of lists with values\n",
    "    :return: list with int values\n",
    "    \"\"\"\n",
    "    pass\n",
    "\n",
    "print(get_even_for_loop(VALUES))\n",
    "print(list(get_even_for_loop_iterator(VALUES)))\n",
    "print(get_even_list_comprehension(VALUES))\n",
    "\n",
    "# [10, 12, 14, 16, 18, 20, 22, 24, 26, 28, 30, 32, 34, 36]\n",
    "# [10, 12, 14, 16, 18, 20, 22, 24, 26, 28, 30, 32, 34, 36]\n",
    "# [10, 12, 14, 16, 18, 20, 22, 24, 26, 28, 30, 32, 34, 36]\n",
    "```"
   ]
  },
  {
   "cell_type": "markdown",
   "metadata": {},
   "source": [
    "Не забываем использовать `pylint` + `black` + `isort`"
   ]
  },
  {
   "cell_type": "markdown",
   "metadata": {},
   "source": [
    "<center>🐍</center>"
   ]
  }
 ],
 "metadata": {
  "authors": [
   {
    "name": "Aleksandr Koriagin <Aleksandr_Koriagin@epam.com>"
   }
  ],
  "kernelspec": {
   "display_name": "Python 3",
   "language": "python",
   "name": "python3"
  },
  "language_info": {
   "codemirror_mode": {
    "name": "ipython",
    "version": 3
   },
   "file_extension": ".py",
   "mimetype": "text/x-python",
   "name": "python",
   "nbconvert_exporter": "python",
   "pygments_lexer": "ipython3",
   "version": "3.7.6"
  }
 },
 "nbformat": 4,
 "nbformat_minor": 2
}
