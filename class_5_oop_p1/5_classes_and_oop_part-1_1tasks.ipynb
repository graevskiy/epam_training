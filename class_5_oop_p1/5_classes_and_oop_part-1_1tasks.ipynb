{
 "cells": [
  {
   "cell_type": "code",
   "execution_count": null,
   "metadata": {},
   "outputs": [],
   "source": [
    "# -- run me first --\n",
    "from pprint import pprint  # for pretty printing\n",
    "# display all outputs, not only last one\n",
    "from IPython.core.interactiveshell import InteractiveShell\n",
    "InteractiveShell.ast_node_interactivity = \"all\"\n",
    "print(\"-done-\")"
   ]
  },
  {
   "cell_type": "markdown",
   "metadata": {},
   "source": [
    "<center>🐍</center>"
   ]
  },
  {
   "cell_type": "markdown",
   "metadata": {},
   "source": [
    "***\n",
    "# 5. Классы и ООП. Часть 1 - Практические задачи\n",
    "<div style=\"text-align: right; font-weight: bold\">Aleksandr Koriagin</div>\n",
    "<div style=\"text-align: right; font-weight: bold\"><span style=\"color: #76CDD8;\">&lt;</span>epam<span style=\"color: #76CDD8;\">&gt;</span></div>\n",
    "<div style=\"text-align: right; font-weight: bold\">May 2020</div>\n",
    "<div style=\"text-align: right; font-style: italic\">Nizhny Novgorod</div>"
   ]
  },
  {
   "cell_type": "markdown",
   "metadata": {},
   "source": [
    "***\n",
    "### Task \\#1: Full encapsulation"
   ]
  },
  {
   "cell_type": "code",
   "execution_count": 1,
   "metadata": {},
   "outputs": [
    {
     "name": "stdout",
     "output_type": "stream",
     "text": [
      "123\n"
     ]
    }
   ],
   "source": [
    "class Field:\n",
    "    def __init__(self):\n",
    "        self.__value = None\n",
    "\n",
    "    def set_value(self, value):\n",
    "        self.__value = value\n",
    "\n",
    "    def get_value(self):\n",
    "        return self.__value\n",
    "\n",
    "\n",
    "field = Field()\n",
    "field.set_value(123)\n",
    "print(field.get_value())"
   ]
  },
  {
   "cell_type": "markdown",
   "metadata": {},
   "source": [
    "### Task \\#2: Polymorphism"
   ]
  },
  {
   "cell_type": "code",
   "execution_count": 2,
   "metadata": {},
   "outputs": [
    {
     "name": "stdout",
     "output_type": "stream",
     "text": [
      "['1 mississippi', '2 mississippi', '3 mississippi']\n"
     ]
    }
   ],
   "source": [
    "from typing import List\n",
    "\n",
    "class Counter:\n",
    "    def __init__(self, values: List[int]):\n",
    "        self.values = values\n",
    "\n",
    "    def __add__(self, other: str):\n",
    "        return [f\"{value} {other}\" for value in self.values]\n",
    "\n",
    "print(Counter([1, 2, 3]) + \"mississippi\")"
   ]
  },
  {
   "cell_type": "markdown",
   "metadata": {},
   "source": [
    "### Task \\#3: Inheritance"
   ]
  },
  {
   "cell_type": "code",
   "execution_count": 3,
   "metadata": {},
   "outputs": [
    {
     "name": "stdout",
     "output_type": "stream",
     "text": [
      "(Created Teacher: Mr.Poopybutthole)\n",
      "(Created Student: Morty)\n",
      "Name: Mr.Poopybutthole, Age: 40, Salary: 3000\n",
      "Name: Morty, Age: 16, Grades: 75\n"
     ]
    }
   ],
   "source": [
    "class SchoolMember:\n",
    "    def __init__(self, name: str, age: int):\n",
    "        self.name = name\n",
    "        self.age = age\n",
    "        print(f\"(Created {self.__class__.__name__}: {self.name})\")\n",
    "\n",
    "    def show(self):\n",
    "        return f\"Name: {self.name}, Age: {self.age}\"        \n",
    "\n",
    "class Teacher(SchoolMember):\n",
    "    def __init__(self, name: str, age: int, salary: int):\n",
    "        super().__init__(name=name, age=age)\n",
    "        self.salary = salary\n",
    "\n",
    "    def show(self):\n",
    "        print(f\"{super().show()}, Salary: {self.salary}\")\n",
    "\n",
    "class Student(SchoolMember):\n",
    "    def __init__(self, name: str, age: int, grades):\n",
    "        super().__init__(name=name, age=age)\n",
    "        self.grades = grades\n",
    "\n",
    "    def show(self):\n",
    "        print(f\"{super().show()}, Grades: {self.grades}\")\n",
    "\n",
    "persons = [Teacher(\"Mr.Poopybutthole\", 40, 3000), Student(\"Morty\", 16, 75)]\n",
    "for person in persons:\n",
    "    person.show()"
   ]
  },
  {
   "cell_type": "markdown",
   "metadata": {},
   "source": [
    "<center>🐍</center>"
   ]
  }
 ],
 "metadata": {
  "authors": [
   {
    "name": "Aleksandr Koriagin <Aleksandr_Koriagin@epam.com>"
   }
  ],
  "kernelspec": {
   "display_name": "Python 3",
   "language": "python",
   "name": "python3"
  },
  "language_info": {
   "codemirror_mode": {
    "name": "ipython",
    "version": 3
   },
   "file_extension": ".py",
   "mimetype": "text/x-python",
   "name": "python",
   "nbconvert_exporter": "python",
   "pygments_lexer": "ipython3",
   "version": "3.7.6"
  }
 },
 "nbformat": 4,
 "nbformat_minor": 2
}
