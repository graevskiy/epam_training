{
 "cells": [
  {
   "cell_type": "code",
   "execution_count": 22,
   "metadata": {},
   "outputs": [
    {
     "name": "stdout",
     "output_type": "stream",
     "text": [
      "-done-\n"
     ]
    }
   ],
   "source": [
    "# -- run me first --\n",
    "from pprint import pprint  # for pretty printing\n",
    "# display all outputs, not only last one\n",
    "from IPython.core.interactiveshell import InteractiveShell\n",
    "InteractiveShell.ast_node_interactivity = \"all\"\n",
    "print(\"-done-\")"
   ]
  },
  {
   "cell_type": "markdown",
   "metadata": {},
   "source": [
    "<center>🐍</center>"
   ]
  },
  {
   "cell_type": "markdown",
   "metadata": {},
   "source": [
    "***\n",
    "# 5. Классы и ООП. Часть 1 - Вопросы\n",
    "<div style=\"text-align: right; font-weight: bold\">Aleksandr Koriagin</div>\n",
    "<div style=\"text-align: right; font-weight: bold\"><span style=\"color: #76CDD8;\">&lt;</span>epam<span style=\"color: #76CDD8;\">&gt;</span></div>\n",
    "<div style=\"text-align: right; font-weight: bold\">May 2020</div>\n",
    "<div style=\"text-align: right; font-style: italic\">Nizhny Novgorod</div>"
   ]
  },
  {
   "cell_type": "markdown",
   "metadata": {},
   "source": [
    "## `__dict__`"
   ]
  },
  {
   "cell_type": "code",
   "execution_count": 2,
   "metadata": {},
   "outputs": [
    {
     "name": "stdout",
     "output_type": "stream",
     "text": [
      "['__class__', '__delattr__', '__dict__', '__dir__', '__doc__', '__eq__', '__format__', '__ge__', '__getattribute__', '__gt__', '__hash__', '__init__', '__init_subclass__', '__le__', '__lt__', '__module__', '__ne__', '__new__', '__reduce__', '__reduce_ex__', '__repr__', '__setattr__', '__sizeof__', '__str__', '__subclasshook__', '__weakref__', 'noop_attr', 'noop_foo', 'some_attr', 'some_bar']\n",
      "\n",
      "{'some_bar': <function bar at 0x000001AA8096B318>, 'some_attr': 'abc'}\n",
      "\n",
      "{'__module__': '__main__', 'noop_attr': 123, 'noop_foo': <function Noop.noop_foo at 0x000001AA8096B438>, '__dict__': <attribute '__dict__' of 'Noop' objects>, '__weakref__': <attribute '__weakref__' of 'Noop' objects>, '__doc__': None}\n"
     ]
    }
   ],
   "source": [
    "def bar():\n",
    "    print(\"bar\")\n",
    "\n",
    "class Noop:\n",
    "    noop_attr = 123\n",
    "    def noop_foo(self):\n",
    "        print(\"foo\")\n",
    "\n",
    "noop = Noop()\n",
    "noop.some_bar = bar\n",
    "noop.some_attr = \"abc\"\n",
    "\n",
    "print(dir(noop))\n",
    "print()\n",
    "print(noop.__dict__)  # объект\n",
    "print()\n",
    "print(noop.__class__.__dict__)  # класс объекта"
   ]
  },
  {
   "cell_type": "markdown",
   "metadata": {},
   "source": [
    "Дополнительно: [Пользовательские атрибуты в Python](https://habr.com/ru/post/137415/)"
   ]
  },
  {
   "cell_type": "code",
   "execution_count": 4,
   "metadata": {},
   "outputs": [
    {
     "name": "stdout",
     "output_type": "stream",
     "text": [
      "QQ\n"
     ]
    }
   ],
   "source": [
    "def bar():\n",
    "    print(\"QQ\")\n",
    "\n",
    "noop = Noop()\n",
    "noop.some_bar = bar\n",
    "noop.some_bar()"
   ]
  },
  {
   "cell_type": "code",
   "execution_count": 5,
   "metadata": {},
   "outputs": [
    {
     "name": "stdout",
     "output_type": "stream",
     "text": [
      "<__main__.Noop object at 0x000001AA808B1848>\n"
     ]
    }
   ],
   "source": [
    "def bar(self):\n",
    "    print(self)\n",
    "\n",
    "Noop.some_bar = bar\n",
    "Noop().some_bar()"
   ]
  },
  {
   "cell_type": "markdown",
   "metadata": {},
   "source": [
    "## `init` от конкретного класса"
   ]
  },
  {
   "cell_type": "code",
   "execution_count": 5,
   "metadata": {},
   "outputs": [
    {
     "name": "stdout",
     "output_type": "stream",
     "text": [
      "A.foo\n",
      "a\n"
     ]
    },
    {
     "data": {
      "text/plain": [
       "<__main__.C at 0x7f0f082aff10>"
      ]
     },
     "execution_count": 5,
     "metadata": {},
     "output_type": "execute_result"
    }
   ],
   "source": [
    "class A:\n",
    "    def __init__(self):\n",
    "        self.some = \"a\"\n",
    "        print(\"A.foo\")\n",
    "\n",
    "class B:\n",
    "    def __init__(self):\n",
    "        self.some = \"b\"\n",
    "        print(\"B.foo\")\n",
    "\n",
    "class C(A, B):\n",
    "    def __init__(self):\n",
    "        # по умолчанию наследование будет от родителя \"A\"\n",
    "        super().__init__()\n",
    "        print(self.some)\n",
    "\n",
    "C()"
   ]
  },
  {
   "cell_type": "code",
   "execution_count": 6,
   "metadata": {},
   "outputs": [
    {
     "name": "stdout",
     "output_type": "stream",
     "text": [
      "B.foo\n",
      "b\n"
     ]
    },
    {
     "data": {
      "text/plain": [
       "<__main__.C at 0x7f0f082adf90>"
      ]
     },
     "execution_count": 6,
     "metadata": {},
     "output_type": "execute_result"
    }
   ],
   "source": [
    "class A:\n",
    "    def __init__(self):\n",
    "        self.some = \"a\"\n",
    "        print(\"A.foo\")\n",
    "\n",
    "class B:\n",
    "    def __init__(self):\n",
    "        self.some = \"b\"\n",
    "        print(\"B.foo\")\n",
    "\n",
    "class C(A, B):\n",
    "    def __init__(self):\n",
    "        # используем init от конкретного родителя \"B\"\n",
    "        B.__init__(self)\n",
    "        print(self.some)\n",
    "\n",
    "C()"
   ]
  },
  {
   "cell_type": "markdown",
   "metadata": {},
   "source": [
    "Дополнительно: [Заряжай свои классы с помощью Python super ()](https://www.codeflow.site/ru/article/python-super)"
   ]
  },
  {
   "cell_type": "markdown",
   "metadata": {},
   "source": [
    "<center>🐍</center>"
   ]
  }
 ],
 "metadata": {
  "authors": [
   {
    "name": "Aleksandr Koriagin <Aleksandr_Koriagin@epam.com>"
   }
  ],
  "kernelspec": {
   "display_name": "Python 3",
   "language": "python",
   "name": "python3"
  },
  "language_info": {
   "codemirror_mode": {
    "name": "ipython",
    "version": 3
   },
   "file_extension": ".py",
   "mimetype": "text/x-python",
   "name": "python",
   "nbconvert_exporter": "python",
   "pygments_lexer": "ipython3",
   "version": "3.7.6"
  }
 },
 "nbformat": 4,
 "nbformat_minor": 2
}
