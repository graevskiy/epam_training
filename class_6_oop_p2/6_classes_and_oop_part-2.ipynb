{
 "cells": [
  {
   "cell_type": "code",
   "execution_count": 2,
   "metadata": {},
   "outputs": [
    {
     "name": "stdout",
     "output_type": "stream",
     "text": [
      "-done-\n"
     ]
    }
   ],
   "source": [
    "# -- run me first --\n",
    "from pprint import pprint  # for pretty printing\n",
    "# display all outputs, not only last one\n",
    "from IPython.core.interactiveshell import InteractiveShell\n",
    "InteractiveShell.ast_node_interactivity = \"all\"\n",
    "print(\"-done-\")"
   ]
  },
  {
   "cell_type": "markdown",
   "metadata": {},
   "source": [
    "<center>🐍</center>"
   ]
  },
  {
   "cell_type": "markdown",
   "metadata": {},
   "source": [
    "***\n",
    "# 6. Классы и ООП. Часть 2\n",
    "<div style=\"text-align: right; font-weight: bold\">Aleksandr Koriagin</div>\n",
    "<div style=\"text-align: right; font-weight: bold\"><span style=\"color: #76CDD8;\">&lt;</span>epam<span style=\"color: #76CDD8;\">&gt;</span></div>\n",
    "<div style=\"text-align: right; font-weight: bold\">May 2020</div>\n",
    "<div style=\"text-align: right; font-style: italic\">Nizhny Novgorod</div>"
   ]
  },
  {
   "cell_type": "markdown",
   "metadata": {},
   "source": [
    "***\n",
    "## Оглавление<a id=\"0\"></a>"
   ]
  },
  {
   "cell_type": "markdown",
   "metadata": {},
   "source": [
    "1. [Магические методы](#1)\n",
    "    1. `getattr` и `__getattr__`\n",
    "    1. `setattr` и `__setattr__`\n",
    "    1. Операторы сравнения\n",
    "    1. `__call__`\n",
    "    1. `__repr__` и `__str__`\n",
    "    1. `__hash__`\n",
    "2. [Дескрипторы](#2)\n",
    "    1. Зачем нам нужны дексрипторы?\n",
    "    1. Как использовать дескрипторы\n",
    "    1. Дескрипторы Python 3.6+\n",
    "    1. Подробнее про get, set, delete\n",
    "    1. Резюме\n",
    "    1. Практическая работа\n",
    "3. [Классы-примеси (mixins)](#3)\n",
    "4. [Модуль ABC (abstract base classes)](#4)\n",
    "    1. Практическая работа\n",
    "5. [Метаклассы](#5)\n",
    "    1. Классы как объекты\n",
    "    1. Динамическое создание классов\n",
    "    1. Что такое метакласс (наконец)\n",
    "    1. Атрибут `__metaclass__`\n",
    "    1. Пользовательские метаклассы\n",
    "    1. Зачем использовать метаклассы вместо функций?\n",
    "    1. Зачем вообще использовать метаклассы?\n",
    "    1. Напоследок\n",
    "6. [Домашнее задание](#6)"
   ]
  },
  {
   "cell_type": "code",
   "execution_count": null,
   "metadata": {},
   "outputs": [],
   "source": [
    "%%bash\n",
    "# generate table of contents\n",
    "cat 6_classes_and_oop_part-2.ipynb | grep \"##\" | grep -v \"cat\" | sed  \"s/#/    /g\" | tr -d '\"'"
   ]
  },
  {
   "cell_type": "markdown",
   "metadata": {},
   "source": [
    "***\n",
    "## 1. Магические методы<a id=\"1\"></a>"
   ]
  },
  {
   "cell_type": "markdown",
   "metadata": {},
   "source": [
    "\"Магическими\" называются внутренние методы классов, например, метод `__init__`.\n",
    "\n",
    "С помощью \"магических\" методов можно:\n",
    "* управлять доступом к атрибутам экземпляра, \n",
    "* перегрузить операторы, например, операторы сравнения или арифметические операторы, \n",
    "* определить строковое представление экземпляра или изменить способ его хеширования.\n",
    "\n",
    "Мы рассмотрим только часть наиболее используемых методов.\n",
    "<br>Подробное описание всех “магических” методов можно найти в документации языка. \n",
    "\n",
    "Дополнительно: [Special method names](https://docs.python.org/3/reference/datamodel.html#special-method-names)"
   ]
  },
  {
   "cell_type": "markdown",
   "metadata": {},
   "source": [
    "### `getattr` и `__getattr__`"
   ]
  },
  {
   "cell_type": "markdown",
   "metadata": {},
   "source": [
    "Метод `__getattr__` вызывается при попытке прочитать значение несуществующего атрибута"
   ]
  },
  {
   "cell_type": "code",
   "execution_count": 2,
   "metadata": {},
   "outputs": [
    {
     "data": {
      "text/plain": [
       "123"
      ]
     },
     "execution_count": 2,
     "metadata": {},
     "output_type": "execute_result"
    },
    {
     "data": {
      "text/plain": [
       "\"No such name: 'foo'\""
      ]
     },
     "execution_count": 2,
     "metadata": {},
     "output_type": "execute_result"
    }
   ],
   "source": [
    "class Nope:\n",
    "    bar = 123\n",
    "    def __getattr__(self, name):\n",
    "        return f\"No such name: '{name}'\"\n",
    "\n",
    "nope = Nope()\n",
    "nope.bar\n",
    "nope.foo"
   ]
  },
  {
   "cell_type": "markdown",
   "metadata": {},
   "source": [
    "Функция `getattr` позволяет безопасно получить значение атрибута экземпляра класса по его имени"
   ]
  },
  {
   "cell_type": "code",
   "execution_count": 3,
   "metadata": {},
   "outputs": [
    {
     "data": {
      "text/plain": [
       "1"
      ]
     },
     "execution_count": 3,
     "metadata": {},
     "output_type": "execute_result"
    },
    {
     "data": {
      "text/plain": [
       "'default value'"
      ]
     },
     "execution_count": 3,
     "metadata": {},
     "output_type": "execute_result"
    },
    {
     "data": {
      "text/plain": [
       "1"
      ]
     },
     "execution_count": 3,
     "metadata": {},
     "output_type": "execute_result"
    },
    {
     "name": "stdout",
     "output_type": "stream",
     "text": [
      "None\n"
     ]
    }
   ],
   "source": [
    "class A:\n",
    "    var_a = 1\n",
    "a = A()\n",
    "\n",
    "getattr(a, \"var_a\")\n",
    "getattr(a, \"b\", \"default value\")\n",
    "#getattr(a, \"b\")\n",
    "\n",
    "aa = {\"a\": 1}\n",
    "aa.get(\"a\")\n",
    "print(aa.get(\"bbbbb\"))"
   ]
  },
  {
   "cell_type": "markdown",
   "metadata": {},
   "source": [
    "### `setattr` и `__setattr__`"
   ]
  },
  {
   "cell_type": "markdown",
   "metadata": {},
   "source": [
    "Метод `__setattr__` позволяет управлять изменением значения.\n",
    "<br>В отличие от `__getattr__`, он вызываются для всех атрибутов, а не только для несуществующих.\n",
    "\n",
    "Во избежание рекурсии реализация метода не должна пытаться присвоить атрибут объекту обычным путём: `self.name = value.`\n",
    "<br>Вместо этого следует добавить атрибут в словарь атрибутов объекта, например: `self.__dict__[name] = value`.\n",
    "<br>При этом для классов нового стиля предпочтительно обратиться к методу базового класса: `object.__setattr__(self, name, value)`."
   ]
  },
  {
   "cell_type": "code",
   "execution_count": null,
   "metadata": {},
   "outputs": [],
   "source": [
    "class AccessControl:\n",
    "    permitted = (\"age\")\n",
    "\n",
    "    def __setattr__(self, attr, value):\n",
    "        if attr in self.permitted:\n",
    "            object.__setattr__(self, attr, value)  # self.__dict__[attr] = value\n",
    "        else:\n",
    "            raise AttributeError(f\"'{attr}' not allowed\")\n",
    "\n",
    "x = AccessControl()\n",
    "x.age = 40                # Вызовет метод __setattr__\n",
    "x.age\n",
    "x.name = 'pythonlearn'  # AttributeError"
   ]
  },
  {
   "cell_type": "markdown",
   "metadata": {},
   "source": [
    "Функция `setattr` добавляет атрибут:"
   ]
  },
  {
   "cell_type": "code",
   "execution_count": 4,
   "metadata": {},
   "outputs": [
    {
     "data": {
      "text/plain": [
       "{'aaa': 'value_aaa',\n",
       " 'bbb': 'value_bbb',\n",
       " 'ccc': 'value_ccc',\n",
       " 'ddd': 'value_ddd'}"
      ]
     },
     "execution_count": 4,
     "metadata": {},
     "output_type": "execute_result"
    },
    {
     "data": {
      "text/plain": [
       "'value_bbb'"
      ]
     },
     "execution_count": 4,
     "metadata": {},
     "output_type": "execute_result"
    }
   ],
   "source": [
    "class AttrHolder:\n",
    "    pass\n",
    "holder = AttrHolder()\n",
    "\n",
    "for attr in (\"aaa\", \"bbb\", \"ccc\", \"ddd\"):\n",
    "    setattr(holder, attr, f\"value_{attr}\")\n",
    "\n",
    "vars(holder)\n",
    "holder.bbb\n",
    "\n",
    "holder.asdsadad = 123"
   ]
  },
  {
   "cell_type": "code",
   "execution_count": 5,
   "metadata": {},
   "outputs": [
    {
     "data": {
      "text/plain": [
       "{'bbb': 'value_bbb', 'ccc': 'value_ccc', 'ddd': 'value_ddd', 'asdsadad': 123}"
      ]
     },
     "execution_count": 5,
     "metadata": {},
     "output_type": "execute_result"
    }
   ],
   "source": [
    "delattr(holder, \"aaa\")\n",
    "vars(holder)"
   ]
  },
  {
   "cell_type": "markdown",
   "metadata": {},
   "source": [
    "### Операторы сравнения"
   ]
  },
  {
   "cell_type": "markdown",
   "metadata": {},
   "source": [
    "Чтобы экземпляры класса поддерживали все операторы сравнения, нужно реализовать внушительное количество \"магических\" методов:\n",
    "```python\n",
    "instance.__eq__(other)  # instance == other\n",
    "Instance.__ne__(other)  # instance != other\n",
    "instance.__lt__(other)  # instance < other\n",
    "instance.__le__(other)  # instance <= other\n",
    "instance.__gt__(other)  # instance > other\n",
    "instance.__ge__(other)  # instance >= other\n",
    "```"
   ]
  },
  {
   "cell_type": "markdown",
   "metadata": {},
   "source": [
    "В уже знакомом нам модуле `functools` есть декоратор, облегчающий реализацию операторов сравнения: [functools.total_ordering](https://docs.python.org/3.8/library/functools.html#functools.total_ordering)"
   ]
  },
  {
   "cell_type": "code",
   "execution_count": null,
   "metadata": {},
   "outputs": [],
   "source": [
    "import functools\n",
    "@functools.total_ordering\n",
    "class Counter:\n",
    "    def __init__(self, value):\n",
    "        self.value = value\n",
    "\n",
    "    def __eq__(self, other) -> bool:\n",
    "        return self.value == other.value\n",
    "\n",
    "    def __lt__(self, other) -> bool:\n",
    "        return self.value < other.value\n",
    "\n",
    "Counter(1) > Counter(2)\n",
    "vars(Counter)"
   ]
  },
  {
   "cell_type": "markdown",
   "metadata": {},
   "source": [
    "### `__call__`"
   ]
  },
  {
   "cell_type": "markdown",
   "metadata": {},
   "source": [
    "Метод `__call__` позволяет \"вызывать\" экземпляры классов, имитируя интерфейс функций"
   ]
  },
  {
   "cell_type": "code",
   "execution_count": 6,
   "metadata": {},
   "outputs": [
    {
     "data": {
      "text/plain": [
       "42"
      ]
     },
     "execution_count": 6,
     "metadata": {},
     "output_type": "execute_result"
    }
   ],
   "source": [
    "class Useful:\n",
    "    def __call__(self, x):\n",
    "        return x\n",
    "\n",
    "Useful()(42)"
   ]
  },
  {
   "cell_type": "code",
   "execution_count": 10,
   "metadata": {},
   "outputs": [
    {
     "name": "stderr",
     "output_type": "stream",
     "text": [
      "Name=useful, Args=(11, 22), Kwargs={}\n"
     ]
    },
    {
     "data": {
      "text/plain": [
       "33"
      ]
     },
     "execution_count": 10,
     "metadata": {},
     "output_type": "execute_result"
    }
   ],
   "source": [
    "# Декоратор с аргументами на основе класса\n",
    "import functools\n",
    "import sys\n",
    "\n",
    "class Trace:\n",
    "    def __init__(self, handle):\n",
    "        self.handle = handle\n",
    "\n",
    "    def __call__(self, func):\n",
    "        @functools.wraps(func)\n",
    "        def inner(*args, **kwargs):\n",
    "            print(f\"Name={func.__name__}, Args={args}, Kwargs={kwargs}\", file=self.handle)\n",
    "            return func(*args, **kwargs)\n",
    "        return inner\n",
    "\n",
    "@Trace(handle=sys.stderr)\n",
    "def useful(x, y):\n",
    "    return x + y\n",
    "\n",
    "useful(11, 22)"
   ]
  },
  {
   "cell_type": "markdown",
   "metadata": {},
   "source": [
    "### `__repr__` и `__str__`"
   ]
  },
  {
   "cell_type": "markdown",
   "metadata": {},
   "source": [
    "В Python есть две различных по смыслу функции для преобразования объекта в строку: `repr` и `str`.\n",
    "<br>Для каждой из них существует одноимённый \"магический\" метод:"
   ]
  },
  {
   "cell_type": "code",
   "execution_count": 12,
   "metadata": {},
   "outputs": [
    {
     "data": {
      "text/plain": [
       "Counter(44)"
      ]
     },
     "execution_count": 12,
     "metadata": {},
     "output_type": "execute_result"
    },
    {
     "name": "stdout",
     "output_type": "stream",
     "text": [
      "Counted to 44\n"
     ]
    }
   ],
   "source": [
    "class Counter:\n",
    "    def __init__(self, initial=0):\n",
    "        self.value = initial\n",
    "\n",
    "    def __repr__(self):\n",
    "        return \"Counter({})\".format(self.value)\n",
    "\n",
    "    def __str__(self):\n",
    "       return \"Counted to {}\".format(self.value)\n",
    "\n",
    "counter = Counter(44)\n",
    "counter\n",
    "print(counter)"
   ]
  },
  {
   "cell_type": "markdown",
   "metadata": {},
   "source": [
    "### `__hash__`"
   ]
  },
  {
   "cell_type": "markdown",
   "metadata": {},
   "source": [
    "Метод `__hash__` используется для вычисления значения хеш-функции.\n",
    "<br>Реализация по умолчанию гарантирует, что одинаковое значение хеш функции будет только у физически одинаковых объектов, то есть:\n",
    "```\n",
    "x is y <=> hash(x) == hash(y)\n",
    "```\n",
    "Несколько очевидных рекомендаций:\n",
    "* Метод `__hash__` имеет смысл реализовывать только вместе с методом `__eq__`.\n",
    "<br>При этом реализация `__hash__` должна удовлетворять: `x == y <=> hash(x) == hash(y)`\n",
    "* Для изменяемых объектов можно ограничиться только методом `__eq__`."
   ]
  },
  {
   "cell_type": "markdown",
   "metadata": {},
   "source": [
    "***\n",
    "## 2. Дескрипторы<a id=\"2\"></a>"
   ]
  },
  {
   "cell_type": "markdown",
   "metadata": {},
   "source": [
    "Дескриптор это атрибут объекта со \"связанным поведением\", то есть такой атрибут, при доступе к которому его поведение переопределяется методом протокола дескриптора. Эти методы `__get__`, `__set__` и `__delete__`. Если хотя бы один из этих методов определен в объекте, то можно сказать что этот метод дескриптор.\n",
    "\n",
    "В Python существует три варианта доступа к атрибуту.\n",
    "<br>Допустим у нас есть атрибут `a` объекта `obj`:\n",
    "* Получим значение атрибута: `some_variable = obj.a`\n",
    "* Изменим его значение: `obj.a = 'new value'`\n",
    "* Удалим атрибут: `del obj.a`\n",
    "\n",
    "Python позволяет перехватить выше упомянутые попытки доступа к атрибуту и переопределить связанное с этим доступом поведение. Это реализуется через механизм протокола дескрипторов."
   ]
  },
  {
   "cell_type": "markdown",
   "metadata": {},
   "source": [
    "### Зачем нам нужны дексрипторы?"
   ]
  },
  {
   "cell_type": "markdown",
   "metadata": {},
   "source": [
    "Давайте рассмотрим пример:"
   ]
  },
  {
   "cell_type": "code",
   "execution_count": null,
   "metadata": {},
   "outputs": [],
   "source": [
    "class Order:\n",
    "    def __init__(self, name, price, quantity):\n",
    "        self.name = name\n",
    "        self.price = price\n",
    "        self.quantity = quantity\n",
    "    def total(self):\n",
    "        return self.price * self.quantity\n",
    "\n",
    "apple_order = Order('apple', 1, 10)\n",
    "apple_order.total()"
   ]
  },
  {
   "cell_type": "markdown",
   "metadata": {},
   "source": [
    "Если этот код начать использовать, мы столкнемся с проблемой.\n",
    "<br>Наши данные ни как не проверяются.\n",
    "<br>То есть цена `price` и количество `quantity` может принимать любое значение:"
   ]
  },
  {
   "cell_type": "code",
   "execution_count": null,
   "metadata": {},
   "outputs": [],
   "source": [
    "apple_order.quantity = -10\n",
    "apple_order.total()"
   ]
  },
  {
   "cell_type": "markdown",
   "metadata": {},
   "source": [
    "Вместо того чтобы использовать методы `getter` и `setter` и создавать новое API, давайте используем стандартный декоратор `@property` для проверки значения атрибута `quantity`:"
   ]
  },
  {
   "cell_type": "code",
   "execution_count": null,
   "metadata": {},
   "outputs": [],
   "source": [
    "class Order:\n",
    "    def __init__(self, name, price, quantity):\n",
    "        self.price = price\n",
    "        self._quantity = quantity  # (1)\n",
    "\n",
    "    @property\n",
    "    def quantity(self):\n",
    "        return self._quantity\n",
    "\n",
    "    @quantity.setter\n",
    "    def quantity(self, value):\n",
    "        if value < 0:\n",
    "            raise ValueError('Cannot be negative.')\n",
    "        self._quantity = value     # (2)\n",
    "\n",
    "    def total(self):\n",
    "        return self.price * self.quantity\n",
    "\n",
    "apple_order = Order('apple', 1, 10)\n",
    "apple_order.quantity = 15\n",
    "apple_order.total()\n",
    "# apple_order.quantity = -10  # ValueError: Cannot be negative"
   ]
  },
  {
   "cell_type": "markdown",
   "metadata": {},
   "source": [
    "Мы преобразовали `quantity` из простого атрибута в неотрицательное свойство.\n",
    "<br>Обратите внимание на строку **(1)** где мы переименовали атрибут в `_quantity` что бы избежать получение в строке **(2)** ошибки `RecursionError`."
   ]
  },
  {
   "cell_type": "markdown",
   "metadata": {},
   "source": [
    "Мы забыли об атрибуте `price`, который также не может быть отрицательным.\n",
    "<br>Возможно, первым делом вы пытаетесь просто скопировать то что мы делали для атрибута `_quantity`.\n",
    "<br>А что если у нас будет двадцать таких атрибутов.\n",
    "<br>Помните принцип DRY *(Don't repeat yourself)*: когда вы обнаруживаете, что делаете одно и то же дважды, это хороший признак для удаления повторно используемого кода.\n",
    "<br>Давайте посмотрим, чем нам в этом случае могут помочь дескрипторы."
   ]
  },
  {
   "cell_type": "markdown",
   "metadata": {},
   "source": [
    "### Как использовать дескрипторы"
   ]
  },
  {
   "cell_type": "markdown",
   "metadata": {},
   "source": [
    "При использовании дескрипторов наше новое определение класса станет таким:"
   ]
  },
  {
   "cell_type": "code",
   "execution_count": null,
   "metadata": {},
   "outputs": [],
   "source": [
    "class NonNegative:\n",
    "    def __init__(self, name):\n",
    "        self.name = name                      # (4)\n",
    "\n",
    "    def __get__(self, instance, owner):\n",
    "        return instance.__dict__[self.name]   # (5)\n",
    "\n",
    "    def __set__(self, instance, value):\n",
    "        if value < 0:\n",
    "            raise ValueError(\"Cannot be negative.\")\n",
    "        instance.__dict__[self.name] = value  # (6)\n",
    "\n",
    "class Order:\n",
    "    price = NonNegative(name=\"price\")         # (3)\n",
    "    quantity = NonNegative(name=\"quantity\")\n",
    "\n",
    "    def __init__(self, name, price, quantity):\n",
    "        self.name = name\n",
    "        self.price = price\n",
    "        self.quantity = quantity\n",
    "    \n",
    "    def total(self):\n",
    "        return self.price * self.quantity\n",
    "\n",
    "apple_order = Order(\"apple\", 1, 10)\n",
    "apple_order.total()\n",
    "# apple_order.price = -10     # ValueError: Cannot be negative\n",
    "# apple_order.quantity = -10  # ValueError: Cannot be negative"
   ]
  },
  {
   "cell_type": "markdown",
   "metadata": {},
   "source": [
    "Строка **(4)**: атрибут `name` необходим при создание объекта `NonNegative` в строке **(3)**.\n",
    "<br>Таким образом, мы явно передаем имя атрибута `price` что бы использовать его как ключ при доступе к экземпляру `__dict__`."
   ]
  },
  {
   "cell_type": "markdown",
   "metadata": {},
   "source": [
    "### Дескрипторы Python 3.6+"
   ]
  },
  {
   "cell_type": "markdown",
   "metadata": {},
   "source": [
    "В Python 3.6 появился [новый протокол дескрипторов](https://docs.python.org/3.6/howto/descriptor.html#definition-and-introduction):\n",
    "\n",
    "`object.__set_name__(self, owner, name)` - Вызывается во время создания класса. В этом случае дескриптор назначается на имя атрибута.\n",
    "\n",
    "С этим протоколом, мы можем удалить `__init__` у `NonNegative` и привязать имя атрибута к дескриптору:"
   ]
  },
  {
   "cell_type": "code",
   "execution_count": null,
   "metadata": {},
   "outputs": [],
   "source": [
    "class NonNegative:\n",
    "    def __get__(self, instance, owner):\n",
    "        # print(instance)  # <__main__.Order object at 0x7fa7f065f390>\n",
    "        # print(owner)     # <class '__main__.Order'>\n",
    "        return instance.__dict__[self.name]\n",
    "\n",
    "    def __set__(self, instance, value):\n",
    "        # print(instance)  # <__main__.Order object at 0x7fa7f065f8d0>\n",
    "        if value < 0:\n",
    "            raise ValueError(\"Cannot be negative.\")\n",
    "        instance.__dict__[self.name] = value\n",
    "\n",
    "    def __set_name__(self, owner, name):\n",
    "        # print(owner)  # <class '__main__.Order'>\n",
    "        # print(name)\n",
    "        self.name = name\n",
    "\n",
    "class Order:\n",
    "    price = NonNegative()\n",
    "    quantity = NonNegative()\n",
    "\n",
    "    def __init__(self, name: str, price: int, quantity: int):\n",
    "        self.name = name\n",
    "        self.price = price\n",
    "        self.quantity = quantity\n",
    "\n",
    "    def total(self):\n",
    "        return self.price * self.quantity\n",
    "\n",
    "apple_order = Order(\"apple\", 1, 10)\n",
    "#apple_order.total()\n",
    "\n",
    "apple_order.price = 1\n",
    "\n",
    "# apple_order.price = -10     # ValueError: Cannot be negative\n",
    "# apple_order.quantity = -10  # ValueError: Cannot be negative"
   ]
  },
  {
   "cell_type": "markdown",
   "metadata": {},
   "source": [
    "### Подробнее про get, set, delete"
   ]
  },
  {
   "cell_type": "markdown",
   "metadata": {},
   "source": [
    "**get**:\n",
    "<br>Метод `__get__` вызывается при доступе к атрибуту.\n",
    "<br>Метод принимает два аргумента:\n",
    "* `instance` — экземпляр класса или `None`, если дескриптор был вызван в результате обращения к атрибуту у класса\n",
    "* `owner` — класс, \"владеющий\" дескриптором.\n",
    "\n",
    "**set**:\n",
    "<br>Метод `__set__` вызывается для изменения значения атрибута.\n",
    "<br>Метод принимает два аргумента:\n",
    "* `instance` - экземпляр класса, “владеющего” дескриптором,\n",
    "* `value` - новое значение атрибута.\n",
    "\n",
    "**delete**:\n",
    "<br>Метод `__delete__` вызывается при удалении атрибута.\n",
    "<br>Метод принимает один аргумент — экземпляр класса, “владеющего” дескриптором."
   ]
  },
  {
   "cell_type": "markdown",
   "metadata": {},
   "source": [
    "### Резюме"
   ]
  },
  {
   "cell_type": "markdown",
   "metadata": {},
   "source": [
    "* Как и свойства, дескрипторы позволяют контролировать чтение, изменение и удаление атрибута, но, в отличие от свойств, дескрипторы можно переиспользовать.\n",
    "* Дескриптор — это экземпляр класса, реализующего любую комбинацию методов `__get__`, `__set__` и `__delete__`.\n",
    "\n",
    "Все дескрипторы можно поделить на две группы:\n",
    "* дескрипторы данных `data descriptors`, определяющие как минимум метод `__set__`\n",
    "* остальные `non-data descriptors`\n",
    "\n",
    "Полезные дескрипторы определяют ещё и метод `__get__`."
   ]
  },
  {
   "cell_type": "markdown",
   "metadata": {},
   "source": [
    "**Дополнительно:** [Руководство к дескрипторам](https://habr.com/ru/post/122082/), [Атрибуты и протокол дескриптора в Python](https://habr.com/ru/post/479824/)"
   ]
  },
  {
   "cell_type": "markdown",
   "metadata": {},
   "source": [
    "### <font color='blue'><u>Практическая работа</u></font>"
   ]
  },
  {
   "cell_type": "markdown",
   "metadata": {},
   "source": [
    "Создать класс `Book` с аттрибутами `price`, `author`, `name`.\n",
    "<br>Автор и название книги не должны меняться. (Выкидываем `ValueError`)\n",
    "<br>Цена может меняться, но должна находится в пределах: `0 <= price <= 100`\n",
    "\n",
    "``` python\n",
    ">>> b = Book(\"William Faulkner\", \"The Sound and the Fury\", 12)\n",
    "\n",
    ">>> print(f\"Author='{b.author}', Name='{b.name}', Price='{b.price}'\")\n",
    "Author='William Faulkner', Name='The Sound and the Fury', Price='12'\n",
    "\n",
    ">>> b.price = 55\n",
    ">>> b.price\n",
    "55\n",
    ">>> b.price = -12  # => ValueError: Price must be between 0 and 100.\n",
    ">>> b.price = 101  # => ValueError: Price must be between 0 and 100.\n",
    "\n",
    ">>> b.author = \"new author\"  # => ValueError: Author can not be changed.\n",
    ">>> b.name = \"new name\"      # => ValueError: Name can not be changed.\n",
    "```"
   ]
  },
  {
   "cell_type": "markdown",
   "metadata": {},
   "source": [
    "***\n",
    "## 3. Классы-примеси (mixins)<a id=\"3\"></a>"
   ]
  },
  {
   "cell_type": "markdown",
   "metadata": {},
   "source": [
    "Классы-примеси позволяют выборочно модифицировать поведение класса в предположении, что класс реализует некоторый интерфейс."
   ]
  },
  {
   "cell_type": "code",
   "execution_count": null,
   "metadata": {},
   "outputs": [],
   "source": [
    "import logging\n",
    "\n",
    "class EssentialFunctioner:\n",
    "\n",
    "    def __init__(self):\n",
    "        self.logger = logging.getLogger(f\"{self.__module__}.{self.__class__.__name__}\")\n",
    "\n",
    "    def do_the_thing(self):\n",
    "        try:\n",
    "            1 / 0\n",
    "        except ZeroDivisionError:\n",
    "            self.logger.exception(\"OH NO\")\n",
    "\n",
    "EssentialFunctioner().do_the_thing()"
   ]
  },
  {
   "cell_type": "markdown",
   "metadata": {},
   "source": [
    "А что если понадобится создать 10 классов с одинаковым логгером?"
   ]
  },
  {
   "cell_type": "code",
   "execution_count": null,
   "metadata": {},
   "outputs": [],
   "source": [
    "import logging\n",
    "\n",
    "class LoggerMixin:\n",
    "    @property\n",
    "    def logger(self):\n",
    "        name = f\"{self.__module__}.{self.__class__.__name__}\"\n",
    "        return logging.getLogger(name)\n",
    "\n",
    "class EssentialFunctioner(LoggerMixin):\n",
    "    def do_the_thing(self):\n",
    "        try:\n",
    "            1 / 0\n",
    "        except ZeroDivisionError:\n",
    "            self.logger.exception(\"OH NO!\")\n",
    "\n",
    "class BusinessLogicer(LoggerMixin):\n",
    "    def __init__(self):\n",
    "        # super().__init__()\n",
    "        self.logger.warning(\"\\nBusinessLogicer init!\")\n",
    "\n",
    "EssentialFunctioner().do_the_thing()\n",
    "BusinessLogicer()"
   ]
  },
  {
   "cell_type": "markdown",
   "metadata": {},
   "source": [
    "***\n",
    "## 4. Модуль ABC (abstract base classes)<a id=\"4\"></a>"
   ]
  },
  {
   "cell_type": "markdown",
   "metadata": {},
   "source": [
    "Абстрактным называется класс, который содержит один и более абстрактных методов.\n",
    "<br>Абстрактным методом называется объявленный, но не реализованный метод.\n",
    "<br>Абстрактные классы не могут быть инстанциированы, от них нужно унаследовать, реализовать все их абстрактные методы и только тогда можно создать экземпляр такого класса.\n",
    "<br>Дополнительно: [Abstract Base Classes](https://docs.python.org/3/library/abc.html)\n",
    "\n",
    "Если метод класса имеет декоратор `@abstractmethod`, значит его необходимо переопределить в классе-наследнике."
   ]
  },
  {
   "cell_type": "code",
   "execution_count": null,
   "metadata": {},
   "outputs": [],
   "source": [
    "from abc import ABC, abstractmethod\n",
    "\n",
    "class A(ABC):\n",
    "    @abstractmethod\n",
    "    def some(self):\n",
    "        return \"some\"\n",
    "\n",
    "A().some()"
   ]
  },
  {
   "cell_type": "markdown",
   "metadata": {},
   "source": [
    "Возьмем для примера, шахматы. \n",
    "<br>У всех шахматных фигур есть общий функционал, например - возможность фигуры ходить и быть отображенной на доске.\n",
    "<br>Исходя из этого, мы можем создать абстрактный класс `Фигура`, определить в нем абстрактный метод (в нашем случае - `ход`, поскольку каждая фигура ходит по-своему) и реализовать общий функционал (`отрисовка` на доске)."
   ]
  },
  {
   "cell_type": "code",
   "execution_count": null,
   "metadata": {},
   "outputs": [],
   "source": [
    "from abc import ABC, abstractmethod\n",
    "\n",
    "class ChessPiece(ABC):\n",
    "    def draw(self):\n",
    "        # общий метод, который будут использовать все наследники этого класса\n",
    "        return(\"Drew a chess piece\")\n",
    "\n",
    "    @abstractmethod\n",
    "    def move(self):\n",
    "        # абстрактный метод, который будет необходимо переопределять для каждого подкласса\n",
    "        pass\n",
    "\n",
    "class Queen(ChessPiece):\n",
    "    def move(self):\n",
    "        return(\"Moved Queen to e2e4\")\n",
    "\n",
    "q = Queen()\n",
    "# Нам доступны все методы класса\n",
    "q.draw()\n",
    "q.move()    "
   ]
  },
  {
   "cell_type": "markdown",
   "metadata": {},
   "source": [
    "Поведение абстрактных методов можно не только переопределять, но и дополнять:"
   ]
  },
  {
   "cell_type": "code",
   "execution_count": null,
   "metadata": {},
   "outputs": [],
   "source": [
    "from abc import ABC, abstractmethod\n",
    "\n",
    "class Basic(ABC):\n",
    "    @abstractmethod\n",
    "    def hello(self):\n",
    "        print(\"> Hello from Basic class\")\n",
    "\n",
    "class Advanced(Basic):\n",
    "    def hello(self):\n",
    "        super().hello()\n",
    "        print(\"> Enriched functionality\")\n",
    "\n",
    "a = Advanced()\n",
    "a.hello()"
   ]
  },
  {
   "cell_type": "markdown",
   "metadata": {},
   "source": [
    "Используя концепцию абстрактных классов, мы можем улучшить качество архитектуры приложения, уменьшить объем работы и при этом, обеспечить легкость дальнейшей поддержки кода.\n",
    "\n",
    "Дополнительно: [Абстрактная фабрика](https://refactoring.guru/ru/design-patterns/abstract-factory)"
   ]
  },
  {
   "cell_type": "markdown",
   "metadata": {},
   "source": [
    "### <font color='blue'><u>Практическая работа</u></font>"
   ]
  },
  {
   "cell_type": "markdown",
   "metadata": {},
   "source": [
    "Создать абстрактный класс `Vehicle` с методами:\n",
    "* `vehicle_type`, который выводит имя и тип транспортного средства (ТС),\n",
    "* `is_motorcycle`, который выводит `True/False` в зависимости от числа колес *(2 колеса -> мотоцикл)*,\n",
    "* `purchase_price` - выводит стоимость ТС в зависимости от кол-ва пройденных км: (`базовая цена - 0.1 * кол-во км`).\n",
    "<br>Если получился меншьше \"100\" - вернуть \"100\".\n",
    "\n",
    "Класс должен содержать поля: \n",
    "* год выпуска\n",
    "* имя бренда\n",
    "* все поля необходимые для обеспечения функциональности классов наследников.\n",
    "\n",
    "Расставить где необходимо и если необходимо `abstractmethod`, `classmethod`, `staticmethod` или другие декораторы.\n",
    "\n",
    "Создать классы наследники `Vehicle`: `Car`, `Motocycle`, `Truck`, `Bus`.\n",
    "\n",
    "```python\n",
    "vehicles = (\n",
    "    Car(brand_name=\"Toyota\", year_of_issue=2020, base_price=1_000_000, mileage=150_000),\n",
    "    Motocycle(brand_name=\"Suzuki\", year_of_issue=2015, base_price=800_000, mileage=35_000),\n",
    "    Truck(brand_name=\"Scania\", year_of_issue=2018, base_price=15_000_000, mileage=850_000),\n",
    "    Bus(brand_name=\"MAN\", year_of_issue=2000, base_price=10_000_000, mileage=950_000),\n",
    ")\n",
    "\n",
    "for vehicle in vehicles:\n",
    "    print(\n",
    "        f\"Vehicle type={vehicle.vehicle_type()}\\n\"\n",
    "        f\"Is motorcycle={vehicle.is_motorcycle()}\\n\"\n",
    "        f\"Purchase price={vehicle.purchase_price()}\\n\"\n",
    "    )\n",
    "```\n",
    "```\n",
    "Vehicle type=Toyota Car\n",
    "Is motorcycle=False\n",
    "Purchase price=985000.0\n",
    "\n",
    "Vehicle type=Suzuki Motocycle\n",
    "Is motorcycle=True\n",
    "Purchase price=796500.0\n",
    "\n",
    "Vehicle type=Scania Truck\n",
    "Is motorcycle=False\n",
    "Purchase price=14915000.0\n",
    "\n",
    "Vehicle type=MAN Bus\n",
    "Is motorcycle=False\n",
    "Purchase price=9905000.0\n",
    "```"
   ]
  },
  {
   "cell_type": "markdown",
   "metadata": {},
   "source": [
    "***\n",
    "## 5. Метаклассы (optional)<a id=\"5\"></a>"
   ]
  },
  {
   "cell_type": "markdown",
   "metadata": {},
   "source": [
    "Статья: [Метаклассы в Python](https://habr.com/ru/post/145835/), Оригинал: [Classes as objects](https://stackoverflow.com/a/6581949/12551738)"
   ]
  },
  {
   "cell_type": "markdown",
   "metadata": {},
   "source": [
    ">Метаклассы это глубокая магия, о которой 99% пользователей даже не нужно задумываться. Если вы думаете, нужно ли вам их использовать — вам не нужно (люди, которым они реально нужны, точно знают, зачем они им, и не нуждаются в объяснениях, почему).\n",
    "><br>~ _Гуру Питона Тим Питерс_"
   ]
  },
  {
   "cell_type": "markdown",
   "metadata": {},
   "source": [
    "### Классы как объекты"
   ]
  },
  {
   "cell_type": "markdown",
   "metadata": {},
   "source": [
    "Перед тем, как изучать метаклассы, надо хорошо разобраться с классами, а классы в Питоне — вещь весьма специфическая (основаны на идеях из языка Smalltalk).\n",
    "\n",
    "В большинстве языков класс это просто кусок кода, описывающий, как создать объект.\n",
    "<br>В целом это верно и для Питона:"
   ]
  },
  {
   "cell_type": "code",
   "execution_count": null,
   "metadata": {},
   "outputs": [],
   "source": [
    "class ObjectCreator:\n",
    "    pass\n",
    "\n",
    "my_object = ObjectCreator()\n",
    "print(ObjectCreator)\n",
    "print(my_object)"
   ]
  },
  {
   "cell_type": "markdown",
   "metadata": {},
   "source": [
    "Но в Питоне класс это нечто большее — классы также являются объектами.\n",
    "\n",
    "Как только используется ключевое слово `class`, Питон исполняет команду и создаёт объект.\n",
    "<br>Инструкция\n",
    "```python\n",
    "class ObjectCreator:\n",
    "    pass\n",
    "```\n",
    "создаст в памяти объект с именем `ObjectCreator`.\n",
    "\n",
    "Этот объект (класс) сам может создавать объекты (экземпляры), поэтому он и является классом.\n",
    "\n",
    "Тем не менее, это объект, а потому:\n",
    "* его можно присвоить переменной,\n",
    "* его можно скопировать,\n",
    "* можно добавить к нему атрибут,\n",
    "* его можно передать функции в качестве аргумента"
   ]
  },
  {
   "cell_type": "markdown",
   "metadata": {},
   "source": [
    "### Динамическое создание классов"
   ]
  },
  {
   "cell_type": "markdown",
   "metadata": {},
   "source": [
    "Так как классы являются объектами, их можно создавать на ходу, как и любой объект.\n",
    "\n",
    "Например, можно создать класс в функции, используя ключевое слово `class`:"
   ]
  },
  {
   "cell_type": "code",
   "execution_count": null,
   "metadata": {},
   "outputs": [],
   "source": [
    "def choose_class(name):\n",
    "    if name == 'foo':\n",
    "        class Foo:\n",
    "            pass\n",
    "        return Foo # возвращает класс, а не экземпляр\n",
    "    else:\n",
    "        class Bar:\n",
    "            pass\n",
    "        return Bar\n",
    "\n",
    "MyClass = choose_class(\"foo\")\n",
    "print(MyClass)    # функция возвращает класс, а не экземпляр\n",
    "print(MyClass())  # можно создать экземпляр этого класса"
   ]
  },
  {
   "cell_type": "markdown",
   "metadata": {},
   "source": [
    "Однако это не очень-то динамично, поскольку по-прежнему нужно самому писать весь класс целиком.\n",
    "\n",
    "Поскольку классы являются объектами, они должны генерироваться чем-нибудь.\n",
    "\n",
    "Когда используется ключевое слово `class`, Python создаёт этот объект автоматически.\n",
    "<br>Но как и большинство вещей в Питоне, есть способ сделать это вручную.\n",
    "\n",
    "Помните функцию `type`?\n",
    "<br>Старая-добрая функция, которая позволяет определить тип объекта:"
   ]
  },
  {
   "cell_type": "code",
   "execution_count": 3,
   "metadata": {},
   "outputs": [
    {
     "data": {
      "text/plain": [
       "int"
      ]
     },
     "execution_count": 3,
     "metadata": {},
     "output_type": "execute_result"
    },
    {
     "data": {
      "text/plain": [
       "str"
      ]
     },
     "execution_count": 3,
     "metadata": {},
     "output_type": "execute_result"
    },
    {
     "data": {
      "text/plain": [
       "type"
      ]
     },
     "execution_count": 3,
     "metadata": {},
     "output_type": "execute_result"
    },
    {
     "data": {
      "text/plain": [
       "__main__.ObjectCreator"
      ]
     },
     "execution_count": 3,
     "metadata": {},
     "output_type": "execute_result"
    }
   ],
   "source": [
    "class ObjectCreator:\n",
    "    pass\n",
    "\n",
    "type(1)\n",
    "type(\"1\")\n",
    "type(ObjectCreator)\n",
    "type(ObjectCreator())"
   ]
  },
  {
   "cell_type": "markdown",
   "metadata": {},
   "source": [
    "На самом деле, у функции `type` есть совершенно иное применение: она также может создавать классы на ходу. \n",
    "<br>`type` принимает на вход описание класса и созвращает класс.\n",
    "\n",
    "(Я знаю, это по-дурацки, что одна и та же функция может использоваться для двух совершенно разных вещей в зависимости от передаваемых аргументов. Так сделано для обратной совместимости)\n",
    "\n",
    "`type` работает следующим образом:\n",
    "```python\n",
    "type(<имя класса>, \n",
    "     <кортеж родительских классов>, # для наследования, может быть пустым\n",
    "     <словарь, содержащий атрибуты и их значения>\n",
    ")\n",
    "```\n",
    "Например,\n",
    "```python\n",
    "class MyShinyClass:\n",
    "    pass\n",
    "```\n",
    "может быть создан вручную следующим образом:"
   ]
  },
  {
   "cell_type": "code",
   "execution_count": 4,
   "metadata": {},
   "outputs": [
    {
     "name": "stdout",
     "output_type": "stream",
     "text": [
      "<class '__main__.MyShinyClass'>\n",
      "<__main__.MyShinyClass object at 0x000001D2FF069DC8>\n"
     ]
    }
   ],
   "source": [
    "MyShinyClass = type(\"MyShinyClass\", (), {\"a\": 123}) # возвращает объект-класс\n",
    "print(MyShinyClass)\n",
    "print(MyShinyClass())  # создаёт экземпляр класса"
   ]
  },
  {
   "cell_type": "markdown",
   "metadata": {},
   "source": [
    "Возможно, вы заметили, что мы используем `\"MyShinyClass\"` и как имя класса, и как имя для переменной, содержащей ссылку на класс. Они могут быть различны, но зачем усложнять?\n",
    "\n",
    "`type` принимает словарь, определяющий атрибуты класса:\n",
    "```python\n",
    "class Foo:\n",
    "    bar = True\n",
    "```\n",
    "можно переписать как:"
   ]
  },
  {
   "cell_type": "code",
   "execution_count": 5,
   "metadata": {},
   "outputs": [],
   "source": [
    "Foo = type('Foo', (), {'bar':True})"
   ]
  },
  {
   "cell_type": "markdown",
   "metadata": {},
   "source": [
    "и использовать как обычный класс"
   ]
  },
  {
   "cell_type": "code",
   "execution_count": 6,
   "metadata": {},
   "outputs": [
    {
     "name": "stdout",
     "output_type": "stream",
     "text": [
      "<class '__main__.Foo'>\n",
      "True\n",
      "<__main__.Foo object at 0x000001D2FF054B48>\n",
      "True\n"
     ]
    }
   ],
   "source": [
    "print(Foo)\n",
    "print(Foo.bar)\n",
    "f = Foo()\n",
    "print(f)\n",
    "print(f.bar)"
   ]
  },
  {
   "cell_type": "markdown",
   "metadata": {},
   "source": [
    "Конечно, можно от него наследовать:\n",
    "```python\n",
    "class FooChild(Foo):\n",
    "    pass\n",
    "```\n",
    "превратится в:"
   ]
  },
  {
   "cell_type": "code",
   "execution_count": null,
   "metadata": {},
   "outputs": [],
   "source": [
    "FooChild = type('FooChild', (Foo,), {})\n",
    "print(FooChild)\n",
    "print(FooChild.bar)  # bar is inherited from Foo"
   ]
  },
  {
   "cell_type": "markdown",
   "metadata": {},
   "source": [
    "В какой-то момент вам захочется добавить методов вашему классу.\n",
    "<br>Для этого просто определите функцию с нужной сигнатурой и присвойте её в качестве атрибута:"
   ]
  },
  {
   "cell_type": "code",
   "execution_count": null,
   "metadata": {},
   "outputs": [],
   "source": [
    "def echo_bar(self):\n",
    "    print(self.bar)\n",
    "\n",
    "Foo = type('Foo', (), {'bar':True})\n",
    "FooChild = type('FooChild', (Foo,), {'echo_bar': echo_bar})\n",
    "hasattr(Foo, 'echo_bar')\n",
    "hasattr(FooChild, 'echo_bar')\n",
    "\n",
    "my_foo = FooChild()\n",
    "my_foo.echo_bar()"
   ]
  },
  {
   "cell_type": "markdown",
   "metadata": {},
   "source": [
    "Уже понятно, к чему я клоню: в Python классы являются объектами и можно создавать классы на ходу.\n",
    "\n",
    "Это именно то, что Python делает, когда используется ключевое слово `class`, и делает он это с помощью метаклассов."
   ]
  },
  {
   "cell_type": "markdown",
   "metadata": {},
   "source": [
    "### Что такое метакласс (наконец)"
   ]
  },
  {
   "cell_type": "markdown",
   "metadata": {},
   "source": [
    "Метакласс это \"штука\", которая создаёт классы.\n",
    "\n",
    "Мы создаём класс для того, чтобы создавать объекты, так? А классы являются объектами. Метакласс это то, что создаёт эти самые объекты. Они являются классами классов, можно представить это себе следующим образом:\n",
    "```python\n",
    "MyClass = MetaClass()\n",
    "MyObject = MyClass()\n",
    "```\n",
    "Мы уже видели, что `type` позволяет делать что-то в таком духе:\n",
    "```python\n",
    "MyClass = type('MyClass', (), {})\n",
    "```\n",
    "\n",
    "Это потому что функция `type` на самом деле является метаклассом. `type` это метакласс, который Питон внутренне использует для создания всех классов.\n",
    "\n",
    "Естественный вопрос: с чего это он его имя пишется в нижнем регистре, а не `Type`?\n",
    "\n",
    "Я полагаю, это просто для соответствия `str`, классу для создания объектов-строк, и `int`, классу для создания объектов-целых чисел. `type` это просто класс для создания объектов-классов.\n",
    "\n",
    "Это легко проверить с помощью атрибута `__class__`:\n",
    "\n",
    "В питоне всё (вообще всё!) является объектами. В том числе числа, строки, функции и классы — они все являются объектами и все были созданы из класса:"
   ]
  },
  {
   "cell_type": "code",
   "execution_count": 7,
   "metadata": {},
   "outputs": [
    {
     "data": {
      "text/plain": [
       "int"
      ]
     },
     "execution_count": 7,
     "metadata": {},
     "output_type": "execute_result"
    },
    {
     "data": {
      "text/plain": [
       "str"
      ]
     },
     "execution_count": 7,
     "metadata": {},
     "output_type": "execute_result"
    },
    {
     "data": {
      "text/plain": [
       "function"
      ]
     },
     "execution_count": 7,
     "metadata": {},
     "output_type": "execute_result"
    },
    {
     "data": {
      "text/plain": [
       "__main__.Bar"
      ]
     },
     "execution_count": 7,
     "metadata": {},
     "output_type": "execute_result"
    }
   ],
   "source": [
    "age = 35\n",
    "age.__class__\n",
    "\n",
    "name = 'bob'\n",
    "name.__class__\n",
    "\n",
    "def foo():\n",
    "    pass\n",
    "foo.__class__\n",
    "\n",
    "class Bar: \n",
    "    pass\n",
    "b = Bar()\n",
    "b.__class__"
   ]
  },
  {
   "cell_type": "markdown",
   "metadata": {},
   "source": [
    "А какой же `__class__` у каждого `__class__`?"
   ]
  },
  {
   "cell_type": "code",
   "execution_count": null,
   "metadata": {},
   "outputs": [],
   "source": [
    "age.__class__.__class__\n",
    "name.__class__.__class__\n",
    "foo.__class__.__class__\n",
    "b.__class__.__class__"
   ]
  },
  {
   "cell_type": "markdown",
   "metadata": {},
   "source": [
    "Итак, метакласс это просто штука, создающая объекты-классы.\n",
    "\n",
    "Если хотите, можно называть его \"фабрикой классов\"\n",
    "\n",
    "`type` это встроенный метакласс, который использует Питон, но вы, конечно, можете создать свой."
   ]
  },
  {
   "cell_type": "markdown",
   "metadata": {},
   "source": [
    "### Атрибут `__metaclass__`"
   ]
  },
  {
   "cell_type": "markdown",
   "metadata": {},
   "source": [
    "При написании класса можно добавить атрибут `__metaclass__`:\n",
    "```python\n",
    "class Foo:\n",
    "  __metaclass__ = something\n",
    "  ...\n",
    "```\n",
    "В таком случае Питон будет использовать указанный метакласс при создании класса `Foo`.\n",
    "<br>Осторожно, тут есть тонкость!\n",
    "\n",
    "Хоть вы и пишете `class Foo`, объект-класс пока ещё не создаётся в памяти.\n",
    "\n",
    "Питон будет искать `__metaclass__` в определении класса. Если он его найдёт, то использует для создания класса `Foo`. Если же нет, то будет использовать `type`.\n",
    "\n",
    "То есть когда вы пишете\n",
    "```python\n",
    "class Foo(Bar):\n",
    "  pass\n",
    "```\n",
    "\n",
    "Питон делает следующее:\n",
    "* Есть ли у класса `Foo` атрибут `__metaclass__`?\n",
    "* Если да, создаёт в памяти объект-класс с именем `Foo`, используя то, что указано в `__metaclass__`.\n",
    "* Если Питон не находит `__metaclass__`, он ищет `__metaclass__` в родительском классе `Bar` и попробует сделать то же самое.\n",
    "* Если же `__metaclass__` не находится ни в одном из родителей, Питон будет искать `__metaclass__` на уровне модуля.\n",
    "* И если он не может найти вообще ни одного `__metaclass__`, он использует `type` для создания объекта-класса.\n",
    "\n",
    "Теперь важный вопрос: что можно положить в `__metaclass__`?\n",
    "\n",
    "Ответ: что-нибудь, что может создавать классы.\n",
    "\n",
    "А что создаёт классы? `type` или любой его подкласс, а также всё, что использует их."
   ]
  },
  {
   "cell_type": "markdown",
   "metadata": {},
   "source": [
    "### Пользовательские метаклассы"
   ]
  },
  {
   "cell_type": "markdown",
   "metadata": {},
   "source": [
    "Основная цель метаклассов — автоматически изменять класс в момент создания.\n",
    "\n",
    "Обычно это делает для API, когда хочется создавать классы в соответсвии с текущим контекстом.\n",
    "\n",
    "Представим глупый пример: вы решили, что у всех классов в вашем модуле имена атрибутов должны быть записать в верхнем регистре. Есть несколько способов это сделать, но один из них — задать `__metaclass__` на уровне модуля.\n",
    "\n",
    "В таком случае все классы этого модуля будут создаваться с использованием указанного метакласса, а нам остаётся только заставить метакласс переводить имена всех атрибутов в верхний регистр.\n",
    "\n",
    "К счастью, `__metaclass__` может быть любым вызываемым объектом, не обязательно формальным классом\n",
    "<br>_(я знаю, что-то со словом \"класс\" в названии не обязано быть классом, что за ерунда? Однако это полезно)._\n",
    "\n",
    "Так что мы начнём с простого примера, используя функцию."
   ]
  },
  {
   "cell_type": "code",
   "execution_count": 8,
   "metadata": {},
   "outputs": [
    {
     "data": {
      "text/plain": [
       "False"
      ]
     },
     "execution_count": 8,
     "metadata": {},
     "output_type": "execute_result"
    },
    {
     "data": {
      "text/plain": [
       "True"
      ]
     },
     "execution_count": 8,
     "metadata": {},
     "output_type": "execute_result"
    },
    {
     "data": {
      "text/plain": [
       "'bip'"
      ]
     },
     "execution_count": 8,
     "metadata": {},
     "output_type": "execute_result"
    }
   ],
   "source": [
    "# метаклассу автоматически придёт на вход те же аргументы, которые обычно используются в `type`\n",
    "def upper_attr(future_class_name: str, future_class_parents: tuple, future_class_attr: dict):\n",
    "    \"\"\"\n",
    "    Возвращает объект-класс, имена атрибутов которого переведены в верхний регистр\n",
    "    \"\"\"\n",
    "    # берём любой атрибут, не начинающийся с '__'\n",
    "    attrs = [(name, value) for name, value in future_class_attr.items() if not name.startswith('__')]\n",
    "    # переводим их в верхний регистр\n",
    "    uppercase_attr = {name.upper(): value for name, value in attrs}\n",
    "\n",
    "    # создаём класс с помощью `type`\n",
    "    return type(future_class_name, future_class_parents, uppercase_attr)\n",
    "\n",
    "class Foo(metaclass=upper_attr): \n",
    "    bar = 'bip'\n",
    "\n",
    "hasattr(Foo, 'bar')\n",
    "hasattr(Foo, 'BAR')\n",
    "\n",
    "f = Foo()\n",
    "f.BAR"
   ]
  },
  {
   "cell_type": "markdown",
   "metadata": {},
   "source": [
    "А теперь то же самое, только используя настояший класс:"
   ]
  },
  {
   "cell_type": "code",
   "execution_count": null,
   "metadata": {},
   "outputs": [],
   "source": [
    "# помним, что `type` это на само деле класс, как `str` и `int`,\n",
    "# так что от него можно наследовать\n",
    "class UpperAttrMetaClass(type): \n",
    "    # Метод __new__ вызывается перед __init__\n",
    "    # Этот метод создаёт объект и возвращает его,\n",
    "    # в то время как __init__ просто инициализирует объект, переданный в качестве аргумента.\n",
    "    # Обычно вы не используете __new__, если только не хотите проконтролировать, как объект создаётся\n",
    "    # В данном случае созданный объект это класс, и мы хотим его настроить, поэтому мы перегружаем __new__.\n",
    "    # Можно также сделать что-нибудь в __init__, если хочется.\n",
    "    # В некоторых более продвинутых случаях также перегружается __call__, но этого мы сейчас не увидим.\n",
    "    def __new__(\n",
    "        upperattr_metaclass: UpperAttrMetaClass,\n",
    "        future_class_name: str, \n",
    "        future_class_parents: tuple, \n",
    "        future_class_attr: dict,\n",
    "    ):\n",
    "        attrs = [(name, value) for name, value in future_class_attr.items() if not name.startswith('__')]\n",
    "        uppercase_attr = {name.upper(): value for name, value in attrs}\n",
    "        return type(future_class_name, future_class_parents, uppercase_attr)\n",
    "\n",
    "class Foo(metaclass=UpperAttrMetaClass): \n",
    "    bar = 'bip'\n",
    "\n",
    "f = Foo()\n",
    "f.BAR    "
   ]
  },
  {
   "cell_type": "markdown",
   "metadata": {},
   "source": [
    "Но это не совсем ООП. Мы напрямую вызываем `type` и не перегружаем вызов `__new__` родителя. Давайте сделаем это:"
   ]
  },
  {
   "cell_type": "code",
   "execution_count": null,
   "metadata": {},
   "outputs": [],
   "source": [
    "class UpperAttrMetaclass(type): \n",
    "    def __new__(\n",
    "        upperattr_metaclass: UpperAttrMetaClass, \n",
    "        future_class_name: str, \n",
    "        future_class_parents: tuple, \n",
    "        future_class_attr: dict,\n",
    "    ):\n",
    "        attrs = [(name, value) for name, value in future_class_attr.items() if not name.startswith('__')]\n",
    "        uppercase_attr = {name.upper(): value for name, value in attrs}\n",
    "        # используем метод type.__new__\n",
    "        # базовое ООП, никакой магии\n",
    "        return type.__new__(upperattr_metaclass, future_class_name, future_class_parents, uppercase_attr)\n",
    "\n",
    "class Foo(metaclass=UpperAttrMetaClass): \n",
    "    bar = 'bip'\n",
    "\n",
    "f = Foo()\n",
    "f.BAR    "
   ]
  },
  {
   "cell_type": "markdown",
   "metadata": {},
   "source": [
    "Вы, возможно, заметили дополнительный аргумент `upperattr_metaclass`. Ничего особого в нём нет: метод всегда получает первым аргументом текущий экземпляр. Точно так же, как вы используете `self` в обычным методах.\n",
    "\n",
    "Конечно, имена, которые я тут использовал, такие длинные для ясности, но как и `self`, есть соглашение об именовании всех этих аргументов. Так что реальный метакласс выгляит как-нибудь так:"
   ]
  },
  {
   "cell_type": "code",
   "execution_count": null,
   "metadata": {},
   "outputs": [],
   "source": [
    "class UpperAttrMetaclass(type): \n",
    "    def __new__(cls, name, bases, dct):\n",
    "        attrs = [(name, value) for name, value in dct.items() if not name.startswith('__')]\n",
    "        uppercase_attr = {name.upper(): value for name, value in attrs}\n",
    "        return type.__new__(cls, name, bases, uppercase_attr)\n",
    "\n",
    "class Foo(metaclass=UpperAttrMetaClass): \n",
    "    bar = 'bip'\n",
    "\n",
    "f = Foo()\n",
    "f.BAR   "
   ]
  },
  {
   "cell_type": "markdown",
   "metadata": {},
   "source": [
    "Можно сделать даже лучше, использовав `super`, который вызовет наследование (поскольку, конечно, можно создать метакласс, унаследованный от метакласса, унаследованного от `type`):"
   ]
  },
  {
   "cell_type": "code",
   "execution_count": null,
   "metadata": {},
   "outputs": [],
   "source": [
    "class UpperAttrMetaclass(type): \n",
    "    def __new__(cls, name, bases, dct):\n",
    "        attrs = [(name, value) for name, value in dct.items() if not name.startswith('__')]\n",
    "        uppercase_attr = {name.upper(): value for name, value in attrs}\n",
    "        return super().__new__(cls, name, bases, uppercase_attr)\n",
    "\n",
    "class Foo(metaclass=UpperAttrMetaClass): \n",
    "    bar = 'bip'\n",
    "\n",
    "f = Foo()\n",
    "f.BAR    "
   ]
  },
  {
   "cell_type": "markdown",
   "metadata": {},
   "source": [
    "Вот и всё. О метаклассах больше ничего и не сказать.\n",
    "\n",
    "Причина сложности кода, использующего метаклассы, не в самих метаклассах. Она в том, что обычно метаклассы используются для всяких изощрённых вещей, основанных на интроспекции, манипуляцией наследованием, переменными вроде `__dict__` и тому подобном.\n",
    "\n",
    "Действительно, метаклассы особенно полезны для всякой \"чёрной магии\", а, следовательно, сложных штук.\n",
    "\n",
    "Но сами по себе они просты:\n",
    "* __перехватить создание класса__\n",
    "* __изменить класс__\n",
    "* __вернуть модифицированный__"
   ]
  },
  {
   "cell_type": "markdown",
   "metadata": {},
   "source": [
    "### Зачем использовать метаклассы вместо функций?"
   ]
  },
  {
   "cell_type": "markdown",
   "metadata": {},
   "source": [
    "Поскольку `__metaclass__` принимает любой вызываемый объект, с чего бы вдруг использовать класс, если это очевидно сложнее?\n",
    "\n",
    "Тому есть несколько причин:\n",
    "* Назначение яснее. Когда вы видите `UpperAttrMetaclass(type)`, вы сразу знаете, что дальше будет.\n",
    "* Можно использовать ООП. Метаклассы могут наследоваться от метаклассов, перегружая родитальские методы.\n",
    "* Лучше структурированный код. Вы не будете использовать метаклассы для таких простых вещей, как в примере выше. Обычно это что-то сложное. Возможность создать несколько методов и сгруппировать их в одном классе очень полезна, чтобы сделать код более удобным для чтения.\n",
    "* Можно использовать `__new__`, `__init__` и `__call__`. Конечно, обычно можно всё сделать в `__new__`, но некоторым комфортнее использовать `__init__`\n",
    "* Они называются метаклассами, чёрт возьми! Это должно что-то значить!"
   ]
  },
  {
   "cell_type": "markdown",
   "metadata": {},
   "source": [
    "### Зачем вообще использовать метаклассы?"
   ]
  },
  {
   "cell_type": "markdown",
   "metadata": {},
   "source": [
    "Наконец, главный вопрос. С чего кому-то использовать какую-то непонятную (и способствующую ошибкам) фичу?\n",
    "\n",
    "Ну, обычно и не надо использовать:\n",
    "> Метаклассы это глубокая магия, о которой 99% пользователей даже не нужно задумываться. Если вы думаете, нужно ли вам их использовать — вам не нужно (люди, которым они реально нужны, точно знают, зачем они им, и не нуждаются в объяснениях, почему).\n",
    "> <br> _~ Гуру Питона Тим Питерс_\n",
    "\n",
    "Основное применение метаклассов это создание API. Типичный пример — Django ORM.\n",
    "\n",
    "Она позволяет написать что-то в таком духе:\n",
    "```python\n",
    "class Person(models.Model):\n",
    "    name = models.CharField(max_length=30)\n",
    "    age = models.IntegerField()\n",
    "```\n",
    "Однако если вы выполните следующий код:\n",
    "```python\n",
    "guy = Person(name='bob', age='35')\n",
    "print guy.age\n",
    "```\n",
    "вы получите не `IntegerField`, а `int`, причём значение может быть получено прямо из базы данных.\n",
    "\n",
    "Это возможно, потому что `models.Model` определяет `__metaclass__`, который сотворит некую магию и превратит класс `Person`, который мы только что определили простым выражением в сложную привязку к базе данных.\n",
    "\n",
    "Django делает что-то сложное выглядящим простым, выставляя наружу простое API и используя метаклассы, воссоздающие код из API и незаметно делающие всю работу."
   ]
  },
  {
   "cell_type": "markdown",
   "metadata": {},
   "source": [
    "### Напоследок"
   ]
  },
  {
   "cell_type": "markdown",
   "metadata": {},
   "source": [
    "Во-первых, вы узнали, что классы это объекты, которые могут создавать экземпляры.\n",
    "\n",
    "На самом деле, классы это тоже экземпляры. Экземпляры метаклассов.\n",
    "```python\n",
    "class Foo: \n",
    "    pass\n",
    "\n",
    "id(Foo)  # 142630324\n",
    "```\n",
    "\n",
    "Всё что угодно является объектом в Питоне: экземпляром класса или экземпляром метакласса.\n",
    "\n",
    "Кроме `type`.\n",
    "\n",
    "`type` является собственным метаклассом. Это нельзя воспроизвести на чистом Питоне и делается небольшим читерством на уровне реализации.\n",
    "\n",
    "Во-вторых, метаклассы сложны. Вам не нужно использовать их для простого изменения классов. Это можно делать двумя разными способами:\n",
    "* руками\n",
    "* декораторы классов\n",
    "\n",
    "В 99% случаев, когда вам нужно изменить класс, лучше использовать эти два.\n",
    "\n",
    "Но в 99% случаев вам вообще не нужно изменять классы 😉"
   ]
  },
  {
   "cell_type": "markdown",
   "metadata": {},
   "source": [
    "***\n",
    "## <font color='blue'><u>6. Домашнее задание</u></font><a id=\"6\"></a>"
   ]
  },
  {
   "cell_type": "markdown",
   "metadata": {},
   "source": [
    "Реализовать абстрактный класс валюты, с наследниками `Euro`, `Dollar`, `Rubble`.\n",
    "<br>Курс пусть будет `1 EUR == 2 USD == 100 RUB`\n",
    "\n",
    "Имплементировать методы из примеров ниже:\n",
    "```python\n",
    "print(\n",
    "    f\"Euro.course(Rubble)   ==> {Euro.course(Rubble)}\\n\"\n",
    "    f\"Dollar.course(Rubble) ==> {Dollar.course(Rubble)}\\n\"\n",
    "    f\"Rubble.course(Euro)   ==> {Rubble.course(Euro)}\\n\"\n",
    ")\n",
    "# Euro.course(Rubble)   ==> 100.0 RUB for 1 EUR\n",
    "# Dollar.course(Rubble) ==> 50.0 RUB for 1 USD\n",
    "# Rubble.course(Euro)   ==> 0.01 EUR for 1 RUB\n",
    "\n",
    "e = Euro(100)\n",
    "r = Rubble(100)\n",
    "d = Dollar(200)\n",
    "\n",
    "print(\n",
    "    f\"e = {e}\\n\"\n",
    "    f\"e.to(Dollar) = {e.to(Dollar)}\\n\"\n",
    "    f\"e.to(Rubble) = {e.to(Rubble)}\\n\"\n",
    "    f\"e.to(Euro)   = {e.to(Euro)}\\n\"\n",
    ")\n",
    "# e = 100 EUR\n",
    "# e.to(Dollar) = 200.0 USD\n",
    "# e.to(Rubble) = 10000.0 RUB\n",
    "# e.to(Euro)   = 100.0 EUR\n",
    "\n",
    "print(\n",
    "    f\"r = {r}\\n\"\n",
    "    f\"r.to(Dollar) = {r.to(Dollar)}\\n\"\n",
    "    f\"r.to(Euro)   = {r.to(Euro)}\\n\"\n",
    "    f\"r.to(Rubble) = {r.to(Rubble)}\\n\"\n",
    ")\n",
    "# r = 100 RUB\n",
    "# r.to(Dollar) = 2.0 USD\n",
    "# r.to(Euro)   = 1.0 EUR\n",
    "# r.to(Rubble) = 100.0 RUB\n",
    "\n",
    "print(\n",
    "    f\"e > r   ==> {e > r}\\n\"\n",
    "    f\"e == d  ==> {e == d}\\n\"\n",
    ")\n",
    "# e > r   ==> True\n",
    "# e == d  ==> True\n",
    "\n",
    "print(\n",
    "    f\"e + r  =>  {e + r}\\n\"\n",
    "    f\"r + d  =>  {r + d}\\n\"\n",
    "    f\"d + e  =>  {d + e}\\n\"\n",
    ")\n",
    "# e + r  =>  101.0 EUR\n",
    "# r + d  =>  10100.0 RUB\n",
    "# d + e  =>  400.0 USD\n",
    "\n",
    "print(sum([Euro(i) for i in range(5)]))\n",
    "# 10.0 EUR\n",
    "```"
   ]
  },
  {
   "cell_type": "markdown",
   "metadata": {},
   "source": [
    "<center>🐍</center>"
   ]
  }
 ],
 "metadata": {
  "authors": [
   {
    "name": "Aleksandr Koriagin <Aleksandr_Koriagin@epam.com>"
   }
  ],
  "kernelspec": {
   "display_name": "Python 3",
   "language": "python",
   "name": "python3"
  },
  "language_info": {
   "codemirror_mode": {
    "name": "ipython",
    "version": 3
   },
   "file_extension": ".py",
   "mimetype": "text/x-python",
   "name": "python",
   "nbconvert_exporter": "python",
   "pygments_lexer": "ipython3",
   "version": "3.7.6"
  }
 },
 "nbformat": 4,
 "nbformat_minor": 2
}
