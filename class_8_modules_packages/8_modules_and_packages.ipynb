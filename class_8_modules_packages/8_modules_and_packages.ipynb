{
 "cells": [
  {
   "cell_type": "code",
   "execution_count": 1,
   "metadata": {
    "scrolled": true
   },
   "outputs": [
    {
     "name": "stdout",
     "output_type": "stream",
     "text": [
      "-done-\n"
     ]
    }
   ],
   "source": [
    "# -- run me first --\n",
    "from pprint import pprint  # for pretty printing\n",
    "# display all outputs, not only last one\n",
    "from IPython.core.interactiveshell import InteractiveShell\n",
    "InteractiveShell.ast_node_interactivity = \"all\"\n",
    "# Create dir for files\n",
    "# !cd ~/work/\n",
    "# !rm -rf ~/work/8_modules_and_packages_files\n",
    "# !mkdir -p ~/work/8_modules_and_packages_files\n",
    "print(\"-done-\")"
   ]
  },
  {
   "cell_type": "markdown",
   "metadata": {},
   "source": [
    "<center>🐍</center>"
   ]
  },
  {
   "cell_type": "markdown",
   "metadata": {},
   "source": [
    "***\n",
    "# 8. Модули и Пакеты\n",
    "<div style=\"text-align: right; font-weight: bold\">Aleksandr Koriagin</div>\n",
    "<div style=\"text-align: right; font-weight: bold\"><span style=\"color: #76CDD8;\">&lt;</span>epam<span style=\"color: #76CDD8;\">&gt;</span></div>\n",
    "<div style=\"text-align: right; font-weight: bold\">May 2020</div>\n",
    "<div style=\"text-align: right; font-style: italic\">Nizhny Novgorod</div>"
   ]
  },
  {
   "cell_type": "markdown",
   "metadata": {},
   "source": [
    "***\n",
    "## Оглавление<a id=\"0\"></a>"
   ]
  },
  {
   "cell_type": "markdown",
   "metadata": {},
   "source": [
    "1. [Модули](#1)\n",
    "    1. Подключение модуля из стандартной библиотеки\n",
    "    1. Использование псевдонимов\n",
    "    1. Инструкция `from`\n",
    "    1. Инструкция `from` co звёздочкой\n",
    "    1. Изолированное пространство имен\n",
    "    1. Создание своего модуля\n",
    "    1. Именование модулей\n",
    "    1. Использование атрибута `__name__`\n",
    "2. [Пакеты](#2)\n",
    "    1. Возможности `__init__.py`\n",
    "    1. Относительный импорт\n",
    "    1. Что может быть импортировано?\n",
    "    1. Пути поиска модулей\n",
    "    1. Полный список путей поиска\n",
    "    1. Импорт и PEP8\n",
    "3. [Инструменты управления пакетами](#3)\n",
    "    1. Cкачивание и установка пакетов через PIP\n",
    "        1. `pip` или `pip3`\n",
    "    1. Venv\n",
    "        1. Как работает venv?\n",
    "    1. Virtualenv\n",
    "    1. Setuptools и `setup.py`\n",
    "        1. Примеры команд\n",
    "4. [Дополнительные темы](#4)\n",
    "    1. Повторная загрузка модулей\n",
    "    1. Циклический (рекурсивный) импорт\n",
    "    1. Динамический импорт\n",
    "    1. Namespace packages\n",
    "    1. Файл `__main__.py`\n",
    "5. [Домашняя работа](#5)"
   ]
  },
  {
   "cell_type": "code",
   "execution_count": null,
   "metadata": {},
   "outputs": [],
   "source": [
    "%%bash\n",
    "# generate table of contents\n",
    "cat ~/work/8_modules_and_packages.ipynb | grep \"##\" | grep -v \"cat\" | sed  \"s/#/    /g\" | tr -d '\"'"
   ]
  },
  {
   "cell_type": "markdown",
   "metadata": {},
   "source": [
    "***\n",
    "## 1. Модули<a id=\"1\"></a>"
   ]
  },
  {
   "cell_type": "markdown",
   "metadata": {},
   "source": [
    "Для простоты понимания, под термином ***модуль*** в Python мы будем понимать файл с исходным кодом, имеющий расширение `.py`, <br>а ***пакет*** – это каталог, который может включать другие каталоги или модули."
   ]
  },
  {
   "cell_type": "markdown",
   "metadata": {},
   "source": [
    "### Подключение модуля из стандартной библиотеки"
   ]
  },
  {
   "cell_type": "markdown",
   "metadata": {},
   "source": [
    "Подключить модуль можно с помощью инструкции `import`\n",
    "\n",
    "Модуль может содержать функции, классы, объекты классов и переменные – все это будет доступно для других модулей, если правильно импортировать данный. Также в модуле может содержаться программный код, который будет выполняться, если скрипт запустить на исполнение."
   ]
  },
  {
   "cell_type": "code",
   "execution_count": null,
   "metadata": {},
   "outputs": [],
   "source": [
    "import this"
   ]
  },
  {
   "cell_type": "markdown",
   "metadata": {},
   "source": [
    "После ключевого слова `import` указывается название модуля. \n",
    "<br>Одной инструкцией можно подключить несколько модулей, хотя этого ***не рекомендуется делать, так как это снижает читаемость кода***."
   ]
  },
  {
   "cell_type": "code",
   "execution_count": null,
   "metadata": {
    "scrolled": true
   },
   "outputs": [],
   "source": [
    "import time, random\n",
    "\n",
    "time.time()\n",
    "random.random()"
   ]
  },
  {
   "cell_type": "markdown",
   "metadata": {},
   "source": [
    "После импортирования модуля его название становится переменной, через которую можно получить доступ к атрибутам модуля. <br>Например, можно обратиться к константе `e`, расположенной в модуле `math`:"
   ]
  },
  {
   "cell_type": "code",
   "execution_count": null,
   "metadata": {
    "scrolled": true
   },
   "outputs": [],
   "source": [
    "import math\n",
    "math.e"
   ]
  },
  {
   "cell_type": "markdown",
   "metadata": {},
   "source": [
    "Если указанный атрибут модуля не будет найден, поднимется исключение `AttributeError`. А если не удастся найти модуль для импортирования, то `ModuleNotFoundError`."
   ]
  },
  {
   "cell_type": "code",
   "execution_count": null,
   "metadata": {
    "scrolled": true
   },
   "outputs": [],
   "source": [
    "import math\n",
    "math.AAAA"
   ]
  },
  {
   "cell_type": "code",
   "execution_count": null,
   "metadata": {
    "scrolled": true
   },
   "outputs": [],
   "source": [
    "import not_exist"
   ]
  },
  {
   "cell_type": "markdown",
   "metadata": {},
   "source": [
    "Примерный аналог кода для иллюстрации"
   ]
  },
  {
   "cell_type": "code",
   "execution_count": null,
   "metadata": {
    "scrolled": true
   },
   "outputs": [],
   "source": [
    "%%writefile ~/work/8_modules_and_packages_files/my_module.py\n",
    "\n",
    "# Создаем свой модуль\n",
    "def say_hello():\n",
    "    return \"Hello!\""
   ]
  },
  {
   "cell_type": "code",
   "execution_count": null,
   "metadata": {
    "scrolled": true
   },
   "outputs": [],
   "source": [
    "%cd ~/work/8_modules_and_packages_files\n",
    "\n",
    "import sys\n",
    "from types import ModuleType\n",
    "\n",
    "if 'my_module' not in sys.modules:                      # Проверка кэша (повторный импорт не происходит)\n",
    "    sys.modules['my_module'] = ModuleType('my_module')  # Создание объекта модуля\n",
    "    code = open('my_module.py', 'rb').read()            # Чтение исходного кода (компиляция тут опущена)\n",
    "    exec(code, sys.modules['my_module'].__dict__)       # Инициализация модуля (выполнение кода в пространстве имен модуля)\n",
    "\n",
    "module_alias = sys.modules['my_module']                 # Объект появляется в локальной области видимости\n",
    "module_alias.say_hello()"
   ]
  },
  {
   "cell_type": "markdown",
   "metadata": {},
   "source": [
    "### Использование псевдонимов"
   ]
  },
  {
   "cell_type": "markdown",
   "metadata": {},
   "source": [
    "Если название модуля слишком длинное, или оно вам не нравится по каким-то другим причинам, то для него можно создать псевдоним, с помощью ключевого слова `as`."
   ]
  },
  {
   "cell_type": "code",
   "execution_count": null,
   "metadata": {
    "scrolled": true
   },
   "outputs": [],
   "source": [
    "import math as m\n",
    "m.e"
   ]
  },
  {
   "cell_type": "markdown",
   "metadata": {},
   "source": [
    "Теперь доступ ко всем атрибутам модуля `math` осуществляется только с помощью переменной `m`, а переменной `math` в этой программе уже не будет."
   ]
  },
  {
   "cell_type": "markdown",
   "metadata": {},
   "source": [
    "### Инструкция `from`"
   ]
  },
  {
   "cell_type": "markdown",
   "metadata": {},
   "source": [
    "Подключить определенные атрибуты модуля можно с помощью инструкции `from`. Она имеет несколько форматов:\n",
    "```python\n",
    "from <Название модуля> import <Атрибут 1> [ as <Псевдоним 1> ], [<Атрибут 2> [ as <Псевдоним 2> ] ...]\n",
    "from <Название модуля> import *\n",
    "```\n",
    "Первый формат позволяет подключить из модуля только указанные вами атрибуты. Для длинных имен также можно назначить псевдоним, указав его после ключевого слова `as`."
   ]
  },
  {
   "cell_type": "code",
   "execution_count": null,
   "metadata": {
    "scrolled": true
   },
   "outputs": [],
   "source": [
    "from math import e, ceil as c\n",
    "\n",
    "e\n",
    "c(4.6)"
   ]
  },
  {
   "cell_type": "markdown",
   "metadata": {},
   "source": [
    "Импортируемые атрибуты можно разместить на нескольких строках, если их много, для лучшей читаемости кода:\n",
    "```python\n",
    "from math import (\n",
    "    sin, cos,\n",
    "    tan, atan\n",
    ")\n",
    "```"
   ]
  },
  {
   "cell_type": "markdown",
   "metadata": {},
   "source": [
    "### Инструкция `from` co звёздочкой"
   ]
  },
  {
   "cell_type": "markdown",
   "metadata": {},
   "source": [
    "Второй формат инструкции `from` позволяет подключить все (точнее, почти все) переменные из модуля.\n",
    "\n",
    "***Таких импортов \"со звездочкой\" в большинстве случаев рекомендуется избегать (см. [PEP8](https://www.python.org/dev/peps/pep-0008/#imports)).***\n",
    "> Шаблоны импортов `from <module> import *` следует избегать, так как они делают неясным то, какие имена присутствуют в глобальном пространстве имён, что вводит в заблуждение как читателей, так и многие автоматизированные средства. ...\n",
    "\n",
    "<br>Для примера импортируем все атрибуты из модуля `sys`:"
   ]
  },
  {
   "cell_type": "code",
   "execution_count": null,
   "metadata": {
    "scrolled": true
   },
   "outputs": [],
   "source": [
    "from sys import *\n",
    "\n",
    "version\n",
    "version_info"
   ]
  },
  {
   "cell_type": "markdown",
   "metadata": {},
   "source": [
    "Форма `from module import *` доступна только на верхнем уровне импортирующего модуля. При попытке использовать ее внутри функции возникнет исключение `SyntaxError` (еще на этапе определения этой функции)."
   ]
  },
  {
   "cell_type": "code",
   "execution_count": null,
   "metadata": {
    "scrolled": true
   },
   "outputs": [],
   "source": [
    "def some_func():\n",
    "    from sys import *\n",
    "    print(version)\n",
    "\n",
    "some_func()"
   ]
  },
  {
   "cell_type": "markdown",
   "metadata": {},
   "source": [
    "Следует заметить, что не все атрибуты будут импортированы. \n",
    "Если в модуле определена переменная `__all__` (список атрибутов, которые могут быть подключены), то будут подключены только атрибуты из этого списка. Если переменная `__all__` не определена, то будут подключены все атрибуты, не начинающиеся с нижнего подчёркивания. Кроме того, необходимо учитывать, что импортирование всех атрибутов из модуля может нарушить пространство имен главной программы, так как переменные, имеющие одинаковые имена, будут перезаписаны."
   ]
  },
  {
   "cell_type": "code",
   "execution_count": null,
   "metadata": {
    "scrolled": true
   },
   "outputs": [],
   "source": [
    "%%writefile alltest.py\n",
    "# file: alltest.py\n",
    "# Если __all__ не задан, импортируются все имена. Это распространяется только на импорты через \"*\"\n",
    "__all__ = ['say_something']\n",
    "\n",
    "def say_something():\n",
    "    return some_str\n",
    "\n",
    "some_str = \"Hello!\"\n",
    "some_dict = {\"a\": 1}\n",
    "some_int = 42"
   ]
  },
  {
   "cell_type": "code",
   "execution_count": null,
   "metadata": {
    "scrolled": true
   },
   "outputs": [],
   "source": [
    "%cd ~/work/8_modules_and_packages_files\n",
    "\n",
    "from alltest import *\n",
    "\n",
    "say_something\n",
    "say_something()\n",
    "some_str       # NameError"
   ]
  },
  {
   "cell_type": "code",
   "execution_count": null,
   "metadata": {
    "scrolled": true
   },
   "outputs": [],
   "source": [
    "%cd ~/work/8_modules_and_packages_files\n",
    "\n",
    "import alltest\n",
    "alltest.some_str\n",
    "\n",
    "from alltest import some_str as some_str_my\n",
    "some_str_my"
   ]
  },
  {
   "cell_type": "markdown",
   "metadata": {},
   "source": [
    "### Изолированное пространство имен"
   ]
  },
  {
   "cell_type": "code",
   "execution_count": 2,
   "metadata": {
    "scrolled": true
   },
   "outputs": [],
   "source": [
    "%pycat alltest.py"
   ]
  },
  {
   "cell_type": "code",
   "execution_count": 3,
   "metadata": {
    "scrolled": true
   },
   "outputs": [
    {
     "name": "stdout",
     "output_type": "stream",
     "text": [
      "1) say_something() => Hello!\n",
      "\n",
      "2) alltest.some_dict ==> {'a': 1, 'b': 2}\n",
      "\n",
      "3) say_something() => May the Force be with you\n"
     ]
    }
   ],
   "source": [
    "# %cd ~/work/8_modules_and_packages_files\n",
    "from alltest import say_something, some_str, some_dict\n",
    "\n",
    "# Функции модуля используют глобальные переменные модуля\n",
    "some_str = \"Goodbye!\"\n",
    "print(f\"1) say_something() => {say_something()}\\n\")\n",
    "\n",
    "some_dict[\"b\"] = 2       # Не рекомендуется без причины\n",
    "some_dict = {\"new\": 789}\n",
    "\n",
    "import alltest\n",
    "print(f\"2) alltest.some_dict ==> {alltest.some_dict}\\n\")\n",
    "\n",
    "alltest.some_str = \"May the Force be with you\"    # monkey patching\n",
    "print(f\"3) say_something() => {say_something()}\")"
   ]
  },
  {
   "cell_type": "code",
   "execution_count": null,
   "metadata": {},
   "outputs": [],
   "source": [
    "## TODO!!!\n",
    "# %cd ~/work/8_modules_and_packages_files\n",
    "\n",
    "from alltest import say_something, some_dict\n",
    "some_dict\n",
    "some_dict[\"b\"] = 2\n",
    "some_dict"
   ]
  },
  {
   "cell_type": "markdown",
   "metadata": {},
   "source": [
    "### Создание своего модуля"
   ]
  },
  {
   "cell_type": "code",
   "execution_count": null,
   "metadata": {
    "scrolled": true
   },
   "outputs": [],
   "source": [
    "%%writefile ~/work/8_modules_and_packages_files/my_simplemath.py\n",
    "# file: my_simplemath.py\n",
    "\n",
    "VAR = 'some my var'\n",
    "\n",
    "class SomeClass:\n",
    "    a = 1\n",
    "\n",
    "some_class = SomeClass()\n",
    "\n",
    "def add(a, b):\n",
    "    return a + b\n",
    "\n",
    "def sub(a, b):\n",
    "    return a - b\n",
    "\n",
    "def mul(a, b):\n",
    "    return a * b\n",
    "\n",
    "def div(a, b):\n",
    "    return a / b"
   ]
  },
  {
   "cell_type": "code",
   "execution_count": null,
   "metadata": {
    "scrolled": true
   },
   "outputs": [],
   "source": [
    "%cd ~/work/8_modules_and_packages_files\n",
    "\n",
    "import my_simplemath\n",
    "\n",
    "my_simplemath.add(1, 2)   # function\n",
    "my_simplemath.VAR         # variable\n",
    "my_simplemath.SomeClass   # class\n",
    "my_simplemath.some_class  # class instance"
   ]
  },
  {
   "cell_type": "code",
   "execution_count": null,
   "metadata": {
    "scrolled": true
   },
   "outputs": [],
   "source": [
    "%cd ~/work/8_modules_and_packages_files\n",
    "\n",
    "from my_simplemath import sub\n",
    "\n",
    "sub(2, 3)"
   ]
  },
  {
   "cell_type": "markdown",
   "metadata": {},
   "source": [
    "### Именование модулей"
   ]
  },
  {
   "cell_type": "markdown",
   "metadata": {},
   "source": [
    "На имена модулей накладываются те же требования, что и на имена переменных.\n",
    "\n",
    "Дополнительные рекомендации:\n",
    "* Имена модулей должны быть в нижнем регистре\n",
    "* Cледует избегать использование в имени символы не из набора ASCII\n",
    "* Можно использовать нижнее подчеркивание для обозначения \"скрытых\" внутренних модулей\n",
    "* Следует избегать совпадения названия с модулями из стандартной библиотеки\n",
    "* Модуль нельзя именовать также, как и ключевое слово (`class`, `except`, `False`, ...)\n"
   ]
  },
  {
   "cell_type": "markdown",
   "metadata": {},
   "source": [
    "### Использование атрибута `__name__`"
   ]
  },
  {
   "cell_type": "markdown",
   "metadata": {},
   "source": [
    "При импортировании модуля его код выполняется полностью, то есть, если программа что-то печатает, то при её импортировании это будет напечатано. Этого можно избежать, если проверять, запущен ли скрипт как программа, или импортирован. Это можно сделать с помощью переменной `__name__`, которая определена в любой программе, и равна `\"__main__\"`, если скрипт запущен в качестве главной программы, и имя, если он импортирован. Например, `mymodule.py` может выглядеть вот так:"
   ]
  },
  {
   "cell_type": "code",
   "execution_count": null,
   "metadata": {
    "scrolled": true
   },
   "outputs": [],
   "source": [
    "%%writefile ~/work/8_modules_and_packages_files/nametest.py\n",
    "#file: nametest.py\n",
    "\n",
    "def say_something():\n",
    "    print(f\"Hello! My __name__ is: '{__name__}'\")\n",
    "\n",
    "if __name__ == \"__main__\":\n",
    "    say_something()"
   ]
  },
  {
   "cell_type": "code",
   "execution_count": null,
   "metadata": {
    "scrolled": true
   },
   "outputs": [],
   "source": [
    "%cd ~/work/8_modules_and_packages_files\n",
    "\n",
    "import nametest\n",
    "\n",
    "nametest.say_something()"
   ]
  },
  {
   "cell_type": "code",
   "execution_count": null,
   "metadata": {
    "scrolled": true
   },
   "outputs": [],
   "source": [
    "%run ~/work/8_modules_and_packages_files/nametest.py"
   ]
  },
  {
   "cell_type": "markdown",
   "metadata": {},
   "source": [
    "***\n",
    "## 2. Пакеты<a id=\"2\"></a>"
   ]
  },
  {
   "cell_type": "markdown",
   "metadata": {},
   "source": [
    "Cвязанные модули принято объединять в пакеты. Пакет в Python – это каталог, включающий в себя другие каталоги и модули, но при этом дополнительно содержащий файл `__init__.py`. Пакеты используются для формирования пространства имен, что позволяет работать с модулями через указание уровня вложенности (через точку).\n",
    "\n",
    "Для импортирования пакетов используется тот же синтаксис, что и для работы с модулями."
   ]
  },
  {
   "cell_type": "markdown",
   "metadata": {},
   "source": [
    "Рассмотрим следующую структуру пакета:\n",
    "```\n",
    "fincalc/\n",
    "|-- __init__.py\n",
    "|-- simper.py\n",
    "|-- compper.py\n",
    "|-- annuity.py\n",
    "```\n",
    "Пакет `fincal` содержит в себе модули для работы с простыми процентами (`simper.py`), сложными процентами (`compper.py`) и аннуитетами (`annuity.py`).\n",
    "\n",
    "Для использования фукнции из модуля работы с простыми процентами, можно использовать один из следующих вариантов:\n",
    "```python\n",
    "import fincalc.simper\n",
    "fv = fincalc.simper.fv(pv, i, n)\n",
    "\n",
    "import fincalc.simper as sp\n",
    "fv =sp.fv(pv, i, n)\n",
    "\n",
    "from fincalc import simper\n",
    "fv = simper.fv(pv, i, n)\n",
    "```\n",
    "Файл `__init__.py` может быть пустым или может содержать переменную `__all__`, хранящую список модулей, который импортируется при загрузке через конструкцию\n",
    "```python\n",
    "from имя_пакета import *\n",
    "```\n",
    "Например для нашего случая содержимое `__init__.py` может быть вот таким:\n",
    "```python\n",
    "__all__ = [\"simper\", \"compper\", \"annuity\"]\n",
    "```"
   ]
  },
  {
   "cell_type": "markdown",
   "metadata": {},
   "source": [
    "Например, возможная структура пакета:\n",
    "```\n",
    "sound/                          Пакет верхнего уровня\n",
    "      __init__.py               Инициализация пакета работы со звуком (sound)\n",
    "      formats/                  Подпакет для конвертирования форматов файлов\n",
    "              __init__.py\n",
    "              wavread.py        (чтение wav)\n",
    "              wavwrite.py       (запись wav)\n",
    "              aiffread.py       (чтение aiff)\n",
    "              aiffwrite.py      (запись aiff)\n",
    "              auread.py         (чтение au)\n",
    "              auwrite.py        (запись au)\n",
    "              ...\n",
    "      effects/                  Подпакет для звуковых эффектов\n",
    "              __init__.py\n",
    "              echo.py           ( эхо )\n",
    "              surround.py       ( окружение )\n",
    "              reverse.py        ( обращение )\n",
    "              ...\n",
    "      filters/                  Подпакет для фильтров\n",
    "              __init__.py\n",
    "              equalizer.py      ( эквалайзер )\n",
    "              vocoder.py        ( вокодер ) \n",
    "              karaoke.py        ( караоке )\n",
    "              ...\n",
    "```"
   ]
  },
  {
   "cell_type": "markdown",
   "metadata": {},
   "source": [
    "### Возможности `__init__.py`"
   ]
  },
  {
   "cell_type": "markdown",
   "metadata": {},
   "source": [
    "`__init__.py` позволяет Питону интерпретировать директория как пакет. \n",
    "\n",
    "В общем случае файл `__init__.py` предназначен для выполнения действий по инициализации пакета, создания пространства имен для каталога и реализации поведения инструкций `from ... import *`, когда они используются для импортирования каталогов.\n",
    "\n",
    "Когда интерпретатор Python импортрирует каталог в первый раз он автоматически запускает программный код файла `__init__.py` этого каталога."
   ]
  },
  {
   "cell_type": "markdown",
   "metadata": {},
   "source": [
    "```python\n",
    "# file: mypackage/__init__.py\n",
    "\n",
    "# Импортировать имена из подмодулей для удобства\n",
    "# (для больших библиотек автоматически импортировать все подмодули нежелательно)\n",
    "from mypackage.submodule import say_something \n",
    "\n",
    "# Ограничить доступность имен для импорта через \"*\"\n",
    "__all__ = ['say_something']\n",
    "\n",
    "# Добавить любой код инициализации пакета\n",
    "# (определять здесь сами импортируемые объекты нежелательно)\n",
    "print('Initializing package')\n",
    "\n",
    "# Изменить пути поиска подмодулей (o_0)\n",
    "__path__.append(['/path/to/directory', '.'])\n",
    "\n",
    "# Можно оставить данный файл и вовсе пустым.\n",
    "```"
   ]
  },
  {
   "cell_type": "markdown",
   "metadata": {},
   "source": [
    "### Относительный импорт"
   ]
  },
  {
   "cell_type": "markdown",
   "metadata": {},
   "source": [
    "При ***абсолютном*** импорте используется полный путь (от начала корневой папки проекта) к желаемому модулю.\n",
    "\n",
    "При ***относительном*** импорте используется относительный путь (начиная с пути текущего модуля) к желаемому модулю. Есть два типа относительных импортов:\n",
    "* При явном импорте используется формат `from .<модуль/пакет> import X`, где символы точки `.` показывают, на сколько директорий \"вверх\" нужно подняться. Одна точка `.` показывает текущую директорию, две точки `..` — на одну директорию выше и т. д.\n",
    "* Неявный относительный импорт пишется так, как если бы текущая директория была частью `sys.path`. Такой тип импортов поддерживается только в Python 2.\n",
    "\n",
    "В документации Python об относительных импортах в Python 3 написано следующее:\n",
    "> Единственный приемлемый синтаксис для относительных импортов — `from .[модуль] import [имя]`. Все импорты, которые начинаются не с точки `.`, считаются абсолютными. [link](https://docs.python.org/3.0/whatsnew/3.0.html#removed-syntax)"
   ]
  },
  {
   "cell_type": "markdown",
   "metadata": {},
   "source": [
    "**Абсолютные импорты предпочтительнее относительных**.\n",
    "<br>Они позволяют избежать путаницы между явными и неявными импортами. Кроме того, любой скрипт с явными относительными импортами нельзя запустить напрямую"
   ]
  },
  {
   "cell_type": "markdown",
   "metadata": {},
   "source": [
    "Больше информации:\n",
    "* [Абсолютный и относительный импорт](https://tproger.ru/translations/guide-into-python-imports/#11)\n",
    "* [Absolute vs Relative Imports in Python](https://realpython.com/absolute-vs-relative-python-imports/#relative-imports)\n",
    "* [Relative imports in Python 3](https://stackoverflow.com/questions/16981921/relative-imports-in-python-3)"
   ]
  },
  {
   "cell_type": "markdown",
   "metadata": {},
   "source": [
    "### Что может быть импортировано?"
   ]
  },
  {
   "cell_type": "markdown",
   "metadata": {},
   "source": [
    "```python\n",
    "import module\n",
    "```\n",
    "Чем может быть `module` в данном случае:\n",
    "* файлом с исходным кодом (`module.py`), в т.ч. в ZIP-архиве\n",
    "* файлом с байт-кодом (`module.pyc`), компиляция которого прошла при прошедшем ранее импорте\n",
    "* пакетом (каталогом с именем `module`)\n",
    "* встроенным модулем (таким как например `math`)\n",
    "* динамической библиотекой (`module.so`, `module.dll`) для `CPython`\n",
    "* классом `Java` для `Jython`, компонентом `.NET` для `IronPython`\n",
    "* ну и в самом общем случае чем угодно (если переопределить механизм импорта) ..."
   ]
  },
  {
   "cell_type": "markdown",
   "metadata": {},
   "source": [
    "### Пути поиска модулей:"
   ]
  },
  {
   "cell_type": "markdown",
   "metadata": {},
   "source": [
    "1. Каталог с запускаемым файлом (в интерактивном режиме - текущий каталог)\n",
    "1. Пути из переменной окружения `PYTHONPATH` (разделенные `:` или `;` в зависимости от операционной системы)\n",
    "1. Каталоги стандартной библиотеки\n",
    "1. Глобальный каталог `site-packages` (`pip install …`)\n",
    "1. Пользовательский каталог `site-packages` (`pip install –-user …`)\n",
    "1. Дополнительные каталоги `dist-packages` на Linux (`apt install …`)\n",
    "1. Файлы `*.pth` в `site-packages`\n",
    "1. … и другие (см. `sys.path` в случае сомнений)\n"
   ]
  },
  {
   "cell_type": "markdown",
   "metadata": {},
   "source": [
    "**Подробне**: <br>\"Python in a Nutshell\", глава _\"Поиск модуля в файловой системе\"_ : [PDF](http://www.williamspublishing.com/PDF/978-5-6040723-8-7/part.pdf)"
   ]
  },
  {
   "cell_type": "markdown",
   "metadata": {},
   "source": [
    "### Полный список путей поиска"
   ]
  },
  {
   "cell_type": "markdown",
   "metadata": {},
   "source": [
    "* Поиск модулей будет производиться только в каталогах, присутствующих в списке `sys.path`\n",
    "* `sys.path` формируется при старте интерпретатора по крайне запутанному сценарию в зависимости от множества факторов и параметров (например часть записей напрямую зависит от каталога установки Python, т.н. \"префикса\")\n",
    "* `sys.path` – список изменяемый (вносимые изменения будут влиять на все последующие импорты модулей)\n",
    "* Пути в списке могут как абсолютными, так и относительными (от текущего каталога)\n",
    "* Наравне с каталогами в списке могут фигурировать ZIP-архивы и EGG-файлы\n"
   ]
  },
  {
   "cell_type": "code",
   "execution_count": null,
   "metadata": {
    "scrolled": true
   },
   "outputs": [],
   "source": [
    "%cd ~/work\n",
    "# export PYTHONPATH='/aaa/bbb'\n",
    "%env PYTHONPATH /aaa/bbb\n",
    "\n",
    "!python3 -c \"import sys; import pprint; pprint.pprint(sorted(sys.path))\";"
   ]
  },
  {
   "cell_type": "code",
   "execution_count": null,
   "metadata": {
    "scrolled": true
   },
   "outputs": [],
   "source": [
    "import sys\n",
    "pprint(sorted(sys.path))"
   ]
  },
  {
   "cell_type": "markdown",
   "metadata": {},
   "source": [
    "### Импорт и PEP8"
   ]
  },
  {
   "cell_type": "markdown",
   "metadata": {},
   "source": [
    "Imports should be grouped in the following order:\n",
    "* Standard library imports.\n",
    "* Related third party imports.\n",
    "* Local application/library specific imports.\n",
    "\n",
    "You should put a blank line between each group of imports."
   ]
  },
  {
   "cell_type": "markdown",
   "metadata": {},
   "source": [
    "https://www.python.org/dev/peps/pep-0008/#imports\n",
    "\n",
    "**isort**: https://github.com/timothycrosley/isort"
   ]
  },
  {
   "cell_type": "markdown",
   "metadata": {},
   "source": [
    "***\n",
    "## 3. Инструменты управления пакетами<a id=\"3\"></a>"
   ]
  },
  {
   "cell_type": "markdown",
   "metadata": {},
   "source": [
    "### Cкачивание и установка пакетов через PIP"
   ]
  },
  {
   "cell_type": "markdown",
   "metadata": {},
   "source": [
    "PIP – менеджер пакетов для Python, умеющий скачивать пакеты (как из централизованного хранилища PyPI, так и например из любых git-репозиториев) и устанавливать их. Появился как замена похожему на него инструменту easy_install. [PIP user_guide](https://pip.pypa.io/en/latest/user_guide/)"
   ]
  },
  {
   "cell_type": "markdown",
   "metadata": {},
   "source": [
    "Help:\n",
    "```\n",
    "$ pip --help\n",
    "$ pip install --help\n",
    "$ pip uninstall --help\n",
    "```\n",
    "\n",
    "numpy: https://pypi.org/project/numpy/\n",
    "\n",
    "Установить последнюю версию пакета:\n",
    "```\n",
    "$ pip install --upgrade numpy\n",
    "```\n",
    "\n",
    "Установить конкретную версию пакета:\n",
    "```\n",
    "$ pip install numpy==1.18.1\n",
    "$ pip install numpy==1.*\n",
    "$ pip install 'numpy>=1.0,<2.0'\n",
    "```\n",
    "\n",
    "Установить из GIT:\n",
    "```\n",
    "$ pip install git+https://github.com/numpy/numpy\n",
    "```\n",
    "\n",
    "Удалить пакет:\n",
    "```\n",
    "$ pip uninstall numpy\n",
    "```\n",
    "\n",
    "Установить список пакетов из файла:\n",
    "```\n",
    "$ pip install –r requirements.txt\n",
    "\n",
    "requirements.txt:\n",
    "    numpy==1.18.1\n",
    "    some_other_package==1.2.3\n",
    "```\n",
    "\n",
    "Вывести список установленных пакетов и их версий:\n",
    "```\n",
    "$ pip freeze\n",
    "$ pip list\n",
    "```\n",
    "\n",
    "Сохранить список пакетов в файл:\n",
    "```\n",
    "$ pip freeze > requirements.txt\n",
    "```"
   ]
  },
  {
   "cell_type": "markdown",
   "metadata": {},
   "source": [
    "#### `pip` или `pip3`"
   ]
  },
  {
   "cell_type": "markdown",
   "metadata": {},
   "source": [
    "В зависимости от того, как установлен и настроен Python в системе, может потребоваться использовать `pip3` вместо `pip`. Чтобы проверить, какой вариант используется, надо выполнить команду `pip --version`.\n",
    "```\n",
    "$ pip --version\n",
    "pip 20.0.2 from /usr/local/lib/python3.6/dist-packages/pip (python 3.6)\n",
    "```\n",
    "Если есть сомнения, то лучше использовать альтернативный вариант вызова pip:\n",
    "```\n",
    "$ python3 -m pip install numpy\n",
    "```"
   ]
  },
  {
   "cell_type": "markdown",
   "metadata": {},
   "source": [
    "### Venv"
   ]
  },
  {
   "cell_type": "markdown",
   "metadata": {},
   "source": [
    "`Virtualenv` – инструмент для работы с несколькими \"виртуальными окружениями\", в каждом из которых установлен отдельный набор пакетов определенных версий. В последних версиях Python входит в стандартную библиотеку, ранее же был сторонним компонентом, устанавливаемым как правило средствами pip или пакетного менеджера операционной системы."
   ]
  },
  {
   "cell_type": "markdown",
   "metadata": {},
   "source": [
    "https://docs.python.org/3/library/venv.html\n",
    "\n",
    "Установить если нет в системе:\n",
    "```\n",
    "$ sudo apt-get install python3-venv\n",
    "```\n",
    "Создать виртуальное окружение в каталоге `py3venv`\n",
    "```\n",
    "$ python3 -m venv py3venv\n",
    "```\n",
    "\"Активировать\" окружение (установить переменную окружения `PATH`)\n",
    "```\n",
    "$ source py3venv/bin/activate\n",
    "```\n",
    "Установить пакет:\n",
    "```\n",
    "(.py3venv)$ pip install numpy\n",
    "```\n",
    "Запустить интерпретатор:\n",
    "<br>можно запускать напрямую из `bin/` без \"activate\"\n",
    "```\n",
    "(.py3venv)$ python\n",
    "```\n",
    "\"Деактивировать\" окружение:\n",
    " ```\n",
    " $ deactivate\n",
    " ```"
   ]
  },
  {
   "cell_type": "markdown",
   "metadata": {},
   "source": [
    "#### Как работает venv?"
   ]
  },
  {
   "cell_type": "markdown",
   "metadata": {},
   "source": [
    "Пакетные менеджеры устанавливают пакеты в каталог `site-packages`, который находится внутри каталога установки Python (т.н. \"префикса\"). При запуске интерпретатор Python находит этот каталог установки, пробуя следующие способы (в порядке очередности):\n",
    "\n",
    "* По содержимому файла `pyvenv.cfg`, находимому в каталоге рядом с интерпретатором либо в каталогах верхнего уровня. Новые версии virtualenv основаны именно на этом способе.\n",
    "* По значению переменной окружения `PYTHONHOME`\n",
    "* По расположению ключевых файлов стандартной библиотеки (например `os.py`) в каталогах верхних уровней относительно интерпретатора\n",
    "* По значению префикса, зашитому в исполняемом файле интерпретатора при компиляции\n",
    "\n",
    "```\n",
    "$ tree -a -L 4 -I \"__pycache__\" .py3venv/\n",
    ".py3venv/\n",
    "├── bin\n",
    "│   ├── activate\n",
    "│   ├── activate.csh\n",
    "│   ├── activate.fish\n",
    "│   ├── easy_install\n",
    "│   ├── easy_install-3.6\n",
    "│   ├── pip\n",
    "│   ├── pip3\n",
    "│   ├── pip3.6\n",
    "│   ├── python -> python3\n",
    "│   └── python3 -> /usr/bin/python3\n",
    "├── include\n",
    "├── lib\n",
    "│   └── python3.6\n",
    "│       └── site-packages\n",
    "│           ├── easy_install.py\n",
    "│           ├── pip\n",
    "│           ├── pip-9.0.1.dist-info\n",
    "│           ├── pkg_resources\n",
    "│           ├── pkg_resources-0.0.0.dist-info\n",
    "│           ├── setuptools\n",
    "│           └── setuptools-39.0.1.dist-info\n",
    "├── lib64 -> lib\n",
    "├── pyvenv.cfg\n",
    "└── share\n",
    "    └── python-wheels\n",
    "        ├── appdirs-1.4.3-py2.py3-none-any.whl\n",
    "        ├── CacheControl-0.11.7-py2.py3-none-any.whl\n",
    "        . . .\n",
    "        ├── webencodings-0.5-py2.py3-none-any.whl\n",
    "        └── wheel-0.30.0-py2.py3-none-any.whl\n",
    "\n",
    "14 directories, 35 files\n",
    "```\n",
    "Что находится в этих папках?\n",
    "* `bin` – файлы, которые взаимодействуют с виртуальной средой;\n",
    "* `include` – С-заголовки, компилирующие пакеты Python;\n",
    "* `lib` – копия версии Python вместе с папкой \"site-packages\", в которой установлена каждая зависимость.\n",
    "\n",
    "Пример файла `pyvenv.cfg`:\n",
    "```\n",
    "$ cat .py3venv/pyvenv.cfg\n",
    "home = /usr/bin\n",
    "include-system-site-packages = false\n",
    "version = 3.6.9\n",
    "```"
   ]
  },
  {
   "cell_type": "markdown",
   "metadata": {},
   "source": [
    "**Дополнительно**: [Виртуальная среда Python – Основы](https://python-scripts.com/virtualenv)"
   ]
  },
  {
   "cell_type": "markdown",
   "metadata": {},
   "source": [
    "### Virtualenv"
   ]
  },
  {
   "cell_type": "markdown",
   "metadata": {},
   "source": [
    "Для Python2, хотя хорошо работает и для Python3.\n",
    "\n",
    "https://pypi.org/project/virtualenv/ ; https://virtualenv.pypa.io/en/latest/\n",
    "\n",
    "```\n",
    "$ sudo -H pip install -U virtualenv\n",
    "\n",
    "$ virtualenv -p python3 --clear .venv\n",
    "$ source .venv/bin/activate\n",
    "$ pip install -U numpy\n",
    "```\n"
   ]
  },
  {
   "cell_type": "code",
   "execution_count": null,
   "metadata": {
    "scrolled": true
   },
   "outputs": [],
   "source": [
    "!python3 -m pip install -U virtualenv\n",
    "!virtualenv -p python3 --clear .myvenv\n",
    "!. .myvenv/bin/activate && python -c \"import sys, pprint; pprint.pprint(sorted(sys.path))\";"
   ]
  },
  {
   "cell_type": "markdown",
   "metadata": {},
   "source": [
    "### Setuptools и `setup.py`"
   ]
  },
  {
   "cell_type": "markdown",
   "metadata": {},
   "source": [
    "Setuptools – \"сторонний\" пакет, основанный на `distutils` из стандартной библиотеки.\n",
    "\n",
    "`setup.py` – это файл Python, который обычно сообщает вам, что модуль/пакет, который вы собираетесь установить, был упакован и распространен с помощью `Distutils`, который является стандартом для распространения модулей Python.\n",
    "\n",
    "Это позволяет легко устанавливать пакеты Python. Часто достаточно написать `python setup.py install` и модуль сам установит."
   ]
  },
  {
   "cell_type": "markdown",
   "metadata": {},
   "source": [
    "#### Примеры команд\n",
    "\n",
    "Установить сам setuptools если его нет по умолчанию:\n",
    "```\n",
    "$ pip install -U setuptools\n",
    "```\n",
    "\n",
    "Установить пакет:\n",
    "```\n",
    "$ python setup.py install\n",
    "```\n",
    "\n",
    "Установить пакет в режиме \"разработки\" (создавая символические ссылки или другим подобным образом):\n",
    "```\n",
    "$ python setup.py develop\n",
    "```\n",
    "\n",
    "Создать сборку в каталоге `./build/` (в т.ч. скомпилировать C-расширения):\n",
    "```\n",
    "$ python setup.py build\n",
    "```\n",
    "\n",
    "Запустить тесты:\n",
    "```\n",
    "$ python setup.py test\n",
    "```\n",
    "\n",
    "Загрузить пакет на PyPI (Python Package Index):\n",
    "```\n",
    "$ python setup.py upload\n",
    "```"
   ]
  },
  {
   "cell_type": "markdown",
   "metadata": {},
   "source": [
    "Пример `setup.py`:\n",
    "```python\n",
    "from setuptools import setup, find_packages\n",
    "from os.path import join, dirname\n",
    "\n",
    "setup(\n",
    "    name='helloworld',\n",
    "    version='1.0',\n",
    "    packages=find_packages(),\n",
    "    long_description=open(join(dirname(__file__), 'README.txt')).read(),\n",
    ")\n",
    "```\n",
    "Еще пример:\n",
    "```python\n",
    "from setuptools import setup, find_packages\n",
    "\n",
    "setup(\n",
    "    name=\"mypackage\",\n",
    "    version=\"0.1\",\n",
    "    packages=find_packages(),\n",
    "    scripts=['say_hello.py'],\n",
    "    install_requires=['docutils>=0.3'],\n",
    "    # метаданные для PyPI\n",
    "    author=\"Me\",\n",
    "    author_email=\"me@example.com\",\n",
    "    description=\"This is an Example Package\",\n",
    "    license=\"PSF\",\n",
    "    url=\"http://example.com/HelloWorld/\",\n",
    ")\n",
    "```\n",
    "Еще примеры: [attrs/setup.py](https://github.com/python-attrs/attrs/blob/master/setup.py), [XlsxWriter/setup.py](https://github.com/jmcnamara/XlsxWriter/blob/master/setup.py), ...\n"
   ]
  },
  {
   "cell_type": "markdown",
   "metadata": {},
   "source": [
    "**Дополнительно**: [Создание python-пакетов](https://klen.github.io/create-python-packages.html)"
   ]
  },
  {
   "cell_type": "markdown",
   "metadata": {},
   "source": [
    "***\n",
    "## 4. Дополнительные темы<a id=\"4\"></a>"
   ]
  },
  {
   "cell_type": "markdown",
   "metadata": {},
   "source": [
    "### Повторная загрузка модулей"
   ]
  },
  {
   "cell_type": "markdown",
   "metadata": {},
   "source": [
    "Программный код модуля по умолчанию запускается всего один раз за все время работы программы. Чтобы принудительно повторно загрузить модуль и запустить программный код в нем, необходимо явно вызвать встроенную функцию `reload`.\n",
    "\n",
    "Ограничения:\n",
    "* заново запускает код в пространстве имен модуля (инструкции будут изменять существующий объект модуля, удаление имен произведено не будет)\n",
    "* перезагрузка не транзитивна (для перезагрузки всех зависимостей модуля нужно писать рекурсивный обход вручную, исключая циклы)\n",
    "* не сработает для пакетов (см. предыдущий пункт)\n",
    "* не сработает с модулями расширения, написанными на C/C++\n",
    "* не сработает для импортов, сделанных с помощью `from … import` (после перезагрузки их нужно будет делать повторно)\n",
    "\n",
    "Зачем это нужно:\n",
    "* для применения изменений кода при работе в интерактивном интерпретаторе (теоретически)\n",
    "* для повторного выполнения кода инициализации модуля (без фактического изменения файла)\n",
    "\n",
    "Перезагрузка модуля:\n",
    "```python\n",
    "import importlib\n",
    "\n",
    "import module\n",
    ". . .\n",
    ". . .\n",
    "importlib.reload(module)\n",
    "```\n",
    "Примерный аналог для иллюстрации:\n",
    "```python\n",
    "import module\n",
    "code = open(module.__file__, 'rb').read()\n",
    "exec(code, module.__dict__)\n",
    "```"
   ]
  },
  {
   "cell_type": "markdown",
   "metadata": {},
   "source": [
    "### Циклический (рекурсивный) импорт"
   ]
  },
  {
   "cell_type": "code",
   "execution_count": null,
   "metadata": {},
   "outputs": [],
   "source": [
    "%cd ~/work/8_modules_and_packages_files"
   ]
  },
  {
   "cell_type": "code",
   "execution_count": 4,
   "metadata": {
    "scrolled": true
   },
   "outputs": [
    {
     "name": "stdout",
     "output_type": "stream",
     "text": [
      "Writing foo.py\n"
     ]
    }
   ],
   "source": [
    "%%writefile foo.py\n",
    "# file: foo.py\n",
    "\n",
    "import bar\n",
    "\n",
    "def func():\n",
    "    print(bar.get_message())"
   ]
  },
  {
   "cell_type": "code",
   "execution_count": 5,
   "metadata": {
    "scrolled": true
   },
   "outputs": [
    {
     "name": "stdout",
     "output_type": "stream",
     "text": [
      "Writing bar.py\n"
     ]
    }
   ],
   "source": [
    "%%writefile bar.py\n",
    "# file: bar.py\n",
    "\n",
    "import foo\n",
    "\n",
    "foo.func()  # Здесь будет AttributeError\n",
    "\n",
    "def get_message():\n",
    "    return 'Hello from bar.py!'"
   ]
  },
  {
   "cell_type": "code",
   "execution_count": 7,
   "metadata": {
    "scrolled": true
   },
   "outputs": [
    {
     "name": "stderr",
     "output_type": "stream",
     "text": [
      "Traceback (most recent call last):\n",
      "  File \"bar.py\", line 3, in <module>\n",
      "    import foo\n",
      "  File \"C:\\Users\\K\\Documents\\epam_python\\class_8_modules_packages\\foo.py\", line 3, in <module>\n",
      "    import bar\n",
      "  File \"C:\\Users\\K\\Documents\\epam_python\\class_8_modules_packages\\bar.py\", line 5, in <module>\n",
      "    foo.func()  # Здесь будет AttributeError\n",
      "AttributeError: module 'foo' has no attribute 'func'\n"
     ]
    }
   ],
   "source": [
    "!python bar.py"
   ]
  },
  {
   "cell_type": "markdown",
   "metadata": {},
   "source": [
    "Способы решить эту проблему (**помимо написания нормального кода**):\n",
    "\n",
    "`foo.py`:\n",
    "```python\n",
    "def func():\n",
    "    import bar\n",
    "    print(bar.get_message())\n",
    "\n",
    "func()\n",
    "```\n",
    "\n",
    "`bar.py`:\n",
    "```python\n",
    "def foo_func():\n",
    "    import foo\n",
    "    foo.func()\n",
    "\n",
    "def get_message():\n",
    "    return 'Hello from bar.py!'\n",
    "\n",
    "foo_func()\n",
    "```\n",
    "Result:\n",
    "```\n",
    "$ python3 bar.py\n",
    "    Hello from bar.py!\n",
    "    Hello from bar.py!\n",
    "    Hello from bar.py!\n",
    "```\n",
    "**Вопрос**: Почему `Hello from bar.py!` распечатан 3 раза?"
   ]
  },
  {
   "cell_type": "markdown",
   "metadata": {},
   "source": [
    "### Динамический импорт"
   ]
  },
  {
   "cell_type": "markdown",
   "metadata": {},
   "source": [
    "Python предлагает пакет `importlib` в качестве части стандартной библиотеки модулей. Его задача – обеспечить реализацию оператора импорта Python, а также функции `__import__()`"
   ]
  },
  {
   "cell_type": "code",
   "execution_count": null,
   "metadata": {
    "scrolled": true
   },
   "outputs": [],
   "source": [
    "import importlib\n",
    "\n",
    "importlib.import_module('math')\n",
    "\n",
    "importlib.import_module('asyncio.coroutines')\n",
    "\n",
    "importlib.import_module('.coroutines', package='asyncio')"
   ]
  },
  {
   "cell_type": "markdown",
   "metadata": {},
   "source": [
    "Example:\n",
    "```python\n",
    "data_path_template = \"packages.model.tasks.tasks.{COUNTRY}.{TASK}.task\"\n",
    "for job in jobs:\n",
    "    path = data_path_template.format(**job[\"environmentVariables\"])\n",
    "    tasks_module = importlib.import_module(path)\n",
    "    for record in tasks_module.data:\n",
    "        . . .\n",
    "```"
   ]
  },
  {
   "cell_type": "markdown",
   "metadata": {},
   "source": [
    "### Namespace packages"
   ]
  },
  {
   "cell_type": "markdown",
   "metadata": {},
   "source": [
    "`Namespace package` – это пакет, в котором отсутствует файл `__init__.py`\n",
    "\n",
    "Несколько пакетов с таким именем (например находящиеся в разных каталогах из `sys.path`) логически сливаются в одно пространство имен. Все подмодули такого составного пакета могут импортировать друг друга по абсолютному и относительному пути, как будто они находятся в одном обычном пакете.\n",
    "\n",
    "Для таких пакетов конструкция `from mypackage import *` работать не будет.\n",
    "\n",
    "Такое поведение пакетов появилось только в Python 3.\n",
    "\n",
    "**Больше информации**: \n",
    "* [Объединение нескольких пакетов в одно пространство имен Python](https://habr.com/ru/post/458432/)\n",
    "* [PEP 420 -- Implicit Namespace Packages](https://www.python.org/dev/peps/pep-0420/#id3)\n",
    "* [Packaging namespace packages](https://packaging.python.org/guides/packaging-namespace-packages/)"
   ]
  },
  {
   "cell_type": "markdown",
   "metadata": {},
   "source": [
    "### Файл `__main__.py`"
   ]
  },
  {
   "cell_type": "markdown",
   "metadata": {},
   "source": [
    "Модуль `__main__.py` обозначает точку входа при запуске пакета на выполнение.\n",
    "\n",
    "```\n",
    "$ python3 my_program.py\n",
    "\n",
    "$ python3 my_program_dir  # запуск my_program_dir/__main__.py\n",
    "$ python3 my_program.zip  # запуск __main__.py из архива\n",
    "\n",
    "$ python3 -m my_program   # сработает, если пакет my_program доступен для импорта \n",
    "\n",
    "# Примеры из стандартной библиотеки\n",
    "$ python3 -m pip install django\n",
    "$ python3 -m http.server  # запуск HTTP-сервера на 8000 порту для отдачи файлов из текущего каталога\n",
    "```\n",
    "\n",
    "**Больше информации**:\n",
    "* [Используйте \\_\\_main\\_\\_.py](https://habr.com/ru/post/456214/)\n"
   ]
  },
  {
   "cell_type": "markdown",
   "metadata": {},
   "source": [
    "***\n",
    "#### Дополнительно:\n",
    "[Модули и пакеты в Python. Глубокое погружение](https://devpractice.ru/python-modules-and-packages/#p3)"
   ]
  },
  {
   "cell_type": "markdown",
   "metadata": {},
   "source": [
    "***\n",
    "## 5. Домашняя работа<a id=\"5\"></a>"
   ]
  },
  {
   "cell_type": "markdown",
   "metadata": {},
   "source": [
    "### HW 1\n",
    "Создайте свою любую программу содержащую несколько модулей.\n",
    "\n",
    "Например, калькулятор:\n",
    "```\n",
    "code/\n",
    "    - addition/\n",
    "        - add.py\n",
    "    - subtraction/\n",
    "        - subtr.py\n",
    "run_calc.py\n",
    "```\n",
    "`python3 run_calc.py \"2+3\"`\n",
    "\n",
    "Не забывайте про `if __name__ == '__main__'`\n",
    "***"
   ]
  },
  {
   "cell_type": "code",
   "execution_count": null,
   "metadata": {},
   "outputs": [],
   "source": [
    "# Clean-up\n",
    "!cd ~/work/\n",
    "!rm -rf ~/work/8_modules_and_packages_files\n",
    "print(\"-done-\")"
   ]
  },
  {
   "cell_type": "markdown",
   "metadata": {},
   "source": [
    "<center>🐍</center>"
   ]
  }
 ],
 "metadata": {
  "authors": [
   {
    "name": "Aleksandr Koriagin <Aleksandr_Koriagin@epam.com>"
   }
  ],
  "kernelspec": {
   "display_name": "Python 3",
   "language": "python",
   "name": "python3"
  },
  "language_info": {
   "codemirror_mode": {
    "name": "ipython",
    "version": 3
   },
   "file_extension": ".py",
   "mimetype": "text/x-python",
   "name": "python",
   "nbconvert_exporter": "python",
   "pygments_lexer": "ipython3",
   "version": "3.7.6"
  }
 },
 "nbformat": 4,
 "nbformat_minor": 2
}
