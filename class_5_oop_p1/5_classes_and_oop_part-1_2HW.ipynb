{
 "cells": [
  {
   "cell_type": "code",
   "execution_count": null,
   "metadata": {},
   "outputs": [],
   "source": [
    "# -- run me first --\n",
    "from pprint import pprint  # for pretty printing\n",
    "# display all outputs, not only last one\n",
    "from IPython.core.interactiveshell import InteractiveShell\n",
    "InteractiveShell.ast_node_interactivity = \"all\"\n",
    "print(\"-done-\")"
   ]
  },
  {
   "cell_type": "markdown",
   "metadata": {},
   "source": [
    "<center>🐍</center>"
   ]
  },
  {
   "cell_type": "markdown",
   "metadata": {},
   "source": [
    "***\n",
    "# 5. Классы и ООП. Часть 1 - Домашняя работа\n",
    "<div style=\"text-align: right; font-weight: bold\">Aleksandr Koriagin</div>\n",
    "<div style=\"text-align: right; font-weight: bold\"><span style=\"color: #76CDD8;\">&lt;</span>epam<span style=\"color: #76CDD8;\">&gt;</span></div>\n",
    "<div style=\"text-align: right; font-weight: bold\">May 2020</div>\n",
    "<div style=\"text-align: right; font-style: italic\">Nizhny Novgorod</div>"
   ]
  },
  {
   "cell_type": "markdown",
   "metadata": {},
   "source": [
    "### HomeWork"
   ]
  },
  {
   "cell_type": "code",
   "execution_count": 2,
   "metadata": {},
   "outputs": [
    {
     "name": "stdout",
     "output_type": "stream",
     "text": [
      "Team 'red' has '342' soldiers.\n",
      "Team 'yellow' has '332' soldiers.\n",
      "Team 'green' has '326' soldiers.\n",
      "Team 'red' has more soldiers than others.\n",
      "\n",
      "Reconnaissance unit member: Soldier(idx=181, color=red, hero=Hero(idx=0, color=red, level=1))\n",
      "Reconnaissance unit member: Soldier(idx=240, color=red, hero=Hero(idx=0, color=red, level=1))\n",
      "Reconnaissance unit member: Soldier(idx=142, color=red, hero=Hero(idx=0, color=red, level=1))\n",
      "Reconnaissance unit member: Hero(idx=0, color=red, level=1)\n"
     ]
    }
   ],
   "source": [
    "import random\n",
    "\n",
    "IDS = iter(range(0, 1_000_000))\n",
    "\n",
    "\n",
    "class Warrior:\n",
    "    \"\"\"Base warrior class\"\"\"\n",
    "    __slots__ = (\"idx\", \"color\")\n",
    "\n",
    "    def __init__(self, color: str):\n",
    "        self.idx = next(IDS)\n",
    "        self.color = color\n",
    "\n",
    "\n",
    "class Hero(Warrior):\n",
    "    \"\"\"Class for Hero\"\"\"\n",
    "    __slots__ = (\"level\",)\n",
    "\n",
    "    def __init__(self, color: str):\n",
    "        super().__init__(color=color)\n",
    "        self.level = random.randint(0, 1)\n",
    "\n",
    "    def __repr__(self):\n",
    "        return f\"Hero(idx={self.idx}, color={self.color}, level={self.level})\"\n",
    "\n",
    "    def level_increase(self):\n",
    "        \"\"\"Increase level of hero +1\"\"\"\n",
    "        self.level += 1\n",
    "\n",
    "\n",
    "class Soldier(Warrior):\n",
    "    \"\"\"Soldier class\"\"\"\n",
    "    __slots__ = (\"follow_hero\",)\n",
    "\n",
    "    def __init__(self, color: str):\n",
    "        super().__init__(color=color)\n",
    "        self.follow_hero = None  # type: Hero\n",
    "\n",
    "    def __repr__(self):\n",
    "        return f\"Soldier(idx={self.idx}, color={self.color}, hero={self.follow_hero})\"\n",
    "\n",
    "    def set_follow_hero(self, hero: Hero):\n",
    "        \"\"\"Set Hero to follow\"\"\"\n",
    "        self.follow_hero = hero\n",
    "\n",
    "\n",
    "class Team:\n",
    "    \"\"\"class for Team\"\"\"\n",
    "    __slots__ = (\"color\", \"hero\", \"soldiers\")\n",
    "\n",
    "    def __init__(self, color: str):\n",
    "        self.color = color\n",
    "        self.hero = Hero(color=color)\n",
    "        self.soldiers = []\n",
    "\n",
    "    def __repr__(self):\n",
    "        return f\"Team(color={self.color}, Hero={self.hero})\"\n",
    "\n",
    "    @property\n",
    "    def soldiers_num(self) -> int:\n",
    "        \"\"\"Calculate number of soldiers\"\"\"\n",
    "        return len(self.soldiers)\n",
    "\n",
    "\n",
    "def main():\n",
    "    \"\"\"main logic\"\"\"\n",
    "    # main storage\n",
    "    teams = {\n",
    "        \"red\": Team(color=\"red\"),\n",
    "        \"yellow\": Team(color=\"yellow\"),\n",
    "        \"green\": Team(color=\"green\"),\n",
    "    }\n",
    "\n",
    "    # create soldiers\n",
    "    for _ in range(1_000):\n",
    "        color = random.choice(list(teams))\n",
    "        teams[color].soldiers.append(Soldier(color=color))\n",
    "\n",
    "    # print num of soldiers per team\n",
    "    for team_color, team in teams.items():\n",
    "        print(f\"Team '{team_color}' has '{team.soldiers_num}' soldiers.\")\n",
    "\n",
    "    # find team with max number of soldiers\n",
    "    team_with_max_soldiers = max(teams.values(), key=lambda x: x.soldiers_num)\n",
    "    print(f\"Team '{team_with_max_soldiers.color}' has more soldiers than others.\\n\")\n",
    "\n",
    "    # increase level of hero for team with more soldiers\n",
    "    team_with_max_soldiers.hero.level_increase()\n",
    "\n",
    "    # find max level hero and create reconnaissance unit\n",
    "    max_level_hero = max(teams.values(), key=lambda x: x.hero.level).hero\n",
    "    reconnaissance_unit = random.sample(teams[max_level_hero.color].soldiers, 3)\n",
    "    _ = [x.set_follow_hero(max_level_hero) for x in reconnaissance_unit]\n",
    "    reconnaissance_unit.append(max_level_hero)\n",
    "\n",
    "    for unit in reconnaissance_unit:\n",
    "        print(f\"Reconnaissance unit member: {unit}\")\n",
    "\n",
    "\n",
    "# run\n",
    "main()"
   ]
  },
  {
   "cell_type": "markdown",
   "metadata": {},
   "source": [
    "<center>🐍</center>"
   ]
  }
 ],
 "metadata": {
  "authors": [
   {
    "name": "Aleksandr Koriagin <Aleksandr_Koriagin@epam.com>"
   }
  ],
  "kernelspec": {
   "display_name": "Python 3",
   "language": "python",
   "name": "python3"
  },
  "language_info": {
   "codemirror_mode": {
    "name": "ipython",
    "version": 3
   },
   "file_extension": ".py",
   "mimetype": "text/x-python",
   "name": "python",
   "nbconvert_exporter": "python",
   "pygments_lexer": "ipython3",
   "version": "3.7.6"
  }
 },
 "nbformat": 4,
 "nbformat_minor": 2
}
