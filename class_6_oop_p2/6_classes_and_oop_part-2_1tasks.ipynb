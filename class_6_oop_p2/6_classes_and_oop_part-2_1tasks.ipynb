{
 "cells": [
  {
   "cell_type": "code",
   "execution_count": null,
   "metadata": {},
   "outputs": [],
   "source": [
    "# -- run me first --\n",
    "from pprint import pprint  # for pretty printing\n",
    "# display all outputs, not only last one\n",
    "from IPython.core.interactiveshell import InteractiveShell\n",
    "InteractiveShell.ast_node_interactivity = \"all\"\n",
    "print(\"-done-\")"
   ]
  },
  {
   "cell_type": "markdown",
   "metadata": {},
   "source": [
    "<center>🐍</center>"
   ]
  },
  {
   "cell_type": "markdown",
   "metadata": {},
   "source": [
    "***\n",
    "# 6. Классы и ООП. Часть 2 - Практические задачи\n",
    "<div style=\"text-align: right; font-weight: bold\">Aleksandr Koriagin</div>\n",
    "<div style=\"text-align: right; font-weight: bold\"><span style=\"color: #76CDD8;\">&lt;</span>epam<span style=\"color: #76CDD8;\">&gt;</span></div>\n",
    "<div style=\"text-align: right; font-weight: bold\">May 2020</div>\n",
    "<div style=\"text-align: right; font-style: italic\">Nizhny Novgorod</div>"
   ]
  },
  {
   "cell_type": "markdown",
   "metadata": {},
   "source": [
    "***\n",
    "### Task \\#1: Descriptors"
   ]
  },
  {
   "cell_type": "code",
   "execution_count": 3,
   "metadata": {},
   "outputs": [
    {
     "name": "stdout",
     "output_type": "stream",
     "text": [
      "Author='William Faulkner', Name='The Sound and the Fury', Price='12'\n",
      "55\n"
     ]
    }
   ],
   "source": [
    "class PriceControl:\n",
    "\n",
    "    def __set__(self, instance, value):\n",
    "        if 0 <= value <= 100:\n",
    "            instance.__dict__[self.name] = value\n",
    "        else:\n",
    "            raise ValueError(\"Price must be between 0 and 100.\")\n",
    "\n",
    "    def __set_name__(self, owner, name):\n",
    "        self.name = name\n",
    "\n",
    "\n",
    "class NameControl:\n",
    "\n",
    "    def __set__(self, instance, value):\n",
    "        if self.name not in instance.__dict__:\n",
    "            instance.__dict__[self.name] = value\n",
    "        else:\n",
    "            raise ValueError(f\"{self.name.capitalize()} can not be changed.\")\n",
    "\n",
    "    def __set_name__(self, owner, name):\n",
    "        self.name = name\n",
    "\n",
    "\n",
    "class Book:\n",
    "    author = NameControl()\n",
    "    name = NameControl()\n",
    "    price = PriceControl()\n",
    "\n",
    "    def __init__(self, author: str, name: str, price: int):\n",
    "        self.author = author\n",
    "        self.name = name\n",
    "        self.price = price\n",
    "\n",
    "\n",
    "b = Book(\"William Faulkner\", \"The Sound and the Fury\", 12)\n",
    "print(f\"Author='{b.author}', Name='{b.name}', Price='{b.price}'\")\n",
    "b.price = 55\n",
    "print(b.price)\n",
    "\n",
    "# b.price = -12            # => ValueError: Price must be between 0 and 100.\n",
    "# b.price = 101            # => ValueError: Price must be between 0 and 100.\n",
    "# b.author = \"new author\"  # => ValueError: Author can not be changed.\n",
    "# b.name = \"new name\"      # => ValueError: Name can not be changed."
   ]
  },
  {
   "cell_type": "markdown",
   "metadata": {},
   "source": [
    "### Task \\#2: ABC"
   ]
  },
  {
   "cell_type": "code",
   "execution_count": 4,
   "metadata": {},
   "outputs": [
    {
     "name": "stdout",
     "output_type": "stream",
     "text": [
      "Vehicle type=Toyota Car\n",
      "Is motorcycle=False\n",
      "Purchase price=985000.0\n",
      "\n",
      "Vehicle type=Suzuki Motorcycle\n",
      "Is motorcycle=True\n",
      "Purchase price=796500.0\n",
      "\n",
      "Vehicle type=Scania Truck\n",
      "Is motorcycle=False\n",
      "Purchase price=14915000.0\n",
      "\n",
      "Vehicle type=MAN Bus\n",
      "Is motorcycle=False\n",
      "Purchase price=9905000.0\n",
      "\n"
     ]
    }
   ],
   "source": [
    "from abc import ABC\n",
    "from abc import abstractmethod\n",
    "\n",
    "class Vehicle(ABC):\n",
    "    @property\n",
    "    @abstractmethod\n",
    "    def wheels_num(self):\n",
    "        pass\n",
    "\n",
    "    def __init__(self, brand_name: str, year_of_issue: int, base_price: int, mileage: int):\n",
    "        self.brand_name = brand_name\n",
    "        self.year_of_issue = year_of_issue\n",
    "        self.base_price = base_price\n",
    "        self.mileage = mileage\n",
    "\n",
    "    def vehicle_type(self) -> str:\n",
    "        return f\"{self.brand_name} {self.__class__.__name__}\"\n",
    "\n",
    "    def is_motorcycle(self) -> bool:\n",
    "        return True if self.wheels_num == 2 else False\n",
    "\n",
    "    def purchase_price(self) -> float:\n",
    "        res = self.base_price - 0.1 * self.mileage\n",
    "        return 100 if res < 100 else res\n",
    "\n",
    "class Car(Vehicle):\n",
    "    wheels_num = 4\n",
    "\n",
    "class Motorcycle(Vehicle):\n",
    "    wheels_num = 2\n",
    "\n",
    "class Truck(Vehicle):\n",
    "    wheels_num = 10\n",
    "\n",
    "class Bus(Vehicle):\n",
    "    wheels_num = 6\n",
    "\n",
    "vehicles = (\n",
    "    Car(brand_name=\"Toyota\", year_of_issue=2020, base_price=1_000_000, mileage=150_000),\n",
    "    Motorcycle(brand_name=\"Suzuki\", year_of_issue=2015, base_price=800_000, mileage=35_000),\n",
    "    Truck(brand_name=\"Scania\", year_of_issue=2018, base_price=15_000_000, mileage=850_000),\n",
    "    Bus(brand_name=\"MAN\", year_of_issue=2000, base_price=10_000_000, mileage=950_000),\n",
    ")\n",
    "\n",
    "for vehicle in vehicles:\n",
    "    print(\n",
    "        f\"Vehicle type={vehicle.vehicle_type()}\\n\"\n",
    "        f\"Is motorcycle={vehicle.is_motorcycle()}\\n\"\n",
    "        f\"Purchase price={vehicle.purchase_price()}\\n\"\n",
    "    )"
   ]
  },
  {
   "cell_type": "markdown",
   "metadata": {},
   "source": [
    "<center>🐍</center>"
   ]
  }
 ],
 "metadata": {
  "authors": [
   {
    "name": "Aleksandr Koriagin <Aleksandr_Koriagin@epam.com>"
   }
  ],
  "kernelspec": {
   "display_name": "Python 3",
   "language": "python",
   "name": "python3"
  },
  "language_info": {
   "codemirror_mode": {
    "name": "ipython",
    "version": 3
   },
   "file_extension": ".py",
   "mimetype": "text/x-python",
   "name": "python",
   "nbconvert_exporter": "python",
   "pygments_lexer": "ipython3",
   "version": "3.7.6"
  }
 },
 "nbformat": 4,
 "nbformat_minor": 2
}
