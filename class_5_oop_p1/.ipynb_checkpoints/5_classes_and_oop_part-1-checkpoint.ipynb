{
 "cells": [
  {
   "cell_type": "code",
   "execution_count": 1,
   "metadata": {},
   "outputs": [
    {
     "name": "stdout",
     "output_type": "stream",
     "text": [
      "-done-\n"
     ]
    }
   ],
   "source": [
    "# -- run me first --\n",
    "from pprint import pprint  # for pretty printing\n",
    "# display all outputs, not only last one\n",
    "from IPython.core.interactiveshell import InteractiveShell\n",
    "InteractiveShell.ast_node_interactivity = \"all\"\n",
    "print(\"-done-\")"
   ]
  },
  {
   "cell_type": "markdown",
   "metadata": {},
   "source": [
    "<center>🐍</center>"
   ]
  },
  {
   "cell_type": "markdown",
   "metadata": {},
   "source": [
    "***\n",
    "# 5. Классы и ООП. Часть 1\n",
    "<div style=\"text-align: right; font-weight: bold\">Aleksandr Koriagin</div>\n",
    "<div style=\"text-align: right; font-weight: bold\"><span style=\"color: #76CDD8;\">&lt;</span>epam<span style=\"color: #76CDD8;\">&gt;</span></div>\n",
    "<div style=\"text-align: right; font-weight: bold\">May 2020</div>\n",
    "<div style=\"text-align: right; font-style: italic\">Nizhny Novgorod</div>"
   ]
  },
  {
   "cell_type": "markdown",
   "metadata": {},
   "source": [
    "***\n",
    "## Оглавление<a id=\"0\"></a>"
   ]
  },
  {
   "cell_type": "markdown",
   "metadata": {},
   "source": [
    "1. [Синтаксис объявления классов](#1)\n",
    "    1. Типы и классы\n",
    "2. [Инкапсуляция](#2)\n",
    "    1. Практическая работа\n",
    "3. [Полиморфизм](#3)\n",
    "    1. Утиная типизация\n",
    "    1. Практическая работа\n",
    "4. [Наследование](#4)\n",
    "    1. Перегрузка методов и функция `super`\n",
    "    1. Предикаты `isinstance` и `issubclass`\n",
    "    1. Множественное наследование\n",
    "        1. Алгоритм C3\n",
    "    1. Практическая работа\n",
    "5. [Подробнее о классах](#5)\n",
    "    1. Классы и `self`\n",
    "    1. Классы, экземпляры и атрибуты\n",
    "    1. Внутренние атрибуты классов и экземляров\n",
    "    1. Подробнее о `__dict__`\n",
    "    1. Классы и `__slots__`\n",
    "    1. Альтернативы `__slots__`:\n",
    "        1. namedtuple\n",
    "        1. Data Classes\n",
    "        1. Attrs\n",
    "6. [Декораторы](#6)\n",
    "    1. Свойства `@property`\n",
    "    1. Cтатические методы `@staticmethod`\n",
    "    1. Метод класса `@classmethod`\n",
    "7. [Домашнее задание](#7)"
   ]
  },
  {
   "cell_type": "code",
   "execution_count": 2,
   "metadata": {},
   "outputs": [
    {
     "name": "stdout",
     "output_type": "stream",
     "text": [
      "Couldn't find program: 'bash'\n"
     ]
    }
   ],
   "source": [
    "%%bash\n",
    "# generate table of contents\n",
    "cat 5_classes_and_oop_part-1.ipynb | grep \"##\" | grep -v \"cat\" | sed  \"s/#/    /g\" | tr -d '\"'"
   ]
  },
  {
   "cell_type": "markdown",
   "metadata": {},
   "source": [
    "***\n",
    "## 1. Синтаксис объявления классов<a id=\"1\"></a>"
   ]
  },
  {
   "cell_type": "markdown",
   "metadata": {},
   "source": [
    "Объектно-ориентированное программирование (ООП) является методологией разработки программного обеспечения, в основе которой лежит понятие класса и объекта, при этом сама программа создается как некоторая совокупность объектов, которые взаимодействую друг с другом и с внешним миром.\n",
    "\n",
    "Python поддерживает объектно-ориентированную парадигму программирования, а это значит, что мы можем определить компоненты программы в виде классов.\n",
    "\n",
    "Класс является шаблоном или формальным описанием объекта, а объект представляет экземпляр этого класса, его реальное воплощение. \n",
    "> Можно провести следующую аналогию: у всех у нас есть некоторое представление о человеке - наличие двух рук, двух ног, головы, пищеварительной, нервной системы, головного мозга и т.д. Есть некоторый шаблон - этот шаблон можно назвать классом. Реально же существующий человек (фактически экземпляр данного класса) является объектом этого класса.\n",
    "\n",
    "Как только используется ключевое слово `class`, Python исполняет команду и создаёт *объект*.\n",
    "<br>Инструкция cоздаст в памяти объект с именем `ObjectCreator`.\n",
    "```python\n",
    "class ObjectCreator:  # определение класса\n",
    "    pass\n",
    "\n",
    "ObjectCreator        # объект класса\n",
    "b = ObjectCreator()  # 'b' экземпляр класса 'ObjectCreator' \n",
    "                     # (объект класса 'ObjectCreator' / instance класса 'ObjectCreator')\n",
    "```\n",
    "Этот объект (класс) сам может создавать объекты (экземпляры), поэтому он и является классом.\n",
    "\n",
    "Тем не менее, это объект, а потому:\n",
    "* его можно присвоить переменной,\n",
    "* его можно скопировать,\n",
    "* можно добавить к нему атрибут,\n",
    "* его можно передать функции в качестве аргумента,"
   ]
  },
  {
   "cell_type": "markdown",
   "metadata": {},
   "source": [
    "Всё в Python — объект: числа, словари, пользовательские и встроенные классы, стековые фреймы и объекты кода, ..."
   ]
  },
  {
   "cell_type": "code",
   "execution_count": 3,
   "metadata": {},
   "outputs": [
    {
     "name": "stdout",
     "output_type": "stream",
     "text": [
      "<class 'str'>\n",
      "<class 'int'>\n"
     ]
    }
   ],
   "source": [
    "a = 'bob' ; print(a.__class__)\n",
    "b = 35    ; print(b.__class__)"
   ]
  },
  {
   "cell_type": "markdown",
   "metadata": {},
   "source": [
    "Создадим простой класс:"
   ]
  },
  {
   "cell_type": "code",
   "execution_count": 4,
   "metadata": {},
   "outputs": [
    {
     "data": {
      "text/plain": [
       "43"
      ]
     },
     "execution_count": 4,
     "metadata": {},
     "output_type": "execute_result"
    }
   ],
   "source": [
    "# class Counter(object):  <- old-style Python 2 definition\n",
    "\n",
    "class Counter:\n",
    "    \"\"\"I count. That is all\"\"\"\n",
    "    def __init__(self, initial=0):  # конструктор\n",
    "        self.value = initial        # запись атрибута\n",
    "\n",
    "    def increment(self):           # метод класса\n",
    "        self.value += 1\n",
    "\n",
    "    def get(self):\n",
    "        return self.value           # чтение атрибута\n",
    "\n",
    "c = Counter(42)\n",
    "c.increment()\n",
    "c.get()"
   ]
  },
  {
   "cell_type": "markdown",
   "metadata": {},
   "source": [
    "### Типы и классы"
   ]
  },
  {
   "cell_type": "markdown",
   "metadata": {},
   "source": [
    "Тип определяет область допустимых значений объекта и набор операций над ним.\n",
    "<br>В ООП тип тесно связан с поведением - действиями объекта, состоящими в изменении внутреннего состояния и вызовами методов других объектов."
   ]
  },
  {
   "cell_type": "code",
   "execution_count": 5,
   "metadata": {},
   "outputs": [
    {
     "data": {
      "text/plain": [
       "int"
      ]
     },
     "execution_count": 5,
     "metadata": {},
     "output_type": "execute_result"
    },
    {
     "data": {
      "text/plain": [
       "float"
      ]
     },
     "execution_count": 5,
     "metadata": {},
     "output_type": "execute_result"
    },
    {
     "data": {
      "text/plain": [
       "str"
      ]
     },
     "execution_count": 5,
     "metadata": {},
     "output_type": "execute_result"
    },
    {
     "data": {
      "text/plain": [
       "dict"
      ]
     },
     "execution_count": 5,
     "metadata": {},
     "output_type": "execute_result"
    },
    {
     "data": {
      "text/plain": [
       "list"
      ]
     },
     "execution_count": 5,
     "metadata": {},
     "output_type": "execute_result"
    },
    {
     "data": {
      "text/plain": [
       "function"
      ]
     },
     "execution_count": 5,
     "metadata": {},
     "output_type": "execute_result"
    }
   ],
   "source": [
    "def foo(): pass\n",
    "\n",
    "type(123)      # int\n",
    "type(123.1)    # float\n",
    "type(\"abc\")    # str\n",
    "type({\"a\": 1}) # dict\n",
    "type([1, 2])   # list\n",
    "type(foo)      # function"
   ]
  },
  {
   "cell_type": "markdown",
   "metadata": {},
   "source": [
    "Тип - это инстанс типа `type`.\n",
    "<br>Например, есть целое число `28`. Это - инстанс типа `int`.\n",
    "<br>А сам тип `int` - это инстанс типа `type`:"
   ]
  },
  {
   "cell_type": "code",
   "execution_count": 6,
   "metadata": {},
   "outputs": [
    {
     "name": "stdout",
     "output_type": "stream",
     "text": [
      "<class 'int'>\n",
      "<class 'type'>\n"
     ]
    }
   ],
   "source": [
    "b = 28\n",
    "print( type(b)   )\n",
    "print( type(int) )"
   ]
  },
  {
   "cell_type": "code",
   "execution_count": 7,
   "metadata": {},
   "outputs": [
    {
     "name": "stdout",
     "output_type": "stream",
     "text": [
      ">> 1 - Class of 'Counter'          : <class '__main__.Counter'>\n",
      ">> 2 - Class instance of 'Counter' : <__main__.Counter object at 0x0000016687B3A8C8>\n",
      ">> 3 - Type of class 'Counter'     : <class 'type'>\n"
     ]
    }
   ],
   "source": [
    "print(f\">> 1 - Class of 'Counter'          : {Counter}\")\n",
    "print(f\">> 2 - Class instance of 'Counter' : {c}\")\n",
    "print(f\">> 3 - Type of class 'Counter'     : {type(Counter)}\")"
   ]
  },
  {
   "cell_type": "markdown",
   "metadata": {},
   "source": [
    "почему `>> 3 - Type of class 'Counter'     : <class 'type'>`?\n",
    "<br>`type` это метакласс, который Python внутренне использует для создания всех классов.\n",
    "<br> *\\\"А впрочем, это уже совсем другая история\"*"
   ]
  },
  {
   "cell_type": "markdown",
   "metadata": {},
   "source": [
    "Тип и класс — это одно и то же (в Python 3).\n",
    "> `is` will return `True` if two variables point to the same object, `==` if the objects referred to by the variables are equal"
   ]
  },
  {
   "cell_type": "code",
   "execution_count": 8,
   "metadata": {},
   "outputs": [
    {
     "name": "stdout",
     "output_type": "stream",
     "text": [
      "<class 'str'> ; <class 'str'>\n"
     ]
    },
    {
     "data": {
      "text/plain": [
       "True"
      ]
     },
     "execution_count": 8,
     "metadata": {},
     "output_type": "execute_result"
    },
    {
     "data": {
      "text/plain": [
       "True"
      ]
     },
     "execution_count": 8,
     "metadata": {},
     "output_type": "execute_result"
    },
    {
     "name": "stdout",
     "output_type": "stream",
     "text": [
      "<class 'int'> ; <class 'int'>\n"
     ]
    },
    {
     "data": {
      "text/plain": [
       "True"
      ]
     },
     "execution_count": 8,
     "metadata": {},
     "output_type": "execute_result"
    },
    {
     "data": {
      "text/plain": [
       "True"
      ]
     },
     "execution_count": 8,
     "metadata": {},
     "output_type": "execute_result"
    },
    {
     "name": "stdout",
     "output_type": "stream",
     "text": [
      "<class 'dict'> ; <class 'dict'>\n"
     ]
    },
    {
     "data": {
      "text/plain": [
       "True"
      ]
     },
     "execution_count": 8,
     "metadata": {},
     "output_type": "execute_result"
    },
    {
     "data": {
      "text/plain": [
       "True"
      ]
     },
     "execution_count": 8,
     "metadata": {},
     "output_type": "execute_result"
    },
    {
     "name": "stdout",
     "output_type": "stream",
     "text": [
      "<class 'type'> ; <class 'type'>\n"
     ]
    },
    {
     "data": {
      "text/plain": [
       "True"
      ]
     },
     "execution_count": 8,
     "metadata": {},
     "output_type": "execute_result"
    },
    {
     "data": {
      "text/plain": [
       "True"
      ]
     },
     "execution_count": 8,
     "metadata": {},
     "output_type": "execute_result"
    },
    {
     "name": "stdout",
     "output_type": "stream",
     "text": [
      "<class '__main__.Dummy'> ; <class '__main__.Dummy'>\n"
     ]
    },
    {
     "data": {
      "text/plain": [
       "True"
      ]
     },
     "execution_count": 8,
     "metadata": {},
     "output_type": "execute_result"
    },
    {
     "data": {
      "text/plain": [
       "True"
      ]
     },
     "execution_count": 8,
     "metadata": {},
     "output_type": "execute_result"
    },
    {
     "name": "stdout",
     "output_type": "stream",
     "text": [
      "<class 'function'> ; <class 'function'>\n"
     ]
    },
    {
     "data": {
      "text/plain": [
       "True"
      ]
     },
     "execution_count": 8,
     "metadata": {},
     "output_type": "execute_result"
    },
    {
     "data": {
      "text/plain": [
       "True"
      ]
     },
     "execution_count": 8,
     "metadata": {},
     "output_type": "execute_result"
    }
   ],
   "source": [
    "def foo(): pass\n",
    "\n",
    "class Dummy:\n",
    "    pass\n",
    "d = Dummy()\n",
    "\n",
    "for x in (\n",
    "    \"a\", \n",
    "    1, \n",
    "    {\"b\": 2}, \n",
    "    Dummy, \n",
    "    d, \n",
    "    foo\n",
    "):\n",
    "    print(f\"{type(x)} ; {x.__class__}\")\n",
    "    type(x) == x.__class__\n",
    "    type(x) is x.__class__"
   ]
  },
  {
   "cell_type": "markdown",
   "metadata": {},
   "source": [
    "Дополнительно: [Как работают классы в Python](https://medium.com/@melevir/%D0%BA%D0%B0%D0%BA-%D1%80%D0%B0%D0%B1%D0%BE%D1%82%D0%B0%D1%8E%D1%82-%D0%BA%D0%BB%D0%B0%D1%81%D1%81%D1%8B-%D0%B2-python-f8ba90fe2f8e)"
   ]
  },
  {
   "cell_type": "markdown",
   "metadata": {},
   "source": [
    "\n",
    "\n",
    "***\n",
    "## 2. Инкапсуляция<a id=\"2\"></a>"
   ]
  },
  {
   "cell_type": "markdown",
   "metadata": {},
   "source": [
    "Под инкапсуляцией *(encapsulation, что можно перевести по-разному, но на нужные ассоциации хорошо наводит слово \"обволакивание\")* понимается сокрытие информации о внутреннем устройстве объекта, при котором работа с объектом может вестись только через его общедоступный (public) интерфейс.\n",
    "<br>Т.е. это ограничение доступа к составляющим объект компонентам (методам и переменным). Инкапсуляция делает некоторые из компонент доступными только внутри класса.\n",
    "\n",
    "Инкапсуляция в Python работает лишь на уровне соглашения между программистами о том, какие атрибуты являются общедоступными, а какие — внутренними."
   ]
  },
  {
   "cell_type": "code",
   "execution_count": 9,
   "metadata": {},
   "outputs": [
    {
     "name": "stdout",
     "output_type": "stream",
     "text": [
      "['_Encapsulation__private_method',\n",
      " '_Encapsulation__private_var',\n",
      " '__class__',\n",
      " '__delattr__',\n",
      " '__dict__',\n",
      " '__dir__',\n",
      " '__doc__',\n",
      " '__eq__',\n",
      " '__format__',\n",
      " '__ge__',\n",
      " '__getattribute__',\n",
      " '__gt__',\n",
      " '__hash__',\n",
      " '__init__',\n",
      " '__init_subclass__',\n",
      " '__le__',\n",
      " '__lt__',\n",
      " '__module__',\n",
      " '__ne__',\n",
      " '__new__',\n",
      " '__reduce__',\n",
      " '__reduce_ex__',\n",
      " '__repr__',\n",
      " '__setattr__',\n",
      " '__sizeof__',\n",
      " '__str__',\n",
      " '__subclasshook__',\n",
      " '__weakref__',\n",
      " '_protected_method',\n",
      " '_protected_var',\n",
      " 'regular_method',\n",
      " 'regular_var',\n",
      " 'use_private']\n",
      "\n",
      "mappingproxy({'_Encapsulation__private_method': <function Encapsulation.__private_method at 0x0000016687B500D8>,\n",
      "              '_Encapsulation__private_var': 'private_var',\n",
      "              '__dict__': <attribute '__dict__' of 'Encapsulation' objects>,\n",
      "              '__doc__': None,\n",
      "              '__module__': '__main__',\n",
      "              '__weakref__': <attribute '__weakref__' of 'Encapsulation' objects>,\n",
      "              '_protected_method': <function Encapsulation._protected_method at 0x0000016687B50048>,\n",
      "              '_protected_var': 'protected_var',\n",
      "              'regular_method': <function Encapsulation.regular_method at 0x0000016687B46F78>,\n",
      "              'regular_var': 'regular_var',\n",
      "              'use_private': <function Encapsulation.use_private at 0x0000016687B50168>})\n"
     ]
    }
   ],
   "source": [
    "class Encapsulation:\n",
    "    regular_var = \"regular_var\"\n",
    "    _protected_var = \"protected_var\"\n",
    "    __private_var = \"private_var\"\n",
    "    \n",
    "    def regular_method(self):\n",
    "        return \"I am regular_method\"\n",
    "    \n",
    "    def _protected_method(self):\n",
    "        return \"I am protected_method\"\n",
    "    \n",
    "    def __private_method(self):\n",
    "        return \"I am private_method\"\n",
    "    \n",
    "    def use_private(self):\n",
    "        #return f\"*{self.__private_method()}* and *{self.__private_var}*\"  # f-string\n",
    "        return \"{0} {1}\".format(self.__private_method(), self.__private_var)\n",
    "\n",
    "enc = Encapsulation()\n",
    "pprint(dir(Encapsulation))\n",
    "print()\n",
    "pprint(Encapsulation.__dict__)"
   ]
  },
  {
   "cell_type": "markdown",
   "metadata": {},
   "source": [
    "**Защищенные методы можно использовать только внутри класса**"
   ]
  },
  {
   "cell_type": "code",
   "execution_count": 10,
   "metadata": {},
   "outputs": [
    {
     "data": {
      "text/plain": [
       "'I am private_method private_var'"
      ]
     },
     "execution_count": 10,
     "metadata": {},
     "output_type": "execute_result"
    }
   ],
   "source": [
    "enc.use_private()"
   ]
  },
  {
   "cell_type": "markdown",
   "metadata": {},
   "source": [
    "**До обычных и приватных атрибутов/методов класса можно достучаться**"
   ]
  },
  {
   "cell_type": "code",
   "execution_count": 11,
   "metadata": {},
   "outputs": [
    {
     "name": "stdout",
     "output_type": "stream",
     "text": [
      ">> enc.regular_var         => regular_var\n",
      ">> enc._protected_var      => protected_var\n",
      ">> enc.regular_method()    => I am regular_method\n",
      ">> enc._protected_method() => I am protected_method\n"
     ]
    }
   ],
   "source": [
    "print(f\">> enc.regular_var         => {enc.regular_var}\")\n",
    "print(f\">> enc._protected_var      => {enc._protected_var}\")\n",
    "print(f\">> enc.regular_method()    => {enc.regular_method()}\")\n",
    "print(f\">> enc._protected_method() => {enc._protected_method()}\")"
   ]
  },
  {
   "cell_type": "markdown",
   "metadata": {},
   "source": [
    "**К защищенным атрибутам/методам так просто не достучаться**"
   ]
  },
  {
   "cell_type": "code",
   "execution_count": 12,
   "metadata": {},
   "outputs": [
    {
     "ename": "AttributeError",
     "evalue": "'Encapsulation' object has no attribute '__private_var'",
     "output_type": "error",
     "traceback": [
      "\u001b[1;31m---------------------------------------------------------------------------\u001b[0m",
      "\u001b[1;31mAttributeError\u001b[0m                            Traceback (most recent call last)",
      "\u001b[1;32m<ipython-input-12-9d3e659d84ad>\u001b[0m in \u001b[0;36m<module>\u001b[1;34m\u001b[0m\n\u001b[1;32m----> 1\u001b[1;33m \u001b[0mprint\u001b[0m\u001b[1;33m(\u001b[0m\u001b[1;34mf\">> enc.__private_var  => {enc.__private_var}\"\u001b[0m\u001b[1;33m)\u001b[0m\u001b[1;33m\u001b[0m\u001b[1;33m\u001b[0m\u001b[0m\n\u001b[0m",
      "\u001b[1;31mAttributeError\u001b[0m: 'Encapsulation' object has no attribute '__private_var'"
     ]
    }
   ],
   "source": [
    "print(f\">> enc.__private_var  => {enc.__private_var}\")"
   ]
  },
  {
   "cell_type": "code",
   "execution_count": null,
   "metadata": {},
   "outputs": [],
   "source": [
    "print(f\">> enc.__private_method() => {enc.__private_method()}\")"
   ]
  },
  {
   "cell_type": "markdown",
   "metadata": {},
   "source": [
    "**Но если очень хочется, то это можно сделать**"
   ]
  },
  {
   "cell_type": "code",
   "execution_count": null,
   "metadata": {},
   "outputs": [],
   "source": [
    "print(f\">> enc._Encapsulation__private_var    => {enc._Encapsulation__private_var}\")\n",
    "print(f\">> enc._Encapsulation__private_method => {enc._Encapsulation__private_method()}\")"
   ]
  },
  {
   "cell_type": "markdown",
   "metadata": {},
   "source": [
    "### <font color='blue'><u>Практическая работа</u></font>"
   ]
  },
  {
   "cell_type": "markdown",
   "metadata": {},
   "source": [
    "Разработайте класс с \"полной инкапсуляцией\", доступ к атрибутам которого и изменение данных реализуются через вызовы методов. \n",
    "В объектно-ориентированном программировании принято имена методов для извлечения данных начинать со слова get (взять), а имена методов, в которых свойствам присваиваются значения, – со слова set (установить). \n",
    "Например: `get_field`, `set_field`."
   ]
  },
  {
   "cell_type": "markdown",
   "metadata": {},
   "source": [
    "***\n",
    "## 3. Полиморфизм<a id=\"3\"></a>"
   ]
  },
  {
   "cell_type": "markdown",
   "metadata": {},
   "source": [
    "Полиморфизм - разное поведение одного и того же метода в разных классах.\n",
    "Подразумевает возможность использовать один и тот же интерфейс для различных базовых элементов. При этом функции могут использовать объекты разных классов."
   ]
  },
  {
   "cell_type": "code",
   "execution_count": null,
   "metadata": {},
   "outputs": [],
   "source": [
    "1 + 1\n",
    "\"1\" + \"1\""
   ]
  },
  {
   "cell_type": "code",
   "execution_count": null,
   "metadata": {},
   "outputs": [],
   "source": [
    "def get_last(x):\n",
    "    return x[-1]\n",
    "\n",
    "get_last([1, 2, 3])\n",
    "get_last(\"abcd\")"
   ]
  },
  {
   "cell_type": "markdown",
   "metadata": {},
   "source": [
    "### Утиная типизация"
   ]
  },
  {
   "cell_type": "markdown",
   "metadata": {},
   "source": [
    "Полиморфизм в Python основан на утиной типизации. Термин «утиная типизация» (также неявная типизация, или латентная типизация) произошёл от цитаты \n",
    "> Если это выглядит как утка, плавает как утка и крякает как утка, то это, вероятно, и есть утка.\n",
    "\n",
    "Утиная типизация подразумевает определение пригодности объекта для конкретной цели.\n",
    "<br>При использовании _обычной_ типизации эта пригодность определяется типом объекта в отдельности, но в _утиной_ типизации для этого используются методы и свойства рассматриваемого объекта.\n",
    "<br>Иными словами, нужно проверить, крякает ли объект как утка, а не спрашивать, является ли объект уткой."
   ]
  },
  {
   "cell_type": "code",
   "execution_count": null,
   "metadata": {},
   "outputs": [],
   "source": [
    "class RpgCharacter:\n",
    "    def __init__(self, weapon):\n",
    "        self.weapon = weapon\n",
    "\n",
    "    def battle(self):\n",
    "        self.weapon.attack()\n",
    "\n",
    "class Sword:\n",
    "    def attack(self):\n",
    "        print(\"Aaaargh!\")\n",
    "\n",
    "sword = Sword()\n",
    "character = RpgCharacter(weapon=sword)\n",
    "character.battle()"
   ]
  },
  {
   "cell_type": "markdown",
   "metadata": {},
   "source": [
    "Тут классическое внедрение зависимости (dependency injection).\n",
    "<br>Класс `RpgCharacter` получает объект `weapon` в конструкторе и позже, в методе `battle()` вызывает `weapon.attack()`.\n",
    "<br>Но `RpgCharacter` не зависит от конкретной имплементации `weapon`. Это может быть меч, палка, или любое другое оружие. \n",
    "<br>Важно, чтобы у объекта был метод `attack()`, всё остальное Python не интересует."
   ]
  },
  {
   "cell_type": "markdown",
   "metadata": {},
   "source": [
    "### <font color='blue'><u>Практическая работа</u></font>"
   ]
  },
  {
   "cell_type": "markdown",
   "metadata": {},
   "source": [
    "В качестве практической работы попробуйте самостоятельно перегрузить оператор сложения. \n",
    "Для его перегрузки используется метод `__add__()`. Он вызывается, когда объекты класса, имеющего данный метод, фигурируют в операции сложения, причем с левой стороны. Это значит, что в выражении `a + b` у объекта `a` должен быть метод `__add__()`. Объект `b` может быть чем угодно, но чаще всего он бывает объектом того же класса. Объект `b` будет автоматически передаваться в метод `__add__()` в качестве второго аргумента (первый – `self`).\n",
    "\n",
    "```\n",
    "In:  Counter([1, 2, 3]) + \"mississippi\"\n",
    "Out: [\"1 mississippi\", \"2 mississippi\" , \"3 mississippi\"]\n",
    "```\n"
   ]
  },
  {
   "cell_type": "markdown",
   "metadata": {},
   "source": [
    "***\n",
    "## 4. Наследование<a id=\"4\"></a>"
   ]
  },
  {
   "cell_type": "markdown",
   "metadata": {},
   "source": [
    "Наследование подразумевает то, что дочерний класс содержит все атрибуты родительского класса, при этом некоторые из них могут быть переопределены или добавлены в дочернем."
   ]
  },
  {
   "cell_type": "code",
   "execution_count": null,
   "metadata": {},
   "outputs": [],
   "source": [
    "class Character:\n",
    "    height = 10\n",
    "    power = 15\n",
    "\n",
    "class Warrior(Character):\n",
    "    weapon = \"stick\"\n",
    "\n",
    "print(f\"Warrior().weapon => {Warrior().weapon}\")\n",
    "print(f\"Warrior().power  => {Warrior().power}\")\n",
    "print(f\"Warrior().height => {Warrior().height}\")"
   ]
  },
  {
   "cell_type": "code",
   "execution_count": null,
   "metadata": {},
   "outputs": [],
   "source": [
    "issubclass(Character, object)\n",
    "issubclass(Warrior, Character)\n",
    "issubclass(Warrior, object)\n",
    "issubclass(Character, str)\n",
    "issubclass(Character, Character)  # класс является подклассом самого себя"
   ]
  },
  {
   "cell_type": "markdown",
   "metadata": {},
   "source": [
    "Синтаксис оператора `class` позволяет унаследовать объявляемый класс от произвольного количества других классов.\n",
    "<br>Поиск имени при обращении к атрибуту или методу ведётся сначала в `__dict__` экземпляра. Если там имя не найдено, оно ищется в классе,а затем рекурсивно во всей иерархии наследования."
   ]
  },
  {
   "cell_type": "code",
   "execution_count": null,
   "metadata": {},
   "outputs": [],
   "source": [
    "class Counter:\n",
    "    def __init__(self, initial=0):\n",
    "        print(\"Counter `__init__` called\")\n",
    "        self.value = initial\n",
    "\n",
    "class OtherCounter(Counter):\n",
    "    def get(self):\n",
    "        return self.value + 1\n",
    "\n",
    "oc = OtherCounter() # вызывает 'Counter.__init__' т.к. у 'OtherCounter' нет своего '__init__'. Не происходит его перегрузка\n",
    "oc.get()            # вызывает 'OtherCounter.get'\n",
    "oc.value            # oc.__dict__[\"value\"]    "
   ]
  },
  {
   "cell_type": "markdown",
   "metadata": {},
   "source": [
    "### Перегрузка методов и функция `super`"
   ]
  },
  {
   "cell_type": "code",
   "execution_count": null,
   "metadata": {},
   "outputs": [],
   "source": [
    "class Counter:\n",
    "    def __init__(self, initial=0):\n",
    "        print(f\"Counter '{self.__class__.__name__}' __init__ called\")\n",
    "        self.value = initial\n",
    "\n",
    "class OtherCounter(Counter):\n",
    "    def __init__(self, initial=11):\n",
    "        print(f\"OtherCounter '{self.__class__.__name__}' __init__ called\")\n",
    "        self.other_value = initial\n",
    "        #super().__init__(initial=321)  # uncomment me\n",
    "        Counter()\n",
    "\n",
    "oc = OtherCounter()\n",
    "#oc.other_value\n",
    "#oc.value\n",
    "#oc.foo()"
   ]
  },
  {
   "cell_type": "markdown",
   "metadata": {},
   "source": [
    "### Предикаты `isinstance` и `issubclass`"
   ]
  },
  {
   "cell_type": "markdown",
   "metadata": {},
   "source": [
    "Предикат `isinstance` принимает объект и класс и проверяет, что объект является экземпляром класса. [More Info](https://docs.python.org/3.7/library/functions.html#isinstance)"
   ]
  },
  {
   "cell_type": "code",
   "execution_count": null,
   "metadata": {},
   "outputs": [],
   "source": [
    "class A: \n",
    "    pass\n",
    "\n",
    "class B(A):\n",
    "    pass\n",
    "\n",
    "class C:\n",
    "    pass\n",
    "\n",
    "isinstance(B(), B)\n",
    "isinstance(B(), A)\n",
    "isinstance(B(), C)"
   ]
  },
  {
   "cell_type": "markdown",
   "metadata": {},
   "source": [
    "Предикат `issubclass` принимает два класса и проверяет, что первый класс является потомком второго. [More info](https://docs.python.org/3.7/library/functions.html#issubclass)"
   ]
  },
  {
   "cell_type": "code",
   "execution_count": null,
   "metadata": {},
   "outputs": [],
   "source": [
    "issubclass(B, B)\n",
    "issubclass(B, A)\n",
    "issubclass(B, C)"
   ]
  },
  {
   "cell_type": "markdown",
   "metadata": {},
   "source": [
    "### Множественное наследование"
   ]
  },
  {
   "cell_type": "markdown",
   "metadata": {},
   "source": [
    "Python не запрещает множественное наследование, например, можно определить следующую иерархию"
   ]
  },
  {
   "cell_type": "code",
   "execution_count": null,
   "metadata": {},
   "outputs": [],
   "source": [
    "class A:\n",
    "    def f(self):\n",
    "        print(\"A.f\")\n",
    "\n",
    "class B:\n",
    "    def f(self):\n",
    "        print(\"B.f\")\n",
    "\n",
    "class C(A, B):\n",
    "    pass\n",
    "\n",
    "# Что выведет следующий фрагмент кода?\n",
    "C().f()"
   ]
  },
  {
   "cell_type": "markdown",
   "metadata": {},
   "source": [
    "#### Алгоритм `C3`"
   ]
  },
  {
   "cell_type": "markdown",
   "metadata": {},
   "source": [
    "В случае множественного наследования Python использует [алгоритм линеаризации C3](https://en.wikipedia.org/wiki/C3_linearization) для определения метода, который нужно вызвать.\n",
    "<br>Получить линеаризацию иерархии наследования можно с помощью метода `mro` *(Method Resolution Order)*.\n",
    "* В старых версиях Python порядок разрешения методов был достаточно примитивным: поиск вёлся во всех родительских классах слева направо на максимальную глубину: `DLR` или `depth-first left to right algorithm`.\n",
    "* Начиная с версии 3, старые классы больше не поддерживаются, а все пользовательские классы по умолчанию происходят от класса `object`. Используется `C3 Linearization algorithm`.\n",
    "\n",
    "Результат работы алгоритма `C3` далеко не всегда тривиален, поэтому использовать сложные иерархии множественого наследования не рекомендуется.\n",
    "\n",
    "**Два (из трех — `C3`) основных правила линеаризации:**\n",
    "1. дети идут раньше родителей;\n",
    "2. родители идут в порядке перечисления."
   ]
  },
  {
   "cell_type": "code",
   "execution_count": null,
   "metadata": {},
   "outputs": [],
   "source": [
    "class A: pass\n",
    "class B(A): pass\n",
    "class C(A): pass\n",
    "class BC(C, B): pass\n",
    "\n",
    "print(BC.mro())\n",
    "# BC.__mro__"
   ]
  },
  {
   "cell_type": "markdown",
   "metadata": {},
   "source": [
    "Дополнительно: [Порядок разрешения методов в Python](https://habr.com/ru/post/62203/)"
   ]
  },
  {
   "cell_type": "markdown",
   "metadata": {},
   "source": [
    "### <font color='blue'><u>Практическая работа</u></font>"
   ]
  },
  {
   "cell_type": "markdown",
   "metadata": {},
   "source": [
    "Создать класс `SchoolMember` который представляет любого человека в школе. \n",
    "Класс `Teacher` наследуется от `SchoolMember`.\n",
    "Класс `Student` наследуется от `SchoolMember`.\n",
    "Все классы должны иметь одинаковый интерфейс с публичной функцией `show()`.\n",
    "\n",
    "Пример:\n",
    "```python\n",
    ">>> persons = [Teacher(\"Mr.Poopybutthole\", 40, 3000), Student(\"Morty\", 16, 75)]\n",
    "\n",
    "(Создан SchoolMember: Mr.Poopybutthole)\n",
    "(Создан Teacher: Mr.Poopybutthole)\n",
    "(Создан SchoolMember: Morty)\n",
    "(Создан Student: Morty)\n",
    "\n",
    ">>> for person in persons:\n",
    "...     person.show()\n",
    "\n",
    "Name:\"Mr.Poopybutthole\", Age:40, Salary:3000\n",
    "Name:\"Morty\", Age:16, Grades: 75\n",
    "```"
   ]
  },
  {
   "cell_type": "markdown",
   "metadata": {},
   "source": [
    "***\n",
    "## 5. Подробнее о классах<a id=\"5\"></a>"
   ]
  },
  {
   "cell_type": "markdown",
   "metadata": {},
   "source": [
    "### Классы и `self`"
   ]
  },
  {
   "cell_type": "markdown",
   "metadata": {},
   "source": [
    "В отличие от Java и C++ в Python нет \"магического\" ключевого слова `this`. Первый аргумент конструктора `__init__` и всех остальных методов - экземпляр класса, который принято называть `self`.\n",
    "<br>Синтаксис языка не запрещает называть его по-другому, ***но так делать не рекомендуется***.\n",
    "\n",
    "В Python реализована явная передача ссылки на экземпляр: `self` — первый аргумент каждого метода."
   ]
  },
  {
   "cell_type": "code",
   "execution_count": null,
   "metadata": {},
   "outputs": [],
   "source": [
    "class Noop:\n",
    "    def __init__(notself, var):\n",
    "        notself.var = var\n",
    "        print(notself)\n",
    "    \n",
    "    def some_method(notself):\n",
    "        print(notself.var)\n",
    "\n",
    "noop = Noop(var=\"some var\")\n",
    "noop.some_method()"
   ]
  },
  {
   "cell_type": "markdown",
   "metadata": {},
   "source": [
    "### Классы, экземпляры и атрибуты"
   ]
  },
  {
   "cell_type": "markdown",
   "metadata": {},
   "source": [
    "Аналогично другим ООП языкам Python разделяет ***атрибуты экземпляра*** и ***атрибуты класса***.\n",
    "<br>*Атрибуты* добавляются к *экземпляру* посредством присваивания к `self` конструкцией вида: `self.some_attribute = value`\n",
    "<br>*Атрибуты класса* объявляются в теле класса или прямым присваиванием к классу."
   ]
  },
  {
   "cell_type": "code",
   "execution_count": null,
   "metadata": {},
   "outputs": [],
   "source": [
    "class ExampleClass:\n",
    "    class_attr = 11  # defined outside the constructor\n",
    "\n",
    "    def __init__(self, instance_attr=22):\n",
    "        self.instance_attr = instance_attr  # defined inside the constructor"
   ]
  },
  {
   "cell_type": "code",
   "execution_count": null,
   "metadata": {},
   "outputs": [],
   "source": [
    "ExampleClass().class_attr\n",
    "ExampleClass.class_attr"
   ]
  },
  {
   "cell_type": "code",
   "execution_count": null,
   "metadata": {},
   "outputs": [],
   "source": [
    "ExampleClass().instance_attr\n",
    "ExampleClass.instance_attr"
   ]
  },
  {
   "cell_type": "markdown",
   "metadata": {},
   "source": [
    "### Внутренние атрибуты классов и экземляров"
   ]
  },
  {
   "cell_type": "code",
   "execution_count": null,
   "metadata": {},
   "outputs": [],
   "source": [
    "class Noop:\n",
    "    \"\"\"I do nothing at all.\"\"\"\n",
    "    pass"
   ]
  },
  {
   "cell_type": "code",
   "execution_count": null,
   "metadata": {},
   "outputs": [],
   "source": [
    "print(Noop.__doc__    )  # docstring \n",
    "print(Noop.__name__   )  # name of class\n",
    "print(Noop.__module__ )  # module name\n",
    "print(Noop.__bases__  )  # parent classes"
   ]
  },
  {
   "cell_type": "code",
   "execution_count": null,
   "metadata": {},
   "outputs": [],
   "source": [
    "noop = Noop()\n",
    "print(noop.__class__)\n",
    "print(noop.__dict__)  # словарь атрибутов объекта\n",
    "pprint(dir(noop))"
   ]
  },
  {
   "cell_type": "markdown",
   "metadata": {},
   "source": [
    "### Подробнее о `__dict__`"
   ]
  },
  {
   "cell_type": "markdown",
   "metadata": {},
   "source": [
    "Все атрибуты объекта доступны в виде словаря"
   ]
  },
  {
   "cell_type": "code",
   "execution_count": null,
   "metadata": {},
   "outputs": [],
   "source": [
    "noop.some_attribute = 42\n",
    "noop.some_attribute\n",
    "\n",
    "def foo(): print(\"aaa\")\n",
    "\n",
    "noop.aaa = foo\n",
    "noop.__dict__\n",
    "noop.aaa()"
   ]
  },
  {
   "cell_type": "markdown",
   "metadata": {},
   "source": [
    "Очевидные следствия:\n",
    "Добавление, изменение и удаление атрибутов - это фактически операции со словарём.\n",
    "Поиск значения атрибута происходит динамически в момент выполнения программы."
   ]
  },
  {
   "cell_type": "code",
   "execution_count": null,
   "metadata": {},
   "outputs": [],
   "source": [
    "noop.__dict__[\"some_other_attribute\"] = 100_500\n",
    "noop.some_other_attribute"
   ]
  },
  {
   "cell_type": "markdown",
   "metadata": {},
   "source": [
    "Для доступа к словарю атрибутов можно также использовать функцию `vars`"
   ]
  },
  {
   "cell_type": "code",
   "execution_count": null,
   "metadata": {},
   "outputs": [],
   "source": [
    "vars(noop)"
   ]
  },
  {
   "cell_type": "markdown",
   "metadata": {},
   "source": [
    "### Классы и `__slots__`"
   ]
  },
  {
   "cell_type": "markdown",
   "metadata": {},
   "source": [
    "По умолчанию классы используют **словарь** для хранения атрибутов - это позволяет модифицировать набор атрибутов объекта прямо в ходе исполнения программы.\n",
    "Однако такой подход оказывается затратным для объектов, набор атрибутов которых невелик и/или ограничен. Это становится особенно заметно, когда создаётся большое количество экземпляров.\n",
    "<br>Поведение по умолчанию можно изменить, задав `__slots__` при определении класса. В `__slots__` могут быть перечислены атрибуты для значений которых требуется зарезервировать место (с точки зрения CPython в объекте класса резервируется место для массива указателей на Python-объекты).\n",
    "<br>При этом `__dict__` для экземпляров автоматически создан ***не будет*** (даже если в качестве значения строки указать пустую строку).\n",
    "<br>Мотивация использования `__slots__`:\n",
    "* Быстрый доступ к атрибутам\n",
    "* Меньший расход памяти"
   ]
  },
  {
   "cell_type": "code",
   "execution_count": null,
   "metadata": {},
   "outputs": [],
   "source": [
    "class Detail:\n",
    "    __slots__ = (\"idx\", \"name\", \"material\", \"weight\")\n",
    "    def __init__(self, idx, name):\n",
    "        self.idx=idx\n",
    "        self.name=name\n",
    "\n",
    "detail = Detail(idx=1, name=\"screw\")\n",
    "detail.material = \"metal\"\n",
    "print(detail.idx, detail.name, detail.material)"
   ]
  },
  {
   "cell_type": "code",
   "execution_count": null,
   "metadata": {},
   "outputs": [],
   "source": [
    "detail.weight = 0.1"
   ]
  },
  {
   "cell_type": "markdown",
   "metadata": {},
   "source": [
    "### Альтернативы `__slots__`:"
   ]
  },
  {
   "cell_type": "markdown",
   "metadata": {},
   "source": [
    "#### namedtuple"
   ]
  },
  {
   "cell_type": "code",
   "execution_count": null,
   "metadata": {},
   "outputs": [],
   "source": [
    "from collections import namedtuple\n",
    "\n",
    "Point = namedtuple('Point', ['x', 'y'])\n",
    "p = Point(x=11, y=22)\n",
    "p\n",
    "p.x = 33  # Immutable, can not be changed"
   ]
  },
  {
   "cell_type": "markdown",
   "metadata": {},
   "source": [
    "#### Data Classes"
   ]
  },
  {
   "cell_type": "code",
   "execution_count": null,
   "metadata": {},
   "outputs": [],
   "source": [
    "from dataclasses import dataclass\n",
    "\n",
    "@dataclass(frozen=True)\n",
    "class Book:\n",
    "    title: str\n",
    "    author: str\n",
    "\n",
    "    def name(self) -> str:\n",
    "        return f\"{self.title} by {self.author}\"\n",
    "\n",
    "book = Book(title=\"Fahrenheit 451\", author=\"Bradbury\")\n",
    "book\n",
    "book.author = \"Ray Bradbury\"  # Mutable by default, but it can changed with `frozen=True`\n",
    "book\n",
    "book.name()\n",
    "book.aabbcc = \"some\""
   ]
  },
  {
   "cell_type": "markdown",
   "metadata": {},
   "source": [
    "#### Attrs"
   ]
  },
  {
   "cell_type": "markdown",
   "metadata": {},
   "source": [
    "https://www.attrs.org/en/stable/\n",
    "<br>https://github.com/python-attrs/attrs"
   ]
  },
  {
   "cell_type": "markdown",
   "metadata": {},
   "source": [
    "***\n",
    "## 6. Декораторы<a id=\"6\"></a>"
   ]
  },
  {
   "cell_type": "markdown",
   "metadata": {},
   "source": [
    "### Свойства `@property`"
   ]
  },
  {
   "cell_type": "markdown",
   "metadata": {},
   "source": [
    "Механизм свойств позволяет объявлять атрибуты, значение которых вычисляется в момент обращения"
   ]
  },
  {
   "cell_type": "code",
   "execution_count": null,
   "metadata": {},
   "outputs": [],
   "source": [
    "class BigDataModel:\n",
    "    def __init__(self):\n",
    "        self._params = []\n",
    "\n",
    "    @property\n",
    "    def params(self):\n",
    "        return self._params\n",
    "\n",
    "    @params.setter\n",
    "    def params(self, new_params):\n",
    "        self._params = [x + 1 for x in new_params]\n",
    "\n",
    "    @params.deleter\n",
    "    def params(self):\n",
    "        print(\"I am deleter\")\n",
    "        del self._params\n",
    "\n",
    "model = BigDataModel()\n",
    "model.params = [0.1, 0.2, 0.3]\n",
    "model.params\n",
    "del model.params"
   ]
  },
  {
   "cell_type": "markdown",
   "metadata": {},
   "source": [
    "### Cтатические методы `@staticmethod`"
   ]
  },
  {
   "cell_type": "markdown",
   "metadata": {},
   "source": [
    "Декоратор `@staticmethod` позволяет объявить статический метод, то есть просто функцию, внутри класса.\n",
    "<br>В статичные методы, в отличие, скажем, от обычных или от `classmethod`, не передаётся первый аргумент неявным образом."
   ]
  },
  {
   "cell_type": "code",
   "execution_count": null,
   "metadata": {},
   "outputs": [],
   "source": [
    "class Some:\n",
    "    def regular_method(self):\n",
    "        return \"regular_method\"\n",
    "\n",
    "    @staticmethod\n",
    "    def static_method():\n",
    "        return \"static_method\"\n",
    "\n",
    "Some().static_method()\n",
    "Some.static_method()\n",
    "\n",
    "Some().regular_method()\n",
    "Some.regular_method()"
   ]
  },
  {
   "cell_type": "markdown",
   "metadata": {},
   "source": [
    "### Метод класса `@classmethod`"
   ]
  },
  {
   "cell_type": "markdown",
   "metadata": {},
   "source": [
    "Для объявления методов класса используется похожий декоратор `@classmethod`.\n",
    "<br>Первый аргумент метода класса — непосредственно сам класс, а не его экземпляр."
   ]
  },
  {
   "cell_type": "code",
   "execution_count": 13,
   "metadata": {},
   "outputs": [
    {
     "ename": "NameError",
     "evalue": "name 'Date' is not defined",
     "output_type": "error",
     "traceback": [
      "\u001b[1;31m---------------------------------------------------------------------------\u001b[0m",
      "\u001b[1;31mNameError\u001b[0m                                 Traceback (most recent call last)",
      "\u001b[1;32m<ipython-input-13-80bc1b865bc1>\u001b[0m in \u001b[0;36m<module>\u001b[1;34m\u001b[0m\n\u001b[1;32m----> 1\u001b[1;33m \u001b[1;32mclass\u001b[0m \u001b[0mDate\u001b[0m\u001b[1;33m:\u001b[0m\u001b[1;33m\u001b[0m\u001b[1;33m\u001b[0m\u001b[0m\n\u001b[0m\u001b[0;32m      2\u001b[0m     \u001b[1;32mdef\u001b[0m \u001b[0m__init__\u001b[0m\u001b[1;33m(\u001b[0m\u001b[0mself\u001b[0m\u001b[1;33m,\u001b[0m \u001b[0mday\u001b[0m\u001b[1;33m,\u001b[0m \u001b[0mmonth\u001b[0m\u001b[1;33m,\u001b[0m \u001b[0myear\u001b[0m\u001b[1;33m)\u001b[0m\u001b[1;33m:\u001b[0m\u001b[1;33m\u001b[0m\u001b[1;33m\u001b[0m\u001b[0m\n\u001b[0;32m      3\u001b[0m         \u001b[0mprint\u001b[0m\u001b[1;33m(\u001b[0m\u001b[1;34m\"__init__ called\"\u001b[0m\u001b[1;33m)\u001b[0m\u001b[1;33m\u001b[0m\u001b[1;33m\u001b[0m\u001b[0m\n\u001b[0;32m      4\u001b[0m         \u001b[0mself\u001b[0m\u001b[1;33m.\u001b[0m\u001b[0mday\u001b[0m \u001b[1;33m=\u001b[0m \u001b[0mday\u001b[0m\u001b[1;33m\u001b[0m\u001b[1;33m\u001b[0m\u001b[0m\n\u001b[0;32m      5\u001b[0m         \u001b[0mself\u001b[0m\u001b[1;33m.\u001b[0m\u001b[0mmonth\u001b[0m \u001b[1;33m=\u001b[0m \u001b[0mmonth\u001b[0m\u001b[1;33m\u001b[0m\u001b[1;33m\u001b[0m\u001b[0m\n",
      "\u001b[1;32m<ipython-input-13-80bc1b865bc1>\u001b[0m in \u001b[0;36mDate\u001b[1;34m()\u001b[0m\n\u001b[0;32m      7\u001b[0m \u001b[1;33m\u001b[0m\u001b[0m\n\u001b[0;32m      8\u001b[0m     \u001b[1;33m@\u001b[0m\u001b[0mclassmethod\u001b[0m\u001b[1;33m\u001b[0m\u001b[1;33m\u001b[0m\u001b[0m\n\u001b[1;32m----> 9\u001b[1;33m     \u001b[1;32mdef\u001b[0m \u001b[0mfrom_string\u001b[0m\u001b[1;33m(\u001b[0m\u001b[0mcls\u001b[0m\u001b[1;33m,\u001b[0m \u001b[0mdate_as_string\u001b[0m\u001b[1;33m)\u001b[0m \u001b[1;33m->\u001b[0m \u001b[0mDate\u001b[0m\u001b[1;33m:\u001b[0m\u001b[1;33m\u001b[0m\u001b[1;33m\u001b[0m\u001b[0m\n\u001b[0m\u001b[0;32m     10\u001b[0m         \u001b[0mprint\u001b[0m\u001b[1;33m(\u001b[0m\u001b[1;34mf\"CLS name: '{cls.__name__}'\"\u001b[0m\u001b[1;33m)\u001b[0m\u001b[1;33m\u001b[0m\u001b[1;33m\u001b[0m\u001b[0m\n\u001b[0;32m     11\u001b[0m         \u001b[0mday\u001b[0m\u001b[1;33m,\u001b[0m \u001b[0mmonth\u001b[0m\u001b[1;33m,\u001b[0m \u001b[0myear\u001b[0m \u001b[1;33m=\u001b[0m \u001b[0mmap\u001b[0m\u001b[1;33m(\u001b[0m\u001b[0mint\u001b[0m\u001b[1;33m,\u001b[0m \u001b[0mdate_as_string\u001b[0m\u001b[1;33m.\u001b[0m\u001b[0msplit\u001b[0m\u001b[1;33m(\u001b[0m\u001b[1;34m'-'\u001b[0m\u001b[1;33m)\u001b[0m\u001b[1;33m)\u001b[0m\u001b[1;33m\u001b[0m\u001b[1;33m\u001b[0m\u001b[0m\n",
      "\u001b[1;31mNameError\u001b[0m: name 'Date' is not defined"
     ]
    }
   ],
   "source": [
    "class Date:\n",
    "    def __init__(self, day, month, year):\n",
    "        print(\"__init__ called\")\n",
    "        self.day = day\n",
    "        self.month = month\n",
    "        self.year = year\n",
    "\n",
    "    @classmethod\n",
    "    def from_string(cls, date_as_string) -> Date:\n",
    "        print(f\"CLS name: '{cls.__name__}'\")\n",
    "        day, month, year = map(int, date_as_string.split('-'))\n",
    "        return cls(day, month, year)\n",
    "\n",
    "Date.from_string('11-09-2012')\n",
    "#Date().from_string('11-09-2012')"
   ]
  },
  {
   "cell_type": "code",
   "execution_count": null,
   "metadata": {},
   "outputs": [],
   "source": [
    "# При вызове метода из наследника в первом аргументе метод получит класс этого самого наследника.\n",
    "\n",
    "class DateTime(Date):\n",
    "    pass\n",
    "\n",
    "DateTime.from_string('11-09-2012')"
   ]
  },
  {
   "cell_type": "markdown",
   "metadata": {},
   "source": [
    "***\n",
    "## <font color='blue'><u>7. Домашнее задание</u></font><a id=\"7\"></a>"
   ]
  },
  {
   "cell_type": "markdown",
   "metadata": {},
   "source": [
    "Разработайте программу по следующему описанию и следуя принципам ООП.\n",
    "\n",
    "В некой игре-стратегии есть солдаты и герои (все они являются воинами).\n",
    "<br>У всех есть уникальный номер объекта и принадлежность к команде.\n",
    "<br>У солдат есть метод \"иду за героем\", который в качестве аргумента принимает объект типа \"герой\".\n",
    "<br>У героев есть метод увеличения собственного уровня.\n",
    "\n",
    "Всего существует 3 команды, каждая со своим цветом (`red`, `yellow`, `green`).\n",
    "<br>У каждой команды есть 1 свой герой.\n",
    "\n",
    "В цикле генерируются объекты-солдаты (1 000 шт).\n",
    "<br>Их принадлежность к команде определяется случайно.\n",
    "<br>Солдаты разных команд добавляются в разные списки.\n",
    "\n",
    "Измеряется длина списков солдат противоборствующих команд и выводится на экран.\n",
    "```\n",
    ">> Team 'red' has '315' soldiers.\n",
    ">> Team 'yellow' has '376' soldiers.\n",
    ">> Team 'green' has '309' soldiers.\n",
    ">> Team 'yellow' has more soldiers than others.\n",
    "```\n",
    "\n",
    "У героя, принадлежащего команде с более длинным списком, поднимается уровень на +1.\n",
    "<br>Изначально у каждого героя произвольный уровень от 0 до 1.\n",
    "<br>У солдат уровня нет.\n",
    "\n",
    "Для команды с героем максимального уровня создайте разведывательный отряд из героя и 3х произвольных солдат его команды, которые следуют за ним.\n",
    "<br>Выведите на экран состав участников отряда.\n",
    "```\n",
    ">> Scout: Soldier(idx=56, color=yellow, hero=Hero(idx=1, color=yellow, level=2))\n",
    ">> Scout: Soldier(idx=505, color=yellow, hero=Hero(idx=1, color=yellow, level=2))\n",
    ">> Scout: Soldier(idx=770, color=yellow, hero=Hero(idx=1, color=yellow, level=2))\n",
    ">> Scout: Hero(idx=1, color=yellow, level=2)\n",
    "```\n",
    "(Для красивого вывода можно переписать метод `__repr__`.)\n",
    "\n",
    "На этом подготовка к битве закончена.\n",
    "\n",
    "Для базовой проверки и форматирования кода используйте: `isort`, `black`, `pylint`.\n",
    "<br>ДЗ нужно выполнить до следующей лекции."
   ]
  },
  {
   "cell_type": "markdown",
   "metadata": {},
   "source": [
    "<center>🐍</center>"
   ]
  }
 ],
 "metadata": {
  "authors": [
   {
    "name": "Aleksandr Koriagin <Aleksandr_Koriagin@epam.com>"
   }
  ],
  "kernelspec": {
   "display_name": "Python 3",
   "language": "python",
   "name": "python3"
  },
  "language_info": {
   "codemirror_mode": {
    "name": "ipython",
    "version": 3
   },
   "file_extension": ".py",
   "mimetype": "text/x-python",
   "name": "python",
   "nbconvert_exporter": "python",
   "pygments_lexer": "ipython3",
   "version": "3.7.6"
  }
 },
 "nbformat": 4,
 "nbformat_minor": 2
}
