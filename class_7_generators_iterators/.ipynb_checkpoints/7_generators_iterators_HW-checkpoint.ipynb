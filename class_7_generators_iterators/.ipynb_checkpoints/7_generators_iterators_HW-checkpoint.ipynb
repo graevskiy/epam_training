{
 "cells": [
  {
   "cell_type": "code",
   "execution_count": 1,
   "metadata": {},
   "outputs": [
    {
     "name": "stdout",
     "output_type": "stream",
     "text": [
      "-done-\n"
     ]
    }
   ],
   "source": [
    "# -- run me first --\n",
    "from pprint import pprint  # for pretty printing\n",
    "# display all outputs, not only last one\n",
    "from IPython.core.interactiveshell import InteractiveShell\n",
    "InteractiveShell.ast_node_interactivity = \"all\"\n",
    "print(\"-done-\")"
   ]
  },
  {
   "cell_type": "markdown",
   "metadata": {},
   "source": [
    "<center>🐍</center>"
   ]
  },
  {
   "cell_type": "markdown",
   "metadata": {},
   "source": [
    "***\n",
    "# 7. Генераторы и Итераторы - Домашнее задание\n",
    "<div style=\"text-align: right; font-weight: bold\">Aleksandr Koriagin</div>\n",
    "<div style=\"text-align: right; font-weight: bold\"><span style=\"color: #76CDD8;\">&lt;</span>epam<span style=\"color: #76CDD8;\">&gt;</span></div>\n",
    "<div style=\"text-align: right; font-weight: bold\">May 2020</div>\n",
    "<div style=\"text-align: right; font-style: italic\">Nizhny Novgorod</div>"
   ]
  },
  {
   "cell_type": "markdown",
   "metadata": {},
   "source": [
    "***\n",
    "### HW 1"
   ]
  },
  {
   "cell_type": "code",
   "execution_count": 2,
   "metadata": {},
   "outputs": [],
   "source": [
    "input_data = (\n",
    "    [['A', 'B', 'C'], [1, 2, 3], (22, 33, 44, 55, 66)],\n",
    "    ['defghijk', [9, 10, 11], (99, 88, 77, 66, 55)],\n",
    "    [range(10), range(20)],\n",
    "    [range(10)],\n",
    "    [range(10), range(100_000_000_000_000_000), range(5)],\n",
    ")"
   ]
  },
  {
   "cell_type": "code",
   "execution_count": 3,
   "metadata": {},
   "outputs": [
    {
     "name": "stdout",
     "output_type": "stream",
     "text": [
      "[('A', 1, 22), ('B', 2, 33), ('C', 3, 44)]\n",
      "[('d', 9, 99), ('e', 10, 88), ('f', 11, 77)]\n",
      "[(0, 0), (1, 1), (2, 2), (3, 3), (4, 4), (5, 5), (6, 6), (7, 7), (8, 8), (9, 9)]\n",
      "[(0,), (1,), (2,), (3,), (4,), (5,), (6,), (7,), (8,), (9,)]\n",
      "[(0, 0, 0), (1, 1, 1), (2, 2, 2), (3, 3, 3), (4, 4, 4)]\n"
     ]
    }
   ],
   "source": [
    "def CustomZip(*args):\n",
    "    iterators = [iter(arg) for arg in args]\n",
    "    while True:\n",
    "        values = []\n",
    "        for val in iterators:\n",
    "            try:\n",
    "                value = next(val)\n",
    "            except StopIteration:\n",
    "                return\n",
    "            values.append(value)\n",
    "        yield tuple(values)\n",
    "\n",
    "\n",
    "for i in input_data:\n",
    "    print(list(CustomZip(*i)))"
   ]
  },
  {
   "cell_type": "markdown",
   "metadata": {},
   "source": [
    "#### Other interesting"
   ]
  },
  {
   "cell_type": "code",
   "execution_count": 4,
   "metadata": {},
   "outputs": [
    {
     "name": "stdout",
     "output_type": "stream",
     "text": [
      "CustomZip1 ==> [('A', 1, 22), ('B', 2, 33), ('C', 3, 44)]\n",
      "CustomZip2 ==> [('A', 1, 22), ('B', 2, 33), ('C', 3, 44)]\n",
      "CustomZip3 ==> [('A', 1, 22), ('B', 2, 33), ('C', 3, 44)]\n",
      "CustomZip4 ==> [('A', 1, 22), ('B', 2, 33), ('C', 3, 44)]\n",
      "CustomZip5 ==> [('A', 1, 22), ('B', 2, 33), ('C', 3, 44)]\n",
      "CustomZip1 ==> [('d', 9, 99), ('e', 10, 88), ('f', 11, 77)]\n",
      "CustomZip2 ==> [('d', 9, 99), ('e', 10, 88), ('f', 11, 77)]\n",
      "CustomZip3 ==> [('d', 9, 99), ('e', 10, 88), ('f', 11, 77)]\n",
      "CustomZip4 ==> [('d', 9, 99), ('e', 10, 88), ('f', 11, 77)]\n",
      "CustomZip5 ==> [('d', 9, 99), ('e', 10, 88), ('f', 11, 77)]\n",
      "CustomZip1 ==> [(0, 0), (1, 1), (2, 2), (3, 3), (4, 4), (5, 5), (6, 6), (7, 7), (8, 8), (9, 9)]\n",
      "CustomZip2 ==> [(0, 0), (1, 1), (2, 2), (3, 3), (4, 4), (5, 5), (6, 6), (7, 7), (8, 8), (9, 9)]\n",
      "CustomZip3 ==> [(0, 0), (1, 1), (2, 2), (3, 3), (4, 4), (5, 5), (6, 6), (7, 7), (8, 8), (9, 9)]\n",
      "CustomZip4 ==> [(0, 0), (1, 1), (2, 2), (3, 3), (4, 4), (5, 5), (6, 6), (7, 7), (8, 8), (9, 9)]\n",
      "CustomZip5 ==> [(0, 0), (1, 1), (2, 2), (3, 3), (4, 4), (5, 5), (6, 6), (7, 7), (8, 8), (9, 9)]\n",
      "CustomZip1 ==> [(0,), (1,), (2,), (3,), (4,), (5,), (6,), (7,), (8,), (9,)]\n",
      "CustomZip2 ==> [(0,), (1,), (2,), (3,), (4,), (5,), (6,), (7,), (8,), (9,)]\n",
      "CustomZip3 ==> [(0,), (1,), (2,), (3,), (4,), (5,), (6,), (7,), (8,), (9,)]\n",
      "CustomZip4 ==> [(0,), (1,), (2,), (3,), (4,), (5,), (6,), (7,), (8,), (9,)]\n",
      "CustomZip5 ==> [(0,), (1,), (2,), (3,), (4,), (5,), (6,), (7,), (8,), (9,)]\n",
      "CustomZip1 ==> [(0, 0, 0), (1, 1, 1), (2, 2, 2), (3, 3, 3), (4, 4, 4)]\n",
      "CustomZip2 ==> [(0, 0, 0), (1, 1, 1), (2, 2, 2), (3, 3, 3), (4, 4, 4)]\n",
      "CustomZip3 ==> [(0, 0, 0), (1, 1, 1), (2, 2, 2), (3, 3, 3), (4, 4, 4)]\n",
      "CustomZip4 ==> [(0, 0, 0), (1, 1, 1), (2, 2, 2), (3, 3, 3), (4, 4, 4)]\n",
      "CustomZip5 ==> [(0, 0, 0), (1, 1, 1), (2, 2, 2), (3, 3, 3), (4, 4, 4)]\n"
     ]
    }
   ],
   "source": [
    "from typing import Tuple, List\n",
    "\n",
    "\n",
    "def CustomZip1(*args):\n",
    "    i = 0\n",
    "    while i < min(map(len, args)):\n",
    "        yield tuple([x[i] for x in args])\n",
    "        i += 1\n",
    "\n",
    "\n",
    "def CustomZip2(*args):\n",
    "    m = min(len(arg) for arg in args)\n",
    "    for i in range(0, m):\n",
    "      yield tuple(arg[i] for arg in args)\n",
    "\n",
    "\n",
    "def CustomZip3(*args):\n",
    "    iter_containers = [iter(x) for x in args]\n",
    "    while True:\n",
    "        try:\n",
    "            yield tuple([next(x) for x in iter_containers])\n",
    "        except StopIteration:\n",
    "            return None\n",
    "\n",
    "\n",
    "def CustomZip4(*args: (List, Tuple)) -> List[Tuple]:\n",
    "    iterators = [iter(x) for x in args]\n",
    "    for _ in range(min(len(x) for x in args)):\n",
    "        yield tuple(next(x) for x in iterators)\n",
    "\n",
    "\n",
    "class CustomZip5:\n",
    "    def __init__(self, *args):\n",
    "        self.iterators = [iter(x) for x in args]\n",
    "\n",
    "    def __iter__(self):\n",
    "        return self\n",
    "\n",
    "    def __next__(self):\n",
    "        current_group = []\n",
    "        for item in self.iterators:\n",
    "            try:\n",
    "                current_group.append(next(item))\n",
    "            except StopIteration:\n",
    "                raise\n",
    "        return tuple(current_group)\n",
    "\n",
    "handlers = (CustomZip1, CustomZip2, CustomZip3, CustomZip4, CustomZip5)\n",
    "for i in input_data:\n",
    "    for handler in handlers:\n",
    "        print(f\"{handler.__name__} ==> {list(handler(*i))}\")"
   ]
  },
  {
   "cell_type": "markdown",
   "metadata": {},
   "source": [
    "### HW 2"
   ]
  },
  {
   "cell_type": "code",
   "execution_count": 5,
   "metadata": {},
   "outputs": [
    {
     "name": "stdout",
     "output_type": "stream",
     "text": [
      "[10, 12, 14, 16, 18, 20, 22, 24, 26, 28, 30, 32, 34, 36]\n",
      "[10, 12, 14, 16, 18, 20, 22, 24, 26, 28, 30, 32, 34, 36]\n",
      "[10, 12, 14, 16, 18, 20, 22, 24, 26, 28, 30, 32, 34, 36]\n",
      "[10, 12, 14, 16, 18, 20, 22, 24, 26, 28, 30, 32, 34, 36]\n",
      "[10, 12, 14, 16, 18, 20, 22, 24, 26, 28, 30, 32, 34, 36]\n"
     ]
    }
   ],
   "source": [
    "from typing import Generator\n",
    "from typing import List\n",
    "\n",
    "\n",
    "VALUES = [\n",
    "    [[10, 11, 12], [13, 14, 15], [16, 17, 18]],\n",
    "    [[19, 20, 21], [22, 23, 24], [25, 26, 27]],\n",
    "    [[28, 29, 30], [31, 32, 33], [34, 35, 36]],\n",
    "]\n",
    "\n",
    "\n",
    "def get_even_for_loop(values: List) -> List[int]:\n",
    "    \"\"\"Return all even numbers using classical for loop.\n",
    "    :param values: input list of lists with values\n",
    "    :return: list with int values\n",
    "    \"\"\"\n",
    "    # OR itertools.chain.from_iterable()\n",
    "    res = []\n",
    "    for a in values:\n",
    "        for b in a:\n",
    "            for c in b:\n",
    "                if c % 2 == 0:\n",
    "                    res.append(c)\n",
    "    return res\n",
    "\n",
    "\n",
    "def get_even_for_loop_iterator(values: List) -> Generator:\n",
    "    \"\"\"Return all even numbers using classical for loop.\n",
    "    :param values: input list of lists with values\n",
    "    :return: generator with int values\n",
    "    \"\"\"\n",
    "    for a in values:\n",
    "        for b in a:\n",
    "            for c in b:\n",
    "                if c % 2 == 0:\n",
    "                    yield c\n",
    "\n",
    "\n",
    "def get_even_for_loop_iterator2(values: List) -> Generator:\n",
    "    \"\"\"Return all even numbers using classical for loop.\n",
    "    /Kirill Graevskiy/\n",
    "    \"\"\"\n",
    "    for i in values:\n",
    "        if isinstance(i, list):\n",
    "            yield from get_even_for_loop_iterator2(i)\n",
    "        else:\n",
    "            if i % 2 == 0:\n",
    "                yield i                    \n",
    "\n",
    "def get_even_for_loop_iterator3(values: List) -> Generator:\n",
    "    \"\"\"Return all even numbers using classical for loop.\n",
    "    /Dmitrii Martynov/\n",
    "    \"\"\"\n",
    "    yield from filter(lambda x: x % 2 == 0, sum(sum(values, []), []))                \n",
    "\n",
    "\n",
    "def get_even_list_comprehension(values: List) -> List[int]:\n",
    "    \"\"\"Return all even numbers in ONE LINE using list comprehension.\n",
    "    :param values: input list of lists with values\n",
    "    :return: list with int values\n",
    "    \"\"\"\n",
    "    return [c for a in values for b in a for c in b if c % 2 == 0]\n",
    "\n",
    "\n",
    "print(get_even_for_loop(VALUES))\n",
    "print(list(get_even_for_loop_iterator(VALUES)))\n",
    "print(list(get_even_for_loop_iterator2(VALUES)))\n",
    "print(list(get_even_for_loop_iterator3(VALUES)))\n",
    "print(get_even_list_comprehension(VALUES))"
   ]
  },
  {
   "cell_type": "markdown",
   "metadata": {},
   "source": [
    "<center>🐍</center>"
   ]
  }
 ],
 "metadata": {
  "authors": [
   {
    "name": "Aleksandr Koriagin <Aleksandr_Koriagin@epam.com>"
   }
  ],
  "kernelspec": {
   "display_name": "Python 3",
   "language": "python",
   "name": "python3"
  },
  "language_info": {
   "codemirror_mode": {
    "name": "ipython",
    "version": 3
   },
   "file_extension": ".py",
   "mimetype": "text/x-python",
   "name": "python",
   "nbconvert_exporter": "python",
   "pygments_lexer": "ipython3",
   "version": "3.7.6"
  }
 },
 "nbformat": 4,
 "nbformat_minor": 2
}
