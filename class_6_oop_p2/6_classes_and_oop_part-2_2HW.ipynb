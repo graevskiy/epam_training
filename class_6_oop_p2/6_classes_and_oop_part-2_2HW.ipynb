{
 "cells": [
  {
   "cell_type": "code",
   "execution_count": null,
   "metadata": {},
   "outputs": [],
   "source": [
    "# -- run me first --\n",
    "from pprint import pprint  # for pretty printing\n",
    "# display all outputs, not only last one\n",
    "from IPython.core.interactiveshell import InteractiveShell\n",
    "InteractiveShell.ast_node_interactivity = \"all\"\n",
    "print(\"-done-\")"
   ]
  },
  {
   "cell_type": "markdown",
   "metadata": {},
   "source": [
    "<center>🐍</center>"
   ]
  },
  {
   "cell_type": "markdown",
   "metadata": {},
   "source": [
    "***\n",
    "# 6. Классы и ООП. Часть 2 - Домашняя работа\n",
    "<div style=\"text-align: right; font-weight: bold\">Aleksandr Koriagin</div>\n",
    "<div style=\"text-align: right; font-weight: bold\"><span style=\"color: #76CDD8;\">&lt;</span>epam<span style=\"color: #76CDD8;\">&gt;</span></div>\n",
    "<div style=\"text-align: right; font-weight: bold\">May 2020</div>\n",
    "<div style=\"text-align: right; font-style: italic\">Nizhny Novgorod</div>"
   ]
  },
  {
   "cell_type": "markdown",
   "metadata": {},
   "source": [
    "***\n",
    "### HomeWork"
   ]
  },
  {
   "cell_type": "code",
   "execution_count": 7,
   "metadata": {},
   "outputs": [
    {
     "name": "stdout",
     "output_type": "stream",
     "text": [
      "e = 100 EUR\n",
      "e.to(Dollar) ==> 200.0 USD\n",
      "e.to(Rubble) ==> 10000.0 RUB\n",
      "e.to(Euro)   ==> 100.0 EUR\n",
      "\n",
      "Euro.course(Rubble)   ==> 100.0 RUB for 1 EUR\n",
      "Dollar.course(Rubble) ==> 50.0 RUB for 1 USD\n",
      "Rubble.course(Euro)   ==> 0.01 EUR for 1 RUB\n",
      "\n",
      "r = 100 RUB\n",
      "r.to(Dollar) ==> 2.0 USD\n",
      "r.to(Euro)   ==> 1.0 EUR\n",
      "r.to(Rubble) ==> 100.0 RUB\n",
      "\n",
      "e > r  ==> True\n",
      "e == d ==> True\n",
      "\n",
      "e + r  =>  101.0 EUR\n",
      "r + d  =>  10100.0 RUB\n",
      "d + e  =>  400.0 USD\n",
      "\n",
      "10.0 EUR\n"
     ]
    }
   ],
   "source": [
    "from abc import ABC\n",
    "from abc import abstractmethod\n",
    "import functools\n",
    "\n",
    "\n",
    "@functools.total_ordering\n",
    "class Currency(ABC):\n",
    "\n",
    "    @property\n",
    "    @abstractmethod\n",
    "    def label(self):\n",
    "        pass\n",
    "\n",
    "    @property\n",
    "    @abstractmethod\n",
    "    def usd_rate(self):\n",
    "        pass\n",
    "\n",
    "    def __init__(self, value: int):\n",
    "        self.value = value\n",
    "\n",
    "    def __add__(self, other):\n",
    "        new_val = self.value + other.to(self.__class__).value\n",
    "        return self.__class__(new_val)\n",
    "\n",
    "    def __radd__(self, other):\n",
    "        new_val = self.value + other\n",
    "        return self.__class__(new_val)\n",
    "\n",
    "    def __eq__(self, other):\n",
    "        return self._usd_val == other._usd_val\n",
    "\n",
    "    def __lt__(self, other):\n",
    "        return self._usd_val < other._usd_val\n",
    "\n",
    "    def __repr__(self):\n",
    "        return f\"{self.value} {self.label}\"\n",
    "\n",
    "    @property\n",
    "    def _usd_val(self) -> int:\n",
    "        return self.value * self.usd_rate\n",
    "\n",
    "    @classmethod\n",
    "    def course(cls, other_cls) -> str:\n",
    "        return f\"{cls(1).to(other_cls)} for 1 {cls.label}\"\n",
    "\n",
    "    def to(self, other_cls) -> \"Currency\":\n",
    "        new_currency_val = self._usd_val / other_cls.usd_rate\n",
    "        return other_cls(new_currency_val)\n",
    "\n",
    "\n",
    "class Euro(Currency):\n",
    "    label = \"EUR\"\n",
    "    usd_rate = 2  # 1EUR == 2USD\n",
    "\n",
    "\n",
    "class Dollar(Currency):\n",
    "    label = \"USD\"\n",
    "    usd_rate = 1  # 1USD == 1USD\n",
    "\n",
    "\n",
    "class Rubble(Currency):\n",
    "    label = \"RUB\"\n",
    "    usd_rate = 0.02  # 1RUB == 0.02USD\n",
    "\n",
    "\n",
    "e = Euro(100)\n",
    "r = Rubble(100)\n",
    "d = Dollar(200)\n",
    "\n",
    "print(\n",
    "    f\"e = {e}\\n\"\n",
    "    f\"e.to(Dollar) ==> {e.to(Dollar)}\\n\"\n",
    "    f\"e.to(Rubble) ==> {e.to(Rubble)}\\n\"\n",
    "    f\"e.to(Euro)   ==> {e.to(Euro)}\\n\"\n",
    ")\n",
    "# e = 100 EUR\n",
    "# e.to(Dollar) ==> 200.0 USD\n",
    "# e.to(Rubble) ==> 10000.0 RUB\n",
    "# e.to(Euro)   ==> 100.0 EUR\n",
    "\n",
    "print(\n",
    "    f\"Euro.course(Rubble)   ==> {Euro.course(Rubble)}\\n\"\n",
    "    f\"Dollar.course(Rubble) ==> {Dollar.course(Rubble)}\\n\"\n",
    "    f\"Rubble.course(Euro)   ==> {Rubble.course(Euro)}\\n\"\n",
    ")\n",
    "# Euro.course(Rubble)   ==> 100.0 RUB for 1 EUR\n",
    "# Dollar.course(Rubble) ==> 50.0 RUB for 1 USD\n",
    "# Rubble.course(Euro)   ==> 0.01 EUR for 1 RUB\n",
    "\n",
    "print(\n",
    "    f\"r = {r}\\n\"\n",
    "    f\"r.to(Dollar) ==> {r.to(Dollar)}\\n\"\n",
    "    f\"r.to(Euro)   ==> {r.to(Euro)}\\n\"\n",
    "    f\"r.to(Rubble) ==> {r.to(Rubble)}\\n\"\n",
    ")\n",
    "# r = 100 RUB\n",
    "# r.to(Dollar) ==> 2.0 USD\n",
    "# r.to(Euro)   ==> 1.0 EUR\n",
    "# r.to(Rubble) ==> 100.0 RUB\n",
    "\n",
    "print(\n",
    "    f\"e > r  ==> {e > r}\\n\"\n",
    "    f\"e == d ==> {e == d}\\n\"\n",
    ")\n",
    "# e > r  ==> True\n",
    "# e == d ==> True\n",
    "\n",
    "print(\n",
    "    f\"e + r  =>  {e + r}\\n\"\n",
    "    f\"r + d  =>  {r + d}\\n\"\n",
    "    f\"d + e  =>  {d + e}\\n\"\n",
    ")\n",
    "# e + r  =>  101.0 EUR\n",
    "# r + d  =>  10100.0 RUB\n",
    "# d + e  =>  400.0 USD\n",
    "\n",
    "print(sum([Euro(i) for i in range(5)]))\n",
    "# 10.0 EUR"
   ]
  },
  {
   "cell_type": "markdown",
   "metadata": {},
   "source": [
    "<center>🐍</center>"
   ]
  }
 ],
 "metadata": {
  "authors": [
   {
    "name": "Aleksandr Koriagin <Aleksandr_Koriagin@epam.com>"
   }
  ],
  "kernelspec": {
   "display_name": "Python 3",
   "language": "python",
   "name": "python3"
  },
  "language_info": {
   "codemirror_mode": {
    "name": "ipython",
    "version": 3
   },
   "file_extension": ".py",
   "mimetype": "text/x-python",
   "name": "python",
   "nbconvert_exporter": "python",
   "pygments_lexer": "ipython3",
   "version": "3.7.6"
  }
 },
 "nbformat": 4,
 "nbformat_minor": 2
}
